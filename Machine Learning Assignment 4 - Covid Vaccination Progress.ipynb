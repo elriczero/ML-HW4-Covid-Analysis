{
 "cells": [
  {
   "cell_type": "markdown",
   "id": "dafb3b66",
   "metadata": {},
   "source": [
    "__Teammates__\n",
    "\n",
    "* Jorge Armando Jimenez\n",
    "\n",
    "* Salvador Pluma\n",
    "\n",
    "* Emmanuel de la Cruz"
   ]
  },
  {
   "cell_type": "markdown",
   "id": "42963842",
   "metadata": {},
   "source": [
    "__Instructions__:\n",
    "\n",
    "1. You will work on one of the datasets available on kaggle repository around COVID-19 (https://www.kaggle.com/). See the document  Descargar documentfor detailed specifications and chose a specific challenge.\n",
    "\n",
    "2. Develop a Python notebook (file with termination “ipynb”), which will include the application of three classifiers, using the sklearn library, and eventually using a percentage T% of the samples.\n",
    "\n",
    "3. Describe the learning process and the test results in a very well explained notebook that includes title, authors, summary, description of the work done (here will be the code), results (of the performance tests and their explanation), discussion and conclusions, with bibliographic references at the end.\n"
   ]
  },
  {
   "cell_type": "markdown",
   "id": "0716a922",
   "metadata": {},
   "source": [
    "__Importing Libraries__"
   ]
  },
  {
   "cell_type": "code",
   "execution_count": 2,
   "id": "3d6ef72f",
   "metadata": {},
   "outputs": [
    {
     "data": {
      "text/html": [
       "        <script type=\"text/javascript\">\n",
       "        window.PlotlyConfig = {MathJaxConfig: 'local'};\n",
       "        if (window.MathJax) {MathJax.Hub.Config({SVG: {font: \"STIX-Web\"}});}\n",
       "        if (typeof require !== 'undefined') {\n",
       "        require.undef(\"plotly\");\n",
       "        requirejs.config({\n",
       "            paths: {\n",
       "                'plotly': ['https://cdn.plot.ly/plotly-2.9.0.min']\n",
       "            }\n",
       "        });\n",
       "        require(['plotly'], function(Plotly) {\n",
       "            window._Plotly = Plotly;\n",
       "        });\n",
       "        }\n",
       "        </script>\n",
       "        "
      ]
     },
     "metadata": {},
     "output_type": "display_data"
    }
   ],
   "source": [
    "# Basic Libs\n",
    "import numpy as np\n",
    "import matplotlib.pyplot as plt \n",
    "import matplotlib.colors as mcolors\n",
    "import pandas as pd\n",
    "from scipy import stats\n",
    "import seaborn as sns\n",
    "\n",
    "# Sklearn\n",
    "from sklearn.preprocessing import LabelEncoder\n",
    "from sklearn.linear_model import LinearRegression, BayesianRidge\n",
    "from sklearn.model_selection import RandomizedSearchCV, train_test_split,  cross_val_score\n",
    "from sklearn.preprocessing import PolynomialFeatures\n",
    "from sklearn.svm import SVR\n",
    "from sklearn.metrics import mean_squared_error, mean_absolute_error, classification_report, confusion_matrix\n",
    "\n",
    "# Plotting libs\n",
    "import plotly.io as pio\n",
    "import plotly.express as px\n",
    "import plotly.graph_objects as go\n",
    "from plotly.subplots import make_subplots\n",
    "from plotly.offline import init_notebook_mode, iplot\n",
    "init_notebook_mode(connected=True)\n",
    "pio.templates.default = \"none\"\n",
    "\n",
    "# Avoid Warnings\n",
    "import warnings\n",
    "warnings.filterwarnings('ignore')\n",
    "\n",
    "import os\n",
    "for dirname, _, filenames in os.walk('/kaggle/input'):\n",
    "    for filename in filenames:\n",
    "        print(os.path.join(dirname, filename))"
   ]
  },
  {
   "cell_type": "markdown",
   "id": "69bebb16",
   "metadata": {},
   "source": [
    "__Loading data__"
   ]
  },
  {
   "cell_type": "code",
   "execution_count": 3,
   "id": "ecd29f0e",
   "metadata": {},
   "outputs": [],
   "source": [
    "data = pd.read_csv('./input/kaggle/country_vaccinations.csv')"
   ]
  },
  {
   "cell_type": "code",
   "execution_count": 4,
   "id": "e3dead5e",
   "metadata": {},
   "outputs": [
    {
     "data": {
      "text/html": [
       "<div>\n",
       "<style scoped>\n",
       "    .dataframe tbody tr th:only-of-type {\n",
       "        vertical-align: middle;\n",
       "    }\n",
       "\n",
       "    .dataframe tbody tr th {\n",
       "        vertical-align: top;\n",
       "    }\n",
       "\n",
       "    .dataframe thead th {\n",
       "        text-align: right;\n",
       "    }\n",
       "</style>\n",
       "<table border=\"1\" class=\"dataframe\">\n",
       "  <thead>\n",
       "    <tr style=\"text-align: right;\">\n",
       "      <th></th>\n",
       "      <th>country</th>\n",
       "      <th>iso_code</th>\n",
       "      <th>date</th>\n",
       "      <th>total_vaccinations</th>\n",
       "      <th>people_vaccinated</th>\n",
       "      <th>people_fully_vaccinated</th>\n",
       "      <th>daily_vaccinations_raw</th>\n",
       "      <th>daily_vaccinations</th>\n",
       "      <th>total_vaccinations_per_hundred</th>\n",
       "      <th>people_vaccinated_per_hundred</th>\n",
       "      <th>people_fully_vaccinated_per_hundred</th>\n",
       "      <th>daily_vaccinations_per_million</th>\n",
       "      <th>vaccines</th>\n",
       "      <th>source_name</th>\n",
       "      <th>source_website</th>\n",
       "    </tr>\n",
       "  </thead>\n",
       "  <tbody>\n",
       "    <tr>\n",
       "      <th>0</th>\n",
       "      <td>Afghanistan</td>\n",
       "      <td>AFG</td>\n",
       "      <td>2021-02-22</td>\n",
       "      <td>0.0</td>\n",
       "      <td>0.0</td>\n",
       "      <td>NaN</td>\n",
       "      <td>NaN</td>\n",
       "      <td>NaN</td>\n",
       "      <td>0.0</td>\n",
       "      <td>0.0</td>\n",
       "      <td>NaN</td>\n",
       "      <td>NaN</td>\n",
       "      <td>Johnson&amp;Johnson, Oxford/AstraZeneca, Pfizer/Bi...</td>\n",
       "      <td>World Health Organization</td>\n",
       "      <td>https://covid19.who.int/</td>\n",
       "    </tr>\n",
       "    <tr>\n",
       "      <th>1</th>\n",
       "      <td>Afghanistan</td>\n",
       "      <td>AFG</td>\n",
       "      <td>2021-02-23</td>\n",
       "      <td>NaN</td>\n",
       "      <td>NaN</td>\n",
       "      <td>NaN</td>\n",
       "      <td>NaN</td>\n",
       "      <td>1367.0</td>\n",
       "      <td>NaN</td>\n",
       "      <td>NaN</td>\n",
       "      <td>NaN</td>\n",
       "      <td>34.0</td>\n",
       "      <td>Johnson&amp;Johnson, Oxford/AstraZeneca, Pfizer/Bi...</td>\n",
       "      <td>World Health Organization</td>\n",
       "      <td>https://covid19.who.int/</td>\n",
       "    </tr>\n",
       "    <tr>\n",
       "      <th>2</th>\n",
       "      <td>Afghanistan</td>\n",
       "      <td>AFG</td>\n",
       "      <td>2021-02-24</td>\n",
       "      <td>NaN</td>\n",
       "      <td>NaN</td>\n",
       "      <td>NaN</td>\n",
       "      <td>NaN</td>\n",
       "      <td>1367.0</td>\n",
       "      <td>NaN</td>\n",
       "      <td>NaN</td>\n",
       "      <td>NaN</td>\n",
       "      <td>34.0</td>\n",
       "      <td>Johnson&amp;Johnson, Oxford/AstraZeneca, Pfizer/Bi...</td>\n",
       "      <td>World Health Organization</td>\n",
       "      <td>https://covid19.who.int/</td>\n",
       "    </tr>\n",
       "    <tr>\n",
       "      <th>3</th>\n",
       "      <td>Afghanistan</td>\n",
       "      <td>AFG</td>\n",
       "      <td>2021-02-25</td>\n",
       "      <td>NaN</td>\n",
       "      <td>NaN</td>\n",
       "      <td>NaN</td>\n",
       "      <td>NaN</td>\n",
       "      <td>1367.0</td>\n",
       "      <td>NaN</td>\n",
       "      <td>NaN</td>\n",
       "      <td>NaN</td>\n",
       "      <td>34.0</td>\n",
       "      <td>Johnson&amp;Johnson, Oxford/AstraZeneca, Pfizer/Bi...</td>\n",
       "      <td>World Health Organization</td>\n",
       "      <td>https://covid19.who.int/</td>\n",
       "    </tr>\n",
       "    <tr>\n",
       "      <th>4</th>\n",
       "      <td>Afghanistan</td>\n",
       "      <td>AFG</td>\n",
       "      <td>2021-02-26</td>\n",
       "      <td>NaN</td>\n",
       "      <td>NaN</td>\n",
       "      <td>NaN</td>\n",
       "      <td>NaN</td>\n",
       "      <td>1367.0</td>\n",
       "      <td>NaN</td>\n",
       "      <td>NaN</td>\n",
       "      <td>NaN</td>\n",
       "      <td>34.0</td>\n",
       "      <td>Johnson&amp;Johnson, Oxford/AstraZeneca, Pfizer/Bi...</td>\n",
       "      <td>World Health Organization</td>\n",
       "      <td>https://covid19.who.int/</td>\n",
       "    </tr>\n",
       "  </tbody>\n",
       "</table>\n",
       "</div>"
      ],
      "text/plain": [
       "       country iso_code        date  total_vaccinations  people_vaccinated  \\\n",
       "0  Afghanistan      AFG  2021-02-22                 0.0                0.0   \n",
       "1  Afghanistan      AFG  2021-02-23                 NaN                NaN   \n",
       "2  Afghanistan      AFG  2021-02-24                 NaN                NaN   \n",
       "3  Afghanistan      AFG  2021-02-25                 NaN                NaN   \n",
       "4  Afghanistan      AFG  2021-02-26                 NaN                NaN   \n",
       "\n",
       "   people_fully_vaccinated  daily_vaccinations_raw  daily_vaccinations  \\\n",
       "0                      NaN                     NaN                 NaN   \n",
       "1                      NaN                     NaN              1367.0   \n",
       "2                      NaN                     NaN              1367.0   \n",
       "3                      NaN                     NaN              1367.0   \n",
       "4                      NaN                     NaN              1367.0   \n",
       "\n",
       "   total_vaccinations_per_hundred  people_vaccinated_per_hundred  \\\n",
       "0                             0.0                            0.0   \n",
       "1                             NaN                            NaN   \n",
       "2                             NaN                            NaN   \n",
       "3                             NaN                            NaN   \n",
       "4                             NaN                            NaN   \n",
       "\n",
       "   people_fully_vaccinated_per_hundred  daily_vaccinations_per_million  \\\n",
       "0                                  NaN                             NaN   \n",
       "1                                  NaN                            34.0   \n",
       "2                                  NaN                            34.0   \n",
       "3                                  NaN                            34.0   \n",
       "4                                  NaN                            34.0   \n",
       "\n",
       "                                            vaccines  \\\n",
       "0  Johnson&Johnson, Oxford/AstraZeneca, Pfizer/Bi...   \n",
       "1  Johnson&Johnson, Oxford/AstraZeneca, Pfizer/Bi...   \n",
       "2  Johnson&Johnson, Oxford/AstraZeneca, Pfizer/Bi...   \n",
       "3  Johnson&Johnson, Oxford/AstraZeneca, Pfizer/Bi...   \n",
       "4  Johnson&Johnson, Oxford/AstraZeneca, Pfizer/Bi...   \n",
       "\n",
       "                 source_name            source_website  \n",
       "0  World Health Organization  https://covid19.who.int/  \n",
       "1  World Health Organization  https://covid19.who.int/  \n",
       "2  World Health Organization  https://covid19.who.int/  \n",
       "3  World Health Organization  https://covid19.who.int/  \n",
       "4  World Health Organization  https://covid19.who.int/  "
      ]
     },
     "execution_count": 4,
     "metadata": {},
     "output_type": "execute_result"
    }
   ],
   "source": [
    "data.head()"
   ]
  },
  {
   "cell_type": "code",
   "execution_count": 5,
   "id": "3d5f1a79",
   "metadata": {},
   "outputs": [
    {
     "data": {
      "text/plain": [
       "(86512, 15)"
      ]
     },
     "execution_count": 5,
     "metadata": {},
     "output_type": "execute_result"
    }
   ],
   "source": [
    "data.shape"
   ]
  },
  {
   "cell_type": "markdown",
   "id": "4048bf8c",
   "metadata": {},
   "source": [
    "__Cleaning the data__"
   ]
  },
  {
   "cell_type": "markdown",
   "id": "a88df825",
   "metadata": {},
   "source": [
    "The values that arevalid such as N/A or NULL will be eliminated."
   ]
  },
  {
   "cell_type": "code",
   "execution_count": 6,
   "id": "db3fad66",
   "metadata": {},
   "outputs": [],
   "source": [
    "data.dropna(inplace=True)"
   ]
  },
  {
   "cell_type": "markdown",
   "id": "ecde4b21",
   "metadata": {},
   "source": [
    "__Filtering Only Mexico Data__"
   ]
  },
  {
   "cell_type": "markdown",
   "id": "80d00d76",
   "metadata": {},
   "source": [
    "Since we are interested only in the data from Mexico, we will remove all the data from other countries."
   ]
  },
  {
   "cell_type": "code",
   "execution_count": 7,
   "id": "b8db26b1",
   "metadata": {},
   "outputs": [],
   "source": [
    "data = data[data['iso_code'] == 'MEX']"
   ]
  },
  {
   "cell_type": "code",
   "execution_count": 8,
   "id": "7ec44453",
   "metadata": {},
   "outputs": [],
   "source": [
    "data.reset_index(inplace=True)"
   ]
  },
  {
   "cell_type": "code",
   "execution_count": 9,
   "id": "905446bc",
   "metadata": {},
   "outputs": [
    {
     "data": {
      "text/html": [
       "<div>\n",
       "<style scoped>\n",
       "    .dataframe tbody tr th:only-of-type {\n",
       "        vertical-align: middle;\n",
       "    }\n",
       "\n",
       "    .dataframe tbody tr th {\n",
       "        vertical-align: top;\n",
       "    }\n",
       "\n",
       "    .dataframe thead th {\n",
       "        text-align: right;\n",
       "    }\n",
       "</style>\n",
       "<table border=\"1\" class=\"dataframe\">\n",
       "  <thead>\n",
       "    <tr style=\"text-align: right;\">\n",
       "      <th></th>\n",
       "      <th>index</th>\n",
       "      <th>country</th>\n",
       "      <th>iso_code</th>\n",
       "      <th>date</th>\n",
       "      <th>total_vaccinations</th>\n",
       "      <th>people_vaccinated</th>\n",
       "      <th>people_fully_vaccinated</th>\n",
       "      <th>daily_vaccinations_raw</th>\n",
       "      <th>daily_vaccinations</th>\n",
       "      <th>total_vaccinations_per_hundred</th>\n",
       "      <th>people_vaccinated_per_hundred</th>\n",
       "      <th>people_fully_vaccinated_per_hundred</th>\n",
       "      <th>daily_vaccinations_per_million</th>\n",
       "      <th>vaccines</th>\n",
       "      <th>source_name</th>\n",
       "      <th>source_website</th>\n",
       "    </tr>\n",
       "  </thead>\n",
       "  <tbody>\n",
       "    <tr>\n",
       "      <th>0</th>\n",
       "      <td>49909</td>\n",
       "      <td>Mexico</td>\n",
       "      <td>MEX</td>\n",
       "      <td>2021-01-15</td>\n",
       "      <td>417375.0</td>\n",
       "      <td>415417.0</td>\n",
       "      <td>1958.0</td>\n",
       "      <td>87392.0</td>\n",
       "      <td>49987.0</td>\n",
       "      <td>0.32</td>\n",
       "      <td>0.32</td>\n",
       "      <td>0.00</td>\n",
       "      <td>384.0</td>\n",
       "      <td>CanSino, Johnson&amp;Johnson, Moderna, Oxford/Astr...</td>\n",
       "      <td>Secretary of Health</td>\n",
       "      <td>http://www.gob.mx/cms/uploads/attachment/file/...</td>\n",
       "    </tr>\n",
       "    <tr>\n",
       "      <th>1</th>\n",
       "      <td>49910</td>\n",
       "      <td>Mexico</td>\n",
       "      <td>MEX</td>\n",
       "      <td>2021-01-16</td>\n",
       "      <td>463246.0</td>\n",
       "      <td>461025.0</td>\n",
       "      <td>2221.0</td>\n",
       "      <td>45871.0</td>\n",
       "      <td>55493.0</td>\n",
       "      <td>0.36</td>\n",
       "      <td>0.35</td>\n",
       "      <td>0.00</td>\n",
       "      <td>426.0</td>\n",
       "      <td>CanSino, Johnson&amp;Johnson, Moderna, Oxford/Astr...</td>\n",
       "      <td>Secretary of Health</td>\n",
       "      <td>http://www.gob.mx/cms/uploads/attachment/file/...</td>\n",
       "    </tr>\n",
       "    <tr>\n",
       "      <th>2</th>\n",
       "      <td>49911</td>\n",
       "      <td>Mexico</td>\n",
       "      <td>MEX</td>\n",
       "      <td>2021-01-17</td>\n",
       "      <td>472142.0</td>\n",
       "      <td>468708.0</td>\n",
       "      <td>3434.0</td>\n",
       "      <td>8896.0</td>\n",
       "      <td>55835.0</td>\n",
       "      <td>0.36</td>\n",
       "      <td>0.36</td>\n",
       "      <td>0.00</td>\n",
       "      <td>429.0</td>\n",
       "      <td>CanSino, Johnson&amp;Johnson, Moderna, Oxford/Astr...</td>\n",
       "      <td>Secretary of Health</td>\n",
       "      <td>http://www.gob.mx/cms/uploads/attachment/file/...</td>\n",
       "    </tr>\n",
       "    <tr>\n",
       "      <th>3</th>\n",
       "      <td>49912</td>\n",
       "      <td>Mexico</td>\n",
       "      <td>MEX</td>\n",
       "      <td>2021-01-18</td>\n",
       "      <td>492529.0</td>\n",
       "      <td>485983.0</td>\n",
       "      <td>6546.0</td>\n",
       "      <td>20387.0</td>\n",
       "      <td>57924.0</td>\n",
       "      <td>0.38</td>\n",
       "      <td>0.37</td>\n",
       "      <td>0.01</td>\n",
       "      <td>445.0</td>\n",
       "      <td>CanSino, Johnson&amp;Johnson, Moderna, Oxford/Astr...</td>\n",
       "      <td>Secretary of Health</td>\n",
       "      <td>http://www.gob.mx/cms/uploads/attachment/file/...</td>\n",
       "    </tr>\n",
       "    <tr>\n",
       "      <th>4</th>\n",
       "      <td>49913</td>\n",
       "      <td>Mexico</td>\n",
       "      <td>MEX</td>\n",
       "      <td>2021-01-19</td>\n",
       "      <td>498122.0</td>\n",
       "      <td>488513.0</td>\n",
       "      <td>9609.0</td>\n",
       "      <td>5593.0</td>\n",
       "      <td>57892.0</td>\n",
       "      <td>0.38</td>\n",
       "      <td>0.38</td>\n",
       "      <td>0.01</td>\n",
       "      <td>444.0</td>\n",
       "      <td>CanSino, Johnson&amp;Johnson, Moderna, Oxford/Astr...</td>\n",
       "      <td>Secretary of Health</td>\n",
       "      <td>http://www.gob.mx/cms/uploads/attachment/file/...</td>\n",
       "    </tr>\n",
       "  </tbody>\n",
       "</table>\n",
       "</div>"
      ],
      "text/plain": [
       "   index country iso_code        date  total_vaccinations  people_vaccinated  \\\n",
       "0  49909  Mexico      MEX  2021-01-15            417375.0           415417.0   \n",
       "1  49910  Mexico      MEX  2021-01-16            463246.0           461025.0   \n",
       "2  49911  Mexico      MEX  2021-01-17            472142.0           468708.0   \n",
       "3  49912  Mexico      MEX  2021-01-18            492529.0           485983.0   \n",
       "4  49913  Mexico      MEX  2021-01-19            498122.0           488513.0   \n",
       "\n",
       "   people_fully_vaccinated  daily_vaccinations_raw  daily_vaccinations  \\\n",
       "0                   1958.0                 87392.0             49987.0   \n",
       "1                   2221.0                 45871.0             55493.0   \n",
       "2                   3434.0                  8896.0             55835.0   \n",
       "3                   6546.0                 20387.0             57924.0   \n",
       "4                   9609.0                  5593.0             57892.0   \n",
       "\n",
       "   total_vaccinations_per_hundred  people_vaccinated_per_hundred  \\\n",
       "0                            0.32                           0.32   \n",
       "1                            0.36                           0.35   \n",
       "2                            0.36                           0.36   \n",
       "3                            0.38                           0.37   \n",
       "4                            0.38                           0.38   \n",
       "\n",
       "   people_fully_vaccinated_per_hundred  daily_vaccinations_per_million  \\\n",
       "0                                 0.00                           384.0   \n",
       "1                                 0.00                           426.0   \n",
       "2                                 0.00                           429.0   \n",
       "3                                 0.01                           445.0   \n",
       "4                                 0.01                           444.0   \n",
       "\n",
       "                                            vaccines          source_name  \\\n",
       "0  CanSino, Johnson&Johnson, Moderna, Oxford/Astr...  Secretary of Health   \n",
       "1  CanSino, Johnson&Johnson, Moderna, Oxford/Astr...  Secretary of Health   \n",
       "2  CanSino, Johnson&Johnson, Moderna, Oxford/Astr...  Secretary of Health   \n",
       "3  CanSino, Johnson&Johnson, Moderna, Oxford/Astr...  Secretary of Health   \n",
       "4  CanSino, Johnson&Johnson, Moderna, Oxford/Astr...  Secretary of Health   \n",
       "\n",
       "                                      source_website  \n",
       "0  http://www.gob.mx/cms/uploads/attachment/file/...  \n",
       "1  http://www.gob.mx/cms/uploads/attachment/file/...  \n",
       "2  http://www.gob.mx/cms/uploads/attachment/file/...  \n",
       "3  http://www.gob.mx/cms/uploads/attachment/file/...  \n",
       "4  http://www.gob.mx/cms/uploads/attachment/file/...  "
      ]
     },
     "execution_count": 9,
     "metadata": {},
     "output_type": "execute_result"
    }
   ],
   "source": [
    "data.head()"
   ]
  },
  {
   "cell_type": "code",
   "execution_count": 10,
   "id": "87007899",
   "metadata": {},
   "outputs": [
    {
     "data": {
      "text/plain": [
       "(316, 16)"
      ]
     },
     "execution_count": 10,
     "metadata": {},
     "output_type": "execute_result"
    }
   ],
   "source": [
    "data.shape"
   ]
  },
  {
   "cell_type": "markdown",
   "id": "37ee9892",
   "metadata": {},
   "source": [
    "We are interested on how the number of vaccinations have progressed over the time, so we will reorder the data according the date time of it."
   ]
  },
  {
   "cell_type": "code",
   "execution_count": 11,
   "id": "b8496db3",
   "metadata": {},
   "outputs": [],
   "source": [
    "data['date'] = pd.to_datetime(data['date'])"
   ]
  },
  {
   "cell_type": "code",
   "execution_count": 12,
   "id": "bc986b9e",
   "metadata": {},
   "outputs": [],
   "source": [
    "data = data.sort_values(by='date')"
   ]
  },
  {
   "cell_type": "code",
   "execution_count": 13,
   "id": "95a38019",
   "metadata": {},
   "outputs": [],
   "source": [
    "start_date = data['date'][0]"
   ]
  },
  {
   "cell_type": "code",
   "execution_count": 14,
   "id": "ce050d58",
   "metadata": {},
   "outputs": [
    {
     "name": "stdout",
     "output_type": "stream",
     "text": [
      "The starting date registered is:15-01-2021\n"
     ]
    }
   ],
   "source": [
    "print('The starting date registered is:{0}'.format(start_date.strftime('%d-%m-%Y')))"
   ]
  },
  {
   "cell_type": "code",
   "execution_count": 15,
   "id": "ea345d96",
   "metadata": {},
   "outputs": [],
   "source": [
    "days_passed = data['date'] - start_date"
   ]
  },
  {
   "cell_type": "code",
   "execution_count": 16,
   "id": "02b113b5",
   "metadata": {},
   "outputs": [],
   "source": [
    "data['days_passed'] = days_passed"
   ]
  },
  {
   "cell_type": "code",
   "execution_count": 17,
   "id": "99975b12",
   "metadata": {},
   "outputs": [
    {
     "data": {
      "text/html": [
       "<div>\n",
       "<style scoped>\n",
       "    .dataframe tbody tr th:only-of-type {\n",
       "        vertical-align: middle;\n",
       "    }\n",
       "\n",
       "    .dataframe tbody tr th {\n",
       "        vertical-align: top;\n",
       "    }\n",
       "\n",
       "    .dataframe thead th {\n",
       "        text-align: right;\n",
       "    }\n",
       "</style>\n",
       "<table border=\"1\" class=\"dataframe\">\n",
       "  <thead>\n",
       "    <tr style=\"text-align: right;\">\n",
       "      <th></th>\n",
       "      <th>index</th>\n",
       "      <th>country</th>\n",
       "      <th>iso_code</th>\n",
       "      <th>date</th>\n",
       "      <th>total_vaccinations</th>\n",
       "      <th>people_vaccinated</th>\n",
       "      <th>people_fully_vaccinated</th>\n",
       "      <th>daily_vaccinations_raw</th>\n",
       "      <th>daily_vaccinations</th>\n",
       "      <th>total_vaccinations_per_hundred</th>\n",
       "      <th>people_vaccinated_per_hundred</th>\n",
       "      <th>people_fully_vaccinated_per_hundred</th>\n",
       "      <th>daily_vaccinations_per_million</th>\n",
       "      <th>vaccines</th>\n",
       "      <th>source_name</th>\n",
       "      <th>source_website</th>\n",
       "      <th>days_passed</th>\n",
       "    </tr>\n",
       "  </thead>\n",
       "  <tbody>\n",
       "    <tr>\n",
       "      <th>0</th>\n",
       "      <td>49909</td>\n",
       "      <td>Mexico</td>\n",
       "      <td>MEX</td>\n",
       "      <td>2021-01-15</td>\n",
       "      <td>417375.0</td>\n",
       "      <td>415417.0</td>\n",
       "      <td>1958.0</td>\n",
       "      <td>87392.0</td>\n",
       "      <td>49987.0</td>\n",
       "      <td>0.32</td>\n",
       "      <td>0.32</td>\n",
       "      <td>0.00</td>\n",
       "      <td>384.0</td>\n",
       "      <td>CanSino, Johnson&amp;Johnson, Moderna, Oxford/Astr...</td>\n",
       "      <td>Secretary of Health</td>\n",
       "      <td>http://www.gob.mx/cms/uploads/attachment/file/...</td>\n",
       "      <td>0 days</td>\n",
       "    </tr>\n",
       "    <tr>\n",
       "      <th>1</th>\n",
       "      <td>49910</td>\n",
       "      <td>Mexico</td>\n",
       "      <td>MEX</td>\n",
       "      <td>2021-01-16</td>\n",
       "      <td>463246.0</td>\n",
       "      <td>461025.0</td>\n",
       "      <td>2221.0</td>\n",
       "      <td>45871.0</td>\n",
       "      <td>55493.0</td>\n",
       "      <td>0.36</td>\n",
       "      <td>0.35</td>\n",
       "      <td>0.00</td>\n",
       "      <td>426.0</td>\n",
       "      <td>CanSino, Johnson&amp;Johnson, Moderna, Oxford/Astr...</td>\n",
       "      <td>Secretary of Health</td>\n",
       "      <td>http://www.gob.mx/cms/uploads/attachment/file/...</td>\n",
       "      <td>1 days</td>\n",
       "    </tr>\n",
       "    <tr>\n",
       "      <th>2</th>\n",
       "      <td>49911</td>\n",
       "      <td>Mexico</td>\n",
       "      <td>MEX</td>\n",
       "      <td>2021-01-17</td>\n",
       "      <td>472142.0</td>\n",
       "      <td>468708.0</td>\n",
       "      <td>3434.0</td>\n",
       "      <td>8896.0</td>\n",
       "      <td>55835.0</td>\n",
       "      <td>0.36</td>\n",
       "      <td>0.36</td>\n",
       "      <td>0.00</td>\n",
       "      <td>429.0</td>\n",
       "      <td>CanSino, Johnson&amp;Johnson, Moderna, Oxford/Astr...</td>\n",
       "      <td>Secretary of Health</td>\n",
       "      <td>http://www.gob.mx/cms/uploads/attachment/file/...</td>\n",
       "      <td>2 days</td>\n",
       "    </tr>\n",
       "    <tr>\n",
       "      <th>3</th>\n",
       "      <td>49912</td>\n",
       "      <td>Mexico</td>\n",
       "      <td>MEX</td>\n",
       "      <td>2021-01-18</td>\n",
       "      <td>492529.0</td>\n",
       "      <td>485983.0</td>\n",
       "      <td>6546.0</td>\n",
       "      <td>20387.0</td>\n",
       "      <td>57924.0</td>\n",
       "      <td>0.38</td>\n",
       "      <td>0.37</td>\n",
       "      <td>0.01</td>\n",
       "      <td>445.0</td>\n",
       "      <td>CanSino, Johnson&amp;Johnson, Moderna, Oxford/Astr...</td>\n",
       "      <td>Secretary of Health</td>\n",
       "      <td>http://www.gob.mx/cms/uploads/attachment/file/...</td>\n",
       "      <td>3 days</td>\n",
       "    </tr>\n",
       "    <tr>\n",
       "      <th>4</th>\n",
       "      <td>49913</td>\n",
       "      <td>Mexico</td>\n",
       "      <td>MEX</td>\n",
       "      <td>2021-01-19</td>\n",
       "      <td>498122.0</td>\n",
       "      <td>488513.0</td>\n",
       "      <td>9609.0</td>\n",
       "      <td>5593.0</td>\n",
       "      <td>57892.0</td>\n",
       "      <td>0.38</td>\n",
       "      <td>0.38</td>\n",
       "      <td>0.01</td>\n",
       "      <td>444.0</td>\n",
       "      <td>CanSino, Johnson&amp;Johnson, Moderna, Oxford/Astr...</td>\n",
       "      <td>Secretary of Health</td>\n",
       "      <td>http://www.gob.mx/cms/uploads/attachment/file/...</td>\n",
       "      <td>4 days</td>\n",
       "    </tr>\n",
       "  </tbody>\n",
       "</table>\n",
       "</div>"
      ],
      "text/plain": [
       "   index country iso_code       date  total_vaccinations  people_vaccinated  \\\n",
       "0  49909  Mexico      MEX 2021-01-15            417375.0           415417.0   \n",
       "1  49910  Mexico      MEX 2021-01-16            463246.0           461025.0   \n",
       "2  49911  Mexico      MEX 2021-01-17            472142.0           468708.0   \n",
       "3  49912  Mexico      MEX 2021-01-18            492529.0           485983.0   \n",
       "4  49913  Mexico      MEX 2021-01-19            498122.0           488513.0   \n",
       "\n",
       "   people_fully_vaccinated  daily_vaccinations_raw  daily_vaccinations  \\\n",
       "0                   1958.0                 87392.0             49987.0   \n",
       "1                   2221.0                 45871.0             55493.0   \n",
       "2                   3434.0                  8896.0             55835.0   \n",
       "3                   6546.0                 20387.0             57924.0   \n",
       "4                   9609.0                  5593.0             57892.0   \n",
       "\n",
       "   total_vaccinations_per_hundred  people_vaccinated_per_hundred  \\\n",
       "0                            0.32                           0.32   \n",
       "1                            0.36                           0.35   \n",
       "2                            0.36                           0.36   \n",
       "3                            0.38                           0.37   \n",
       "4                            0.38                           0.38   \n",
       "\n",
       "   people_fully_vaccinated_per_hundred  daily_vaccinations_per_million  \\\n",
       "0                                 0.00                           384.0   \n",
       "1                                 0.00                           426.0   \n",
       "2                                 0.00                           429.0   \n",
       "3                                 0.01                           445.0   \n",
       "4                                 0.01                           444.0   \n",
       "\n",
       "                                            vaccines          source_name  \\\n",
       "0  CanSino, Johnson&Johnson, Moderna, Oxford/Astr...  Secretary of Health   \n",
       "1  CanSino, Johnson&Johnson, Moderna, Oxford/Astr...  Secretary of Health   \n",
       "2  CanSino, Johnson&Johnson, Moderna, Oxford/Astr...  Secretary of Health   \n",
       "3  CanSino, Johnson&Johnson, Moderna, Oxford/Astr...  Secretary of Health   \n",
       "4  CanSino, Johnson&Johnson, Moderna, Oxford/Astr...  Secretary of Health   \n",
       "\n",
       "                                      source_website days_passed  \n",
       "0  http://www.gob.mx/cms/uploads/attachment/file/...      0 days  \n",
       "1  http://www.gob.mx/cms/uploads/attachment/file/...      1 days  \n",
       "2  http://www.gob.mx/cms/uploads/attachment/file/...      2 days  \n",
       "3  http://www.gob.mx/cms/uploads/attachment/file/...      3 days  \n",
       "4  http://www.gob.mx/cms/uploads/attachment/file/...      4 days  "
      ]
     },
     "execution_count": 17,
     "metadata": {},
     "output_type": "execute_result"
    }
   ],
   "source": [
    "data.head()"
   ]
  },
  {
   "cell_type": "code",
   "execution_count": 18,
   "id": "a6122b49",
   "metadata": {},
   "outputs": [
    {
     "data": {
      "text/plain": [
       "(316, 17)"
      ]
     },
     "execution_count": 18,
     "metadata": {},
     "output_type": "execute_result"
    }
   ],
   "source": [
    "data.shape"
   ]
  },
  {
   "cell_type": "markdown",
   "id": "9238d5d4",
   "metadata": {},
   "source": [
    "We will reorder the data, and only take what is important to us:"
   ]
  },
  {
   "cell_type": "code",
   "execution_count": 19,
   "id": "48df25e9",
   "metadata": {},
   "outputs": [],
   "source": [
    "ndata = data[['days_passed',\n",
    "              'total_vaccinations',\n",
    "              'people_vaccinated',\n",
    "              'people_fully_vaccinated',\n",
    "              'daily_vaccinations_raw',\n",
    "              'daily_vaccinations',\n",
    "              'total_vaccinations_per_hundred',\n",
    "              'people_vaccinated_per_hundred',\n",
    "              'people_fully_vaccinated_per_hundred',\n",
    "              'daily_vaccinations_per_million']]"
   ]
  },
  {
   "cell_type": "code",
   "execution_count": 20,
   "id": "512fb41a",
   "metadata": {},
   "outputs": [
    {
     "data": {
      "text/html": [
       "<div>\n",
       "<style scoped>\n",
       "    .dataframe tbody tr th:only-of-type {\n",
       "        vertical-align: middle;\n",
       "    }\n",
       "\n",
       "    .dataframe tbody tr th {\n",
       "        vertical-align: top;\n",
       "    }\n",
       "\n",
       "    .dataframe thead th {\n",
       "        text-align: right;\n",
       "    }\n",
       "</style>\n",
       "<table border=\"1\" class=\"dataframe\">\n",
       "  <thead>\n",
       "    <tr style=\"text-align: right;\">\n",
       "      <th></th>\n",
       "      <th>days_passed</th>\n",
       "      <th>total_vaccinations</th>\n",
       "      <th>people_vaccinated</th>\n",
       "      <th>people_fully_vaccinated</th>\n",
       "      <th>daily_vaccinations_raw</th>\n",
       "      <th>daily_vaccinations</th>\n",
       "      <th>total_vaccinations_per_hundred</th>\n",
       "      <th>people_vaccinated_per_hundred</th>\n",
       "      <th>people_fully_vaccinated_per_hundred</th>\n",
       "      <th>daily_vaccinations_per_million</th>\n",
       "    </tr>\n",
       "  </thead>\n",
       "  <tbody>\n",
       "    <tr>\n",
       "      <th>0</th>\n",
       "      <td>0 days</td>\n",
       "      <td>417375.0</td>\n",
       "      <td>415417.0</td>\n",
       "      <td>1958.0</td>\n",
       "      <td>87392.0</td>\n",
       "      <td>49987.0</td>\n",
       "      <td>0.32</td>\n",
       "      <td>0.32</td>\n",
       "      <td>0.00</td>\n",
       "      <td>384.0</td>\n",
       "    </tr>\n",
       "    <tr>\n",
       "      <th>1</th>\n",
       "      <td>1 days</td>\n",
       "      <td>463246.0</td>\n",
       "      <td>461025.0</td>\n",
       "      <td>2221.0</td>\n",
       "      <td>45871.0</td>\n",
       "      <td>55493.0</td>\n",
       "      <td>0.36</td>\n",
       "      <td>0.35</td>\n",
       "      <td>0.00</td>\n",
       "      <td>426.0</td>\n",
       "    </tr>\n",
       "    <tr>\n",
       "      <th>2</th>\n",
       "      <td>2 days</td>\n",
       "      <td>472142.0</td>\n",
       "      <td>468708.0</td>\n",
       "      <td>3434.0</td>\n",
       "      <td>8896.0</td>\n",
       "      <td>55835.0</td>\n",
       "      <td>0.36</td>\n",
       "      <td>0.36</td>\n",
       "      <td>0.00</td>\n",
       "      <td>429.0</td>\n",
       "    </tr>\n",
       "    <tr>\n",
       "      <th>3</th>\n",
       "      <td>3 days</td>\n",
       "      <td>492529.0</td>\n",
       "      <td>485983.0</td>\n",
       "      <td>6546.0</td>\n",
       "      <td>20387.0</td>\n",
       "      <td>57924.0</td>\n",
       "      <td>0.38</td>\n",
       "      <td>0.37</td>\n",
       "      <td>0.01</td>\n",
       "      <td>445.0</td>\n",
       "    </tr>\n",
       "    <tr>\n",
       "      <th>4</th>\n",
       "      <td>4 days</td>\n",
       "      <td>498122.0</td>\n",
       "      <td>488513.0</td>\n",
       "      <td>9609.0</td>\n",
       "      <td>5593.0</td>\n",
       "      <td>57892.0</td>\n",
       "      <td>0.38</td>\n",
       "      <td>0.38</td>\n",
       "      <td>0.01</td>\n",
       "      <td>444.0</td>\n",
       "    </tr>\n",
       "  </tbody>\n",
       "</table>\n",
       "</div>"
      ],
      "text/plain": [
       "  days_passed  total_vaccinations  people_vaccinated  people_fully_vaccinated  \\\n",
       "0      0 days            417375.0           415417.0                   1958.0   \n",
       "1      1 days            463246.0           461025.0                   2221.0   \n",
       "2      2 days            472142.0           468708.0                   3434.0   \n",
       "3      3 days            492529.0           485983.0                   6546.0   \n",
       "4      4 days            498122.0           488513.0                   9609.0   \n",
       "\n",
       "   daily_vaccinations_raw  daily_vaccinations  total_vaccinations_per_hundred  \\\n",
       "0                 87392.0             49987.0                            0.32   \n",
       "1                 45871.0             55493.0                            0.36   \n",
       "2                  8896.0             55835.0                            0.36   \n",
       "3                 20387.0             57924.0                            0.38   \n",
       "4                  5593.0             57892.0                            0.38   \n",
       "\n",
       "   people_vaccinated_per_hundred  people_fully_vaccinated_per_hundred  \\\n",
       "0                           0.32                                 0.00   \n",
       "1                           0.35                                 0.00   \n",
       "2                           0.36                                 0.00   \n",
       "3                           0.37                                 0.01   \n",
       "4                           0.38                                 0.01   \n",
       "\n",
       "   daily_vaccinations_per_million  \n",
       "0                           384.0  \n",
       "1                           426.0  \n",
       "2                           429.0  \n",
       "3                           445.0  \n",
       "4                           444.0  "
      ]
     },
     "execution_count": 20,
     "metadata": {},
     "output_type": "execute_result"
    }
   ],
   "source": [
    "ndata.head()"
   ]
  },
  {
   "cell_type": "code",
   "execution_count": 21,
   "id": "fe103496",
   "metadata": {},
   "outputs": [
    {
     "data": {
      "text/plain": [
       "0        0\n",
       "1        1\n",
       "2        2\n",
       "3        3\n",
       "4        4\n",
       "      ... \n",
       "311    432\n",
       "312    435\n",
       "313    436\n",
       "314    437\n",
       "315    438\n",
       "Name: days_passed, Length: 316, dtype: int64"
      ]
     },
     "execution_count": 21,
     "metadata": {},
     "output_type": "execute_result"
    }
   ],
   "source": [
    "ndata['days_passed'].dt.days"
   ]
  },
  {
   "cell_type": "code",
   "execution_count": 22,
   "id": "65ba7926",
   "metadata": {},
   "outputs": [
    {
     "data": {
      "text/plain": [
       "(316, 10)"
      ]
     },
     "execution_count": 22,
     "metadata": {},
     "output_type": "execute_result"
    }
   ],
   "source": [
    "ndata.shape"
   ]
  },
  {
   "cell_type": "code",
   "execution_count": 23,
   "id": "11ecf98e",
   "metadata": {},
   "outputs": [],
   "source": [
    "ndata['days_passed']=ndata['days_passed'].dt.days"
   ]
  },
  {
   "cell_type": "markdown",
   "id": "0f095b1a",
   "metadata": {},
   "source": [
    "Convert the days from timestamp to a Integer datatype."
   ]
  },
  {
   "cell_type": "code",
   "execution_count": 24,
   "id": "a44082b6",
   "metadata": {},
   "outputs": [
    {
     "data": {
      "text/html": [
       "<div>\n",
       "<style scoped>\n",
       "    .dataframe tbody tr th:only-of-type {\n",
       "        vertical-align: middle;\n",
       "    }\n",
       "\n",
       "    .dataframe tbody tr th {\n",
       "        vertical-align: top;\n",
       "    }\n",
       "\n",
       "    .dataframe thead th {\n",
       "        text-align: right;\n",
       "    }\n",
       "</style>\n",
       "<table border=\"1\" class=\"dataframe\">\n",
       "  <thead>\n",
       "    <tr style=\"text-align: right;\">\n",
       "      <th></th>\n",
       "      <th>days_passed</th>\n",
       "      <th>total_vaccinations</th>\n",
       "      <th>people_vaccinated</th>\n",
       "      <th>people_fully_vaccinated</th>\n",
       "      <th>daily_vaccinations_raw</th>\n",
       "      <th>daily_vaccinations</th>\n",
       "      <th>total_vaccinations_per_hundred</th>\n",
       "      <th>people_vaccinated_per_hundred</th>\n",
       "      <th>people_fully_vaccinated_per_hundred</th>\n",
       "      <th>daily_vaccinations_per_million</th>\n",
       "    </tr>\n",
       "  </thead>\n",
       "  <tbody>\n",
       "    <tr>\n",
       "      <th>0</th>\n",
       "      <td>0</td>\n",
       "      <td>417375.0</td>\n",
       "      <td>415417.0</td>\n",
       "      <td>1958.0</td>\n",
       "      <td>87392.0</td>\n",
       "      <td>49987.0</td>\n",
       "      <td>0.32</td>\n",
       "      <td>0.32</td>\n",
       "      <td>0.00</td>\n",
       "      <td>384.0</td>\n",
       "    </tr>\n",
       "    <tr>\n",
       "      <th>1</th>\n",
       "      <td>1</td>\n",
       "      <td>463246.0</td>\n",
       "      <td>461025.0</td>\n",
       "      <td>2221.0</td>\n",
       "      <td>45871.0</td>\n",
       "      <td>55493.0</td>\n",
       "      <td>0.36</td>\n",
       "      <td>0.35</td>\n",
       "      <td>0.00</td>\n",
       "      <td>426.0</td>\n",
       "    </tr>\n",
       "    <tr>\n",
       "      <th>2</th>\n",
       "      <td>2</td>\n",
       "      <td>472142.0</td>\n",
       "      <td>468708.0</td>\n",
       "      <td>3434.0</td>\n",
       "      <td>8896.0</td>\n",
       "      <td>55835.0</td>\n",
       "      <td>0.36</td>\n",
       "      <td>0.36</td>\n",
       "      <td>0.00</td>\n",
       "      <td>429.0</td>\n",
       "    </tr>\n",
       "    <tr>\n",
       "      <th>3</th>\n",
       "      <td>3</td>\n",
       "      <td>492529.0</td>\n",
       "      <td>485983.0</td>\n",
       "      <td>6546.0</td>\n",
       "      <td>20387.0</td>\n",
       "      <td>57924.0</td>\n",
       "      <td>0.38</td>\n",
       "      <td>0.37</td>\n",
       "      <td>0.01</td>\n",
       "      <td>445.0</td>\n",
       "    </tr>\n",
       "    <tr>\n",
       "      <th>4</th>\n",
       "      <td>4</td>\n",
       "      <td>498122.0</td>\n",
       "      <td>488513.0</td>\n",
       "      <td>9609.0</td>\n",
       "      <td>5593.0</td>\n",
       "      <td>57892.0</td>\n",
       "      <td>0.38</td>\n",
       "      <td>0.38</td>\n",
       "      <td>0.01</td>\n",
       "      <td>444.0</td>\n",
       "    </tr>\n",
       "  </tbody>\n",
       "</table>\n",
       "</div>"
      ],
      "text/plain": [
       "   days_passed  total_vaccinations  people_vaccinated  \\\n",
       "0            0            417375.0           415417.0   \n",
       "1            1            463246.0           461025.0   \n",
       "2            2            472142.0           468708.0   \n",
       "3            3            492529.0           485983.0   \n",
       "4            4            498122.0           488513.0   \n",
       "\n",
       "   people_fully_vaccinated  daily_vaccinations_raw  daily_vaccinations  \\\n",
       "0                   1958.0                 87392.0             49987.0   \n",
       "1                   2221.0                 45871.0             55493.0   \n",
       "2                   3434.0                  8896.0             55835.0   \n",
       "3                   6546.0                 20387.0             57924.0   \n",
       "4                   9609.0                  5593.0             57892.0   \n",
       "\n",
       "   total_vaccinations_per_hundred  people_vaccinated_per_hundred  \\\n",
       "0                            0.32                           0.32   \n",
       "1                            0.36                           0.35   \n",
       "2                            0.36                           0.36   \n",
       "3                            0.38                           0.37   \n",
       "4                            0.38                           0.38   \n",
       "\n",
       "   people_fully_vaccinated_per_hundred  daily_vaccinations_per_million  \n",
       "0                                 0.00                           384.0  \n",
       "1                                 0.00                           426.0  \n",
       "2                                 0.00                           429.0  \n",
       "3                                 0.01                           445.0  \n",
       "4                                 0.01                           444.0  "
      ]
     },
     "execution_count": 24,
     "metadata": {},
     "output_type": "execute_result"
    }
   ],
   "source": [
    "ndata.head()"
   ]
  },
  {
   "cell_type": "code",
   "execution_count": 25,
   "id": "dd1328e9",
   "metadata": {},
   "outputs": [
    {
     "data": {
      "text/plain": [
       "(316, 10)"
      ]
     },
     "execution_count": 25,
     "metadata": {},
     "output_type": "execute_result"
    }
   ],
   "source": [
    "ndata.shape"
   ]
  },
  {
   "cell_type": "code",
   "execution_count": 26,
   "id": "a2e95a49",
   "metadata": {},
   "outputs": [
    {
     "data": {
      "text/plain": [
       "days_passed                              int64\n",
       "total_vaccinations                     float64\n",
       "people_vaccinated                      float64\n",
       "people_fully_vaccinated                float64\n",
       "daily_vaccinations_raw                 float64\n",
       "daily_vaccinations                     float64\n",
       "total_vaccinations_per_hundred         float64\n",
       "people_vaccinated_per_hundred          float64\n",
       "people_fully_vaccinated_per_hundred    float64\n",
       "daily_vaccinations_per_million         float64\n",
       "dtype: object"
      ]
     },
     "execution_count": 26,
     "metadata": {},
     "output_type": "execute_result"
    }
   ],
   "source": [
    "ndata.dtypes"
   ]
  },
  {
   "cell_type": "code",
   "execution_count": 27,
   "id": "0fb4bb2c",
   "metadata": {},
   "outputs": [
    {
     "data": {
      "image/png": "[encoded data removed]",
      "text/plain": [
       "<Figure size 432x288 with 1 Axes>"
      ]
     },
     "metadata": {
      "needs_background": "light"
     },
     "output_type": "display_data"
    }
   ],
   "source": [
    "ndata.plot(x = 'days_passed', y = 'total_vaccinations')\n",
    "plt.title('Number of Vaccinations in Mexico')\n",
    "plt.xlabel('Days Passed')\n",
    "plt.ylabel('Total Vaccionations')\n",
    "plt.plot(ndata['days_passed'],ndata['total_vaccinations'], color='red')\n",
    "plt.show()"
   ]
  },
  {
   "cell_type": "code",
   "execution_count": 28,
   "id": "9ac28c44",
   "metadata": {},
   "outputs": [],
   "source": [
    "data_train = np.array(ndata['days_passed']).reshape(-1, 1)\n",
    "# data_train = ndata\n",
    "target = ndata['total_vaccinations']"
   ]
  },
  {
   "cell_type": "code",
   "execution_count": 29,
   "id": "7c5263cf",
   "metadata": {},
   "outputs": [],
   "source": [
    "# Test train split for supervised training\n",
    "X_train, X_test, y_train, y_test = train_test_split(data_train, target,test_size=0.3 , random_state=10)"
   ]
  },
  {
   "cell_type": "markdown",
   "id": "6d589d78",
   "metadata": {},
   "source": [
    "__Total Vaccination__"
   ]
  },
  {
   "cell_type": "code",
   "execution_count": 30,
   "id": "b13f017f",
   "metadata": {},
   "outputs": [
    {
     "data": {
      "text/plain": [
       "LinearRegression()"
      ]
     },
     "execution_count": 30,
     "metadata": {},
     "output_type": "execute_result"
    }
   ],
   "source": [
    "lr_tv = LinearRegression(fit_intercept=True)\n",
    "lr_tv.fit(ndata[['days_passed']],ndata['total_vaccinations'])"
   ]
  },
  {
   "cell_type": "code",
   "execution_count": 31,
   "id": "ed3624c3",
   "metadata": {},
   "outputs": [],
   "source": [
    "def print_linear_model_information(linear_model):\n",
    "    m = linear_model.coef_\n",
    "    b = linear_model.intercept_\n",
    "    print('y = {}*x + {}'.format(m,b))"
   ]
  },
  {
   "cell_type": "code",
   "execution_count": 32,
   "id": "89ca8f14",
   "metadata": {},
   "outputs": [
    {
     "name": "stdout",
     "output_type": "stream",
     "text": [
      "y = [486635.45266316]*x + -24680963.317750588\n"
     ]
    }
   ],
   "source": [
    "print_linear_model_information(lr_tv)"
   ]
  },
  {
   "cell_type": "code",
   "execution_count": 33,
   "id": "e6b36468",
   "metadata": {},
   "outputs": [
    {
     "data": {
      "text/plain": [
       "0        0\n",
       "1        1\n",
       "2        2\n",
       "3        3\n",
       "4        4\n",
       "      ... \n",
       "311    432\n",
       "312    435\n",
       "313    436\n",
       "314    437\n",
       "315    438\n",
       "Name: days_passed, Length: 316, dtype: int64"
      ]
     },
     "execution_count": 33,
     "metadata": {},
     "output_type": "execute_result"
    }
   ],
   "source": [
    "days_passed_s = ndata.days_passed\n",
    "days_passed_s"
   ]
  },
  {
   "cell_type": "code",
   "execution_count": 34,
   "id": "615dfe20",
   "metadata": {},
   "outputs": [],
   "source": [
    "days_passed_a = np.array(days_passed_s).reshape(-1,1)"
   ]
  },
  {
   "cell_type": "code",
   "execution_count": 35,
   "id": "b98c18db",
   "metadata": {},
   "outputs": [],
   "source": [
    "# prediction = pd.DataFrame(lr_tv.predict(days_passed_a))\n",
    "prediction = (lr_tv.predict(days_passed_a))"
   ]
  },
  {
   "cell_type": "code",
   "execution_count": 36,
   "id": "9829fd60",
   "metadata": {},
   "outputs": [
    {
     "data": {
      "text/plain": [
       "[<matplotlib.lines.Line2D at 0x1f86bc56490>]"
      ]
     },
     "execution_count": 36,
     "metadata": {},
     "output_type": "execute_result"
    },
    {
     "data": {
      "image/png": "[encoded data removed]",
      "text/plain": [
       "<Figure size 432x288 with 1 Axes>"
      ]
     },
     "metadata": {
      "needs_background": "light"
     },
     "output_type": "display_data"
    }
   ],
   "source": [
    "plt.plot(ndata['days_passed'],ndata['total_vaccinations'], color='red')\n",
    "plt.plot(ndata['days_passed'],prediction)"
   ]
  },
  {
   "cell_type": "markdown",
   "id": "c44562e5",
   "metadata": {},
   "source": [
    "Using the model we can predict when the number of vaccionations will end."
   ]
  },
  {
   "cell_type": "code",
   "execution_count": 37,
   "id": "780d4edc",
   "metadata": {},
   "outputs": [],
   "source": [
    "def find_x_value_for_given_y(linear_model,y):\n",
    "    m = linear_model.coef_\n",
    "    b = linear_model.intercept_\n",
    "    # y = m * x + b -> x = (y - b) / m\n",
    "    return (y-b) / m  "
   ]
  },
  {
   "cell_type": "markdown",
   "id": "70dd2adb",
   "metadata": {},
   "source": [
    "Using an estimated of Number of Mexicans in Mexico of 128.9 Millions"
   ]
  },
  {
   "cell_type": "code",
   "execution_count": 38,
   "id": "b1a97acc",
   "metadata": {},
   "outputs": [],
   "source": [
    "no_mexicans = 128.9*10**6"
   ]
  },
  {
   "cell_type": "markdown",
   "id": "93a19ed7",
   "metadata": {},
   "source": [
    "And taking of average of 2 vaccines per Mexican."
   ]
  },
  {
   "cell_type": "code",
   "execution_count": 39,
   "id": "2608e1bb",
   "metadata": {},
   "outputs": [],
   "source": [
    "no_of_vaccines = 2*no_mexicans"
   ]
  },
  {
   "cell_type": "code",
   "execution_count": 40,
   "id": "8ad2172c",
   "metadata": {},
   "outputs": [
    {
     "name": "stdout",
     "output_type": "stream",
     "text": [
      "With this estimation we can say that the vaccines will end in: [580.47756647]\n"
     ]
    }
   ],
   "source": [
    "estimadted_days_passed = find_x_value_for_given_y(lr_tv,no_of_vaccines)\n",
    "print('With this estimation we can say that the vaccines will end in: {}'.format(estimadted_days_passed))"
   ]
  },
  {
   "cell_type": "code",
   "execution_count": 41,
   "id": "4909c663",
   "metadata": {},
   "outputs": [
    {
     "name": "stdout",
     "output_type": "stream",
     "text": [
      "Converting the value to a Date the estimation says that the Vaccines will be over in: \n",
      "2022-08-18\n"
     ]
    }
   ],
   "source": [
    "end_date = start_date + pd.Timedelta(days=estimadted_days_passed[0])\n",
    "print('Converting the value to a Date the estimation says that the Vaccines will be over in: \\n{}'.format(end_date.strftime('%Y-%m-%d')))"
   ]
  },
  {
   "cell_type": "markdown",
   "id": "d5511f35",
   "metadata": {},
   "source": [
    "__People Vaccinated__"
   ]
  },
  {
   "cell_type": "markdown",
   "id": "6d4a43cd",
   "metadata": {},
   "source": [
    "Now we will compared the number of People Vaccinated over the time."
   ]
  },
  {
   "cell_type": "code",
   "execution_count": 42,
   "id": "6e617600",
   "metadata": {},
   "outputs": [
    {
     "data": {
      "image/png": "[encoded data removed]",
      "text/plain": [
       "<Figure size 432x288 with 1 Axes>"
      ]
     },
     "metadata": {
      "needs_background": "light"
     },
     "output_type": "display_data"
    }
   ],
   "source": [
    "# ndata.plot(x = 'days_passed', y = 'total_vaccinations')\n",
    "plt.title('People vaccinated in Mexico')\n",
    "plt.xlabel('Days Passed')\n",
    "plt.ylabel('People vaccinated')\n",
    "plt.plot(ndata['days_passed'],ndata['people_vaccinated'], color='Green')\n",
    "plt.show()"
   ]
  },
  {
   "cell_type": "code",
   "execution_count": 43,
   "id": "8c019e99",
   "metadata": {},
   "outputs": [
    {
     "data": {
      "text/plain": [
       "LinearRegression()"
      ]
     },
     "execution_count": 43,
     "metadata": {},
     "output_type": "execute_result"
    }
   ],
   "source": [
    "lr_pv = LinearRegression(fit_intercept=True)\n",
    "lr_pv.fit(ndata[['days_passed']],ndata['people_vaccinated'])"
   ]
  },
  {
   "cell_type": "code",
   "execution_count": 44,
   "id": "8b083557",
   "metadata": {},
   "outputs": [
    {
     "name": "stdout",
     "output_type": "stream",
     "text": [
      "y = [244669.99676557]*x + -6408694.466971628\n"
     ]
    }
   ],
   "source": [
    "print_linear_model_information(lr_pv)"
   ]
  },
  {
   "cell_type": "code",
   "execution_count": 45,
   "id": "c2477994",
   "metadata": {},
   "outputs": [],
   "source": [
    "prediction = (lr_pv.predict(days_passed_a))"
   ]
  },
  {
   "cell_type": "code",
   "execution_count": 46,
   "id": "e39c277e",
   "metadata": {},
   "outputs": [
    {
     "data": {
      "text/plain": [
       "[<matplotlib.lines.Line2D at 0x1f86bd27220>]"
      ]
     },
     "execution_count": 46,
     "metadata": {},
     "output_type": "execute_result"
    },
    {
     "data": {
      "image/png": "[encoded data removed]",
      "text/plain": [
       "<Figure size 432x288 with 1 Axes>"
      ]
     },
     "metadata": {
      "needs_background": "light"
     },
     "output_type": "display_data"
    }
   ],
   "source": [
    "plt.plot(ndata['days_passed'],ndata['total_vaccinations'], color='red')\n",
    "plt.plot(ndata['days_passed'],prediction)"
   ]
  },
  {
   "cell_type": "code",
   "execution_count": 47,
   "id": "d9615acb",
   "metadata": {},
   "outputs": [
    {
     "name": "stdout",
     "output_type": "stream",
     "text": [
      "With this estimation we can say that the vaccines will end in: [1079.85735055]\n"
     ]
    }
   ],
   "source": [
    "estimadted_days_passed = find_x_value_for_given_y(lr_pv,no_of_vaccines)\n",
    "print('With this estimation we can say that the vaccines will end in: {}'.format(estimadted_days_passed))"
   ]
  },
  {
   "cell_type": "code",
   "execution_count": 48,
   "id": "c741ad08",
   "metadata": {},
   "outputs": [
    {
     "name": "stdout",
     "output_type": "stream",
     "text": [
      "Converting the value to a Date the estimation says that the Vaccines will be over in: \n",
      "2023-12-30\n"
     ]
    }
   ],
   "source": [
    "end_date = start_date + pd.Timedelta(days=estimadted_days_passed[0])\n",
    "print('Converting the value to a Date the estimation says that the Vaccines will be over in: \\n{}'.format(end_date.strftime('%Y-%m-%d')))"
   ]
  },
  {
   "cell_type": "code",
   "execution_count": 49,
   "id": "942d878a",
   "metadata": {},
   "outputs": [
    {
     "data": {
      "text/plain": [
       "LinearRegression(fit_intercept=False)"
      ]
     },
     "execution_count": 49,
     "metadata": {},
     "output_type": "execute_result"
    }
   ],
   "source": [
    "lr_pv = LinearRegression(fit_intercept=False)\n",
    "lr_pv.fit(ndata[['days_passed']],ndata['people_vaccinated'])"
   ]
  },
  {
   "cell_type": "code",
   "execution_count": 50,
   "id": "8a840aed",
   "metadata": {},
   "outputs": [
    {
     "name": "stdout",
     "output_type": "stream",
     "text": [
      "y = [221291.92932237]*x + 0.0\n"
     ]
    }
   ],
   "source": [
    "print_linear_model_information(lr_pv)"
   ]
  },
  {
   "cell_type": "code",
   "execution_count": 51,
   "id": "13bfd98a",
   "metadata": {},
   "outputs": [],
   "source": [
    "prediction = (lr_pv.predict(days_passed_a))"
   ]
  },
  {
   "cell_type": "code",
   "execution_count": 52,
   "id": "6ddad928",
   "metadata": {
    "scrolled": true
   },
   "outputs": [
    {
     "data": {
      "text/plain": [
       "[<matplotlib.lines.Line2D at 0x1f86bd982e0>]"
      ]
     },
     "execution_count": 52,
     "metadata": {},
     "output_type": "execute_result"
    },
    {
     "data": {
      "image/png": "[encoded data removed]",
      "text/plain": [
       "<Figure size 432x288 with 1 Axes>"
      ]
     },
     "metadata": {
      "needs_background": "light"
     },
     "output_type": "display_data"
    }
   ],
   "source": [
    "plt.plot(ndata['days_passed'],ndata['total_vaccinations'], color='red')\n",
    "plt.plot(ndata['days_passed'],prediction)"
   ]
  },
  {
   "cell_type": "code",
   "execution_count": 53,
   "id": "aa02418a",
   "metadata": {},
   "outputs": [
    {
     "name": "stdout",
     "output_type": "stream",
     "text": [
      "With this estimation we can say that the vaccines will end in: [1164.97696409]\n"
     ]
    }
   ],
   "source": [
    "estimadted_days_passed = find_x_value_for_given_y(lr_pv,no_of_vaccines)\n",
    "print('With this estimation we can say that the vaccines will end in: {}'.format(estimadted_days_passed))"
   ]
  },
  {
   "cell_type": "code",
   "execution_count": 54,
   "id": "7b34182e",
   "metadata": {},
   "outputs": [
    {
     "name": "stdout",
     "output_type": "stream",
     "text": [
      "Converting the value to a Date the estimation says that the Vaccines will be over in: \n",
      "2024-03-24\n"
     ]
    }
   ],
   "source": [
    "end_date = start_date + pd.Timedelta(days=estimadted_days_passed[0])\n",
    "print('Converting the value to a Date the estimation says that the Vaccines will be over in: \\n{}'.format(end_date.strftime('%Y-%m-%d')))"
   ]
  }
 ],
 "metadata": {
  "kernelspec": {
   "display_name": "Python 3 (ipykernel)",
   "language": "python",
   "name": "python3"
  },
  "language_info": {
   "codemirror_mode": {
    "name": "ipython",
    "version": 3
   },
   "file_extension": ".py",
   "mimetype": "text/x-python",
   "name": "python",
   "nbconvert_exporter": "python",
   "pygments_lexer": "ipython3",
   "version": "3.9.7"
  }
 },
 "nbformat": 4,
 "nbformat_minor": 5
}
