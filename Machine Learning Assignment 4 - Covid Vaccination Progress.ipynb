{
 "cells": [
  {
   "cell_type": "markdown",
   "id": "dafb3b66",
   "metadata": {},
   "source": [
    "__Teammates__\n",
    "\n",
    "* Jorge Armando Jimenez\n",
    "\n",
    "* Salvador Pluma\n",
    "\n",
    "* Emmanuel de la Cruz"
   ]
  },
  {
   "cell_type": "markdown",
   "id": "42963842",
   "metadata": {},
   "source": [
    "__Instructions__:\n",
    "\n",
    "1. You will work on one of the datasets available on kaggle repository around COVID-19 (https://www.kaggle.com/). See the document  Descargar documentfor detailed specifications and chose a specific challenge.\n",
    "\n",
    "2. Develop a Python notebook (file with termination “ipynb”), which will include the application of three classifiers, using the sklearn library, and eventually using a percentage T% of the samples.\n",
    "\n",
    "3. Describe the learning process and the test results in a very well explained notebook that includes title, authors, summary, description of the work done (here will be the code), results (of the performance tests and their explanation), discussion and conclusions, with bibliographic references at the end.\n"
   ]
  },
  {
   "cell_type": "markdown",
   "id": "4accfd25",
   "metadata": {},
   "source": [
    "__Importing Libraries__"
   ]
  },
  {
   "cell_type": "code",
   "execution_count": 54,
   "id": "4515295b",
   "metadata": {},
   "outputs": [
    {
     "data": {
      "text/html": [
       "        <script type=\"text/javascript\">\n",
       "        window.PlotlyConfig = {MathJaxConfig: 'local'};\n",
       "        if (window.MathJax) {MathJax.Hub.Config({SVG: {font: \"STIX-Web\"}});}\n",
       "        if (typeof require !== 'undefined') {\n",
       "        require.undef(\"plotly\");\n",
       "        requirejs.config({\n",
       "            paths: {\n",
       "                'plotly': ['https://cdn.plot.ly/plotly-2.9.0.min']\n",
       "            }\n",
       "        });\n",
       "        require(['plotly'], function(Plotly) {\n",
       "            window._Plotly = Plotly;\n",
       "        });\n",
       "        }\n",
       "        </script>\n",
       "        "
      ]
     },
     "metadata": {},
     "output_type": "display_data"
    }
   ],
   "source": [
    "# Basic Libs\n",
    "import numpy as np\n",
    "import matplotlib.pyplot as plt \n",
    "import matplotlib.colors as mcolors\n",
    "import pandas as pd\n",
    "from scipy import stats\n",
    "import seaborn as sns\n",
    "\n",
    "# Sklearn\n",
    "from sklearn.preprocessing import LabelEncoder\n",
    "from sklearn.linear_model import LinearRegression, BayesianRidge\n",
    "from sklearn.model_selection import RandomizedSearchCV, train_test_split,  cross_val_score\n",
    "from sklearn.preprocessing import PolynomialFeatures\n",
    "from sklearn.svm import SVR\n",
    "from sklearn.metrics import mean_squared_error, mean_absolute_error, classification_report, confusion_matrix\n",
    "\n",
    "# Plotting libs\n",
    "import plotly.io as pio\n",
    "import plotly.express as px\n",
    "import plotly.graph_objects as go\n",
    "from plotly.subplots import make_subplots\n",
    "from plotly.offline import init_notebook_mode, iplot\n",
    "init_notebook_mode(connected=True)\n",
    "pio.templates.default = \"none\"\n",
    "\n",
    "# Avoid Warnings\n",
    "import warnings\n",
    "warnings.filterwarnings('ignore')\n",
    "\n",
    "import os\n",
    "for dirname, _, filenames in os.walk('/kaggle/input'):\n",
    "    for filename in filenames:\n",
    "        print(os.path.join(dirname, filename))"
   ]
  },
  {
   "cell_type": "markdown",
   "id": "c33fb2e3",
   "metadata": {},
   "source": [
    "Loading data"
   ]
  },
  {
   "cell_type": "code",
   "execution_count": 2,
   "id": "42122720",
   "metadata": {},
   "outputs": [],
   "source": [
    "data = pd.read_csv('./input/kaggle/country_vaccinations.csv')"
   ]
  },
  {
   "cell_type": "code",
   "execution_count": 3,
   "id": "e34c952f",
   "metadata": {},
   "outputs": [
    {
     "data": {
      "text/html": [
       "<div>\n",
       "<style scoped>\n",
       "    .dataframe tbody tr th:only-of-type {\n",
       "        vertical-align: middle;\n",
       "    }\n",
       "\n",
       "    .dataframe tbody tr th {\n",
       "        vertical-align: top;\n",
       "    }\n",
       "\n",
       "    .dataframe thead th {\n",
       "        text-align: right;\n",
       "    }\n",
       "</style>\n",
       "<table border=\"1\" class=\"dataframe\">\n",
       "  <thead>\n",
       "    <tr style=\"text-align: right;\">\n",
       "      <th></th>\n",
       "      <th>country</th>\n",
       "      <th>iso_code</th>\n",
       "      <th>date</th>\n",
       "      <th>total_vaccinations</th>\n",
       "      <th>people_vaccinated</th>\n",
       "      <th>people_fully_vaccinated</th>\n",
       "      <th>daily_vaccinations_raw</th>\n",
       "      <th>daily_vaccinations</th>\n",
       "      <th>total_vaccinations_per_hundred</th>\n",
       "      <th>people_vaccinated_per_hundred</th>\n",
       "      <th>people_fully_vaccinated_per_hundred</th>\n",
       "      <th>daily_vaccinations_per_million</th>\n",
       "      <th>vaccines</th>\n",
       "      <th>source_name</th>\n",
       "      <th>source_website</th>\n",
       "    </tr>\n",
       "  </thead>\n",
       "  <tbody>\n",
       "    <tr>\n",
       "      <th>0</th>\n",
       "      <td>Afghanistan</td>\n",
       "      <td>AFG</td>\n",
       "      <td>2021-02-22</td>\n",
       "      <td>0.0</td>\n",
       "      <td>0.0</td>\n",
       "      <td>NaN</td>\n",
       "      <td>NaN</td>\n",
       "      <td>NaN</td>\n",
       "      <td>0.0</td>\n",
       "      <td>0.0</td>\n",
       "      <td>NaN</td>\n",
       "      <td>NaN</td>\n",
       "      <td>Johnson&amp;Johnson, Oxford/AstraZeneca, Pfizer/Bi...</td>\n",
       "      <td>World Health Organization</td>\n",
       "      <td>https://covid19.who.int/</td>\n",
       "    </tr>\n",
       "    <tr>\n",
       "      <th>1</th>\n",
       "      <td>Afghanistan</td>\n",
       "      <td>AFG</td>\n",
       "      <td>2021-02-23</td>\n",
       "      <td>NaN</td>\n",
       "      <td>NaN</td>\n",
       "      <td>NaN</td>\n",
       "      <td>NaN</td>\n",
       "      <td>1367.0</td>\n",
       "      <td>NaN</td>\n",
       "      <td>NaN</td>\n",
       "      <td>NaN</td>\n",
       "      <td>34.0</td>\n",
       "      <td>Johnson&amp;Johnson, Oxford/AstraZeneca, Pfizer/Bi...</td>\n",
       "      <td>World Health Organization</td>\n",
       "      <td>https://covid19.who.int/</td>\n",
       "    </tr>\n",
       "    <tr>\n",
       "      <th>2</th>\n",
       "      <td>Afghanistan</td>\n",
       "      <td>AFG</td>\n",
       "      <td>2021-02-24</td>\n",
       "      <td>NaN</td>\n",
       "      <td>NaN</td>\n",
       "      <td>NaN</td>\n",
       "      <td>NaN</td>\n",
       "      <td>1367.0</td>\n",
       "      <td>NaN</td>\n",
       "      <td>NaN</td>\n",
       "      <td>NaN</td>\n",
       "      <td>34.0</td>\n",
       "      <td>Johnson&amp;Johnson, Oxford/AstraZeneca, Pfizer/Bi...</td>\n",
       "      <td>World Health Organization</td>\n",
       "      <td>https://covid19.who.int/</td>\n",
       "    </tr>\n",
       "    <tr>\n",
       "      <th>3</th>\n",
       "      <td>Afghanistan</td>\n",
       "      <td>AFG</td>\n",
       "      <td>2021-02-25</td>\n",
       "      <td>NaN</td>\n",
       "      <td>NaN</td>\n",
       "      <td>NaN</td>\n",
       "      <td>NaN</td>\n",
       "      <td>1367.0</td>\n",
       "      <td>NaN</td>\n",
       "      <td>NaN</td>\n",
       "      <td>NaN</td>\n",
       "      <td>34.0</td>\n",
       "      <td>Johnson&amp;Johnson, Oxford/AstraZeneca, Pfizer/Bi...</td>\n",
       "      <td>World Health Organization</td>\n",
       "      <td>https://covid19.who.int/</td>\n",
       "    </tr>\n",
       "    <tr>\n",
       "      <th>4</th>\n",
       "      <td>Afghanistan</td>\n",
       "      <td>AFG</td>\n",
       "      <td>2021-02-26</td>\n",
       "      <td>NaN</td>\n",
       "      <td>NaN</td>\n",
       "      <td>NaN</td>\n",
       "      <td>NaN</td>\n",
       "      <td>1367.0</td>\n",
       "      <td>NaN</td>\n",
       "      <td>NaN</td>\n",
       "      <td>NaN</td>\n",
       "      <td>34.0</td>\n",
       "      <td>Johnson&amp;Johnson, Oxford/AstraZeneca, Pfizer/Bi...</td>\n",
       "      <td>World Health Organization</td>\n",
       "      <td>https://covid19.who.int/</td>\n",
       "    </tr>\n",
       "  </tbody>\n",
       "</table>\n",
       "</div>"
      ],
      "text/plain": [
       "       country iso_code        date  total_vaccinations  people_vaccinated  \\\n",
       "0  Afghanistan      AFG  2021-02-22                 0.0                0.0   \n",
       "1  Afghanistan      AFG  2021-02-23                 NaN                NaN   \n",
       "2  Afghanistan      AFG  2021-02-24                 NaN                NaN   \n",
       "3  Afghanistan      AFG  2021-02-25                 NaN                NaN   \n",
       "4  Afghanistan      AFG  2021-02-26                 NaN                NaN   \n",
       "\n",
       "   people_fully_vaccinated  daily_vaccinations_raw  daily_vaccinations  \\\n",
       "0                      NaN                     NaN                 NaN   \n",
       "1                      NaN                     NaN              1367.0   \n",
       "2                      NaN                     NaN              1367.0   \n",
       "3                      NaN                     NaN              1367.0   \n",
       "4                      NaN                     NaN              1367.0   \n",
       "\n",
       "   total_vaccinations_per_hundred  people_vaccinated_per_hundred  \\\n",
       "0                             0.0                            0.0   \n",
       "1                             NaN                            NaN   \n",
       "2                             NaN                            NaN   \n",
       "3                             NaN                            NaN   \n",
       "4                             NaN                            NaN   \n",
       "\n",
       "   people_fully_vaccinated_per_hundred  daily_vaccinations_per_million  \\\n",
       "0                                  NaN                             NaN   \n",
       "1                                  NaN                            34.0   \n",
       "2                                  NaN                            34.0   \n",
       "3                                  NaN                            34.0   \n",
       "4                                  NaN                            34.0   \n",
       "\n",
       "                                            vaccines  \\\n",
       "0  Johnson&Johnson, Oxford/AstraZeneca, Pfizer/Bi...   \n",
       "1  Johnson&Johnson, Oxford/AstraZeneca, Pfizer/Bi...   \n",
       "2  Johnson&Johnson, Oxford/AstraZeneca, Pfizer/Bi...   \n",
       "3  Johnson&Johnson, Oxford/AstraZeneca, Pfizer/Bi...   \n",
       "4  Johnson&Johnson, Oxford/AstraZeneca, Pfizer/Bi...   \n",
       "\n",
       "                 source_name            source_website  \n",
       "0  World Health Organization  https://covid19.who.int/  \n",
       "1  World Health Organization  https://covid19.who.int/  \n",
       "2  World Health Organization  https://covid19.who.int/  \n",
       "3  World Health Organization  https://covid19.who.int/  \n",
       "4  World Health Organization  https://covid19.who.int/  "
      ]
     },
     "execution_count": 3,
     "metadata": {},
     "output_type": "execute_result"
    }
   ],
   "source": [
    "data.head()"
   ]
  },
  {
   "cell_type": "code",
   "execution_count": 5,
   "id": "673d2735",
   "metadata": {},
   "outputs": [
    {
     "data": {
      "text/plain": [
       "(86512, 15)"
      ]
     },
     "execution_count": 5,
     "metadata": {},
     "output_type": "execute_result"
    }
   ],
   "source": [
    "data.shape"
   ]
  },
  {
   "cell_type": "markdown",
   "id": "5f03fff4",
   "metadata": {},
   "source": [
    "__Cleaning the data__"
   ]
  },
  {
   "cell_type": "code",
   "execution_count": 6,
   "id": "e77b80f4",
   "metadata": {},
   "outputs": [],
   "source": [
    "data.dropna(inplace=True)"
   ]
  },
  {
   "cell_type": "markdown",
   "id": "8dc7e3f7",
   "metadata": {},
   "source": [
    "__Filtering Only Mexico Data__"
   ]
  },
  {
   "cell_type": "code",
   "execution_count": 7,
   "id": "0f2a8b6a",
   "metadata": {},
   "outputs": [],
   "source": [
    "data = data[data['iso_code'] == 'MEX']"
   ]
  },
  {
   "cell_type": "code",
   "execution_count": 20,
   "id": "bb68602b",
   "metadata": {},
   "outputs": [],
   "source": [
    "data.reset_index(inplace=True)"
   ]
  },
  {
   "cell_type": "code",
   "execution_count": 21,
   "id": "b76cd319",
   "metadata": {},
   "outputs": [
    {
     "data": {
      "text/html": [
       "<div>\n",
       "<style scoped>\n",
       "    .dataframe tbody tr th:only-of-type {\n",
       "        vertical-align: middle;\n",
       "    }\n",
       "\n",
       "    .dataframe tbody tr th {\n",
       "        vertical-align: top;\n",
       "    }\n",
       "\n",
       "    .dataframe thead th {\n",
       "        text-align: right;\n",
       "    }\n",
       "</style>\n",
       "<table border=\"1\" class=\"dataframe\">\n",
       "  <thead>\n",
       "    <tr style=\"text-align: right;\">\n",
       "      <th></th>\n",
       "      <th>index</th>\n",
       "      <th>country</th>\n",
       "      <th>iso_code</th>\n",
       "      <th>date</th>\n",
       "      <th>total_vaccinations</th>\n",
       "      <th>people_vaccinated</th>\n",
       "      <th>people_fully_vaccinated</th>\n",
       "      <th>daily_vaccinations_raw</th>\n",
       "      <th>daily_vaccinations</th>\n",
       "      <th>total_vaccinations_per_hundred</th>\n",
       "      <th>people_vaccinated_per_hundred</th>\n",
       "      <th>people_fully_vaccinated_per_hundred</th>\n",
       "      <th>daily_vaccinations_per_million</th>\n",
       "      <th>vaccines</th>\n",
       "      <th>source_name</th>\n",
       "      <th>source_website</th>\n",
       "    </tr>\n",
       "  </thead>\n",
       "  <tbody>\n",
       "    <tr>\n",
       "      <th>0</th>\n",
       "      <td>49909</td>\n",
       "      <td>Mexico</td>\n",
       "      <td>MEX</td>\n",
       "      <td>2021-01-15</td>\n",
       "      <td>417375.0</td>\n",
       "      <td>415417.0</td>\n",
       "      <td>1958.0</td>\n",
       "      <td>87392.0</td>\n",
       "      <td>49987.0</td>\n",
       "      <td>0.32</td>\n",
       "      <td>0.32</td>\n",
       "      <td>0.00</td>\n",
       "      <td>384.0</td>\n",
       "      <td>CanSino, Johnson&amp;Johnson, Moderna, Oxford/Astr...</td>\n",
       "      <td>Secretary of Health</td>\n",
       "      <td>http://www.gob.mx/cms/uploads/attachment/file/...</td>\n",
       "    </tr>\n",
       "    <tr>\n",
       "      <th>1</th>\n",
       "      <td>49910</td>\n",
       "      <td>Mexico</td>\n",
       "      <td>MEX</td>\n",
       "      <td>2021-01-16</td>\n",
       "      <td>463246.0</td>\n",
       "      <td>461025.0</td>\n",
       "      <td>2221.0</td>\n",
       "      <td>45871.0</td>\n",
       "      <td>55493.0</td>\n",
       "      <td>0.36</td>\n",
       "      <td>0.35</td>\n",
       "      <td>0.00</td>\n",
       "      <td>426.0</td>\n",
       "      <td>CanSino, Johnson&amp;Johnson, Moderna, Oxford/Astr...</td>\n",
       "      <td>Secretary of Health</td>\n",
       "      <td>http://www.gob.mx/cms/uploads/attachment/file/...</td>\n",
       "    </tr>\n",
       "    <tr>\n",
       "      <th>2</th>\n",
       "      <td>49911</td>\n",
       "      <td>Mexico</td>\n",
       "      <td>MEX</td>\n",
       "      <td>2021-01-17</td>\n",
       "      <td>472142.0</td>\n",
       "      <td>468708.0</td>\n",
       "      <td>3434.0</td>\n",
       "      <td>8896.0</td>\n",
       "      <td>55835.0</td>\n",
       "      <td>0.36</td>\n",
       "      <td>0.36</td>\n",
       "      <td>0.00</td>\n",
       "      <td>429.0</td>\n",
       "      <td>CanSino, Johnson&amp;Johnson, Moderna, Oxford/Astr...</td>\n",
       "      <td>Secretary of Health</td>\n",
       "      <td>http://www.gob.mx/cms/uploads/attachment/file/...</td>\n",
       "    </tr>\n",
       "    <tr>\n",
       "      <th>3</th>\n",
       "      <td>49912</td>\n",
       "      <td>Mexico</td>\n",
       "      <td>MEX</td>\n",
       "      <td>2021-01-18</td>\n",
       "      <td>492529.0</td>\n",
       "      <td>485983.0</td>\n",
       "      <td>6546.0</td>\n",
       "      <td>20387.0</td>\n",
       "      <td>57924.0</td>\n",
       "      <td>0.38</td>\n",
       "      <td>0.37</td>\n",
       "      <td>0.01</td>\n",
       "      <td>445.0</td>\n",
       "      <td>CanSino, Johnson&amp;Johnson, Moderna, Oxford/Astr...</td>\n",
       "      <td>Secretary of Health</td>\n",
       "      <td>http://www.gob.mx/cms/uploads/attachment/file/...</td>\n",
       "    </tr>\n",
       "    <tr>\n",
       "      <th>4</th>\n",
       "      <td>49913</td>\n",
       "      <td>Mexico</td>\n",
       "      <td>MEX</td>\n",
       "      <td>2021-01-19</td>\n",
       "      <td>498122.0</td>\n",
       "      <td>488513.0</td>\n",
       "      <td>9609.0</td>\n",
       "      <td>5593.0</td>\n",
       "      <td>57892.0</td>\n",
       "      <td>0.38</td>\n",
       "      <td>0.38</td>\n",
       "      <td>0.01</td>\n",
       "      <td>444.0</td>\n",
       "      <td>CanSino, Johnson&amp;Johnson, Moderna, Oxford/Astr...</td>\n",
       "      <td>Secretary of Health</td>\n",
       "      <td>http://www.gob.mx/cms/uploads/attachment/file/...</td>\n",
       "    </tr>\n",
       "  </tbody>\n",
       "</table>\n",
       "</div>"
      ],
      "text/plain": [
       "   index country iso_code       date  total_vaccinations  people_vaccinated  \\\n",
       "0  49909  Mexico      MEX 2021-01-15            417375.0           415417.0   \n",
       "1  49910  Mexico      MEX 2021-01-16            463246.0           461025.0   \n",
       "2  49911  Mexico      MEX 2021-01-17            472142.0           468708.0   \n",
       "3  49912  Mexico      MEX 2021-01-18            492529.0           485983.0   \n",
       "4  49913  Mexico      MEX 2021-01-19            498122.0           488513.0   \n",
       "\n",
       "   people_fully_vaccinated  daily_vaccinations_raw  daily_vaccinations  \\\n",
       "0                   1958.0                 87392.0             49987.0   \n",
       "1                   2221.0                 45871.0             55493.0   \n",
       "2                   3434.0                  8896.0             55835.0   \n",
       "3                   6546.0                 20387.0             57924.0   \n",
       "4                   9609.0                  5593.0             57892.0   \n",
       "\n",
       "   total_vaccinations_per_hundred  people_vaccinated_per_hundred  \\\n",
       "0                            0.32                           0.32   \n",
       "1                            0.36                           0.35   \n",
       "2                            0.36                           0.36   \n",
       "3                            0.38                           0.37   \n",
       "4                            0.38                           0.38   \n",
       "\n",
       "   people_fully_vaccinated_per_hundred  daily_vaccinations_per_million  \\\n",
       "0                                 0.00                           384.0   \n",
       "1                                 0.00                           426.0   \n",
       "2                                 0.00                           429.0   \n",
       "3                                 0.01                           445.0   \n",
       "4                                 0.01                           444.0   \n",
       "\n",
       "                                            vaccines          source_name  \\\n",
       "0  CanSino, Johnson&Johnson, Moderna, Oxford/Astr...  Secretary of Health   \n",
       "1  CanSino, Johnson&Johnson, Moderna, Oxford/Astr...  Secretary of Health   \n",
       "2  CanSino, Johnson&Johnson, Moderna, Oxford/Astr...  Secretary of Health   \n",
       "3  CanSino, Johnson&Johnson, Moderna, Oxford/Astr...  Secretary of Health   \n",
       "4  CanSino, Johnson&Johnson, Moderna, Oxford/Astr...  Secretary of Health   \n",
       "\n",
       "                                      source_website  \n",
       "0  http://www.gob.mx/cms/uploads/attachment/file/...  \n",
       "1  http://www.gob.mx/cms/uploads/attachment/file/...  \n",
       "2  http://www.gob.mx/cms/uploads/attachment/file/...  \n",
       "3  http://www.gob.mx/cms/uploads/attachment/file/...  \n",
       "4  http://www.gob.mx/cms/uploads/attachment/file/...  "
      ]
     },
     "execution_count": 21,
     "metadata": {},
     "output_type": "execute_result"
    }
   ],
   "source": [
    "data.head()"
   ]
  },
  {
   "cell_type": "code",
   "execution_count": 22,
   "id": "80801091",
   "metadata": {},
   "outputs": [
    {
     "data": {
      "text/plain": [
       "(316, 16)"
      ]
     },
     "execution_count": 22,
     "metadata": {},
     "output_type": "execute_result"
    }
   ],
   "source": [
    "data.shape"
   ]
  },
  {
   "cell_type": "code",
   "execution_count": 23,
   "id": "878a87e8",
   "metadata": {},
   "outputs": [],
   "source": [
    "data['date'] = pd.to_datetime(data['date'])"
   ]
  },
  {
   "cell_type": "code",
   "execution_count": 24,
   "id": "e4d0e50e",
   "metadata": {},
   "outputs": [],
   "source": [
    "data = data.sort_values(by='date')"
   ]
  },
  {
   "cell_type": "code",
   "execution_count": 29,
   "id": "d46fca90",
   "metadata": {},
   "outputs": [],
   "source": [
    "time_passed = data['date'] - data['date'][0]"
   ]
  },
  {
   "cell_type": "code",
   "execution_count": 30,
   "id": "53d832ab",
   "metadata": {},
   "outputs": [],
   "source": [
    "data['time_passed'] = time_passed"
   ]
  },
  {
   "cell_type": "code",
   "execution_count": 31,
   "id": "cff83c4c",
   "metadata": {},
   "outputs": [
    {
     "data": {
      "text/html": [
       "<div>\n",
       "<style scoped>\n",
       "    .dataframe tbody tr th:only-of-type {\n",
       "        vertical-align: middle;\n",
       "    }\n",
       "\n",
       "    .dataframe tbody tr th {\n",
       "        vertical-align: top;\n",
       "    }\n",
       "\n",
       "    .dataframe thead th {\n",
       "        text-align: right;\n",
       "    }\n",
       "</style>\n",
       "<table border=\"1\" class=\"dataframe\">\n",
       "  <thead>\n",
       "    <tr style=\"text-align: right;\">\n",
       "      <th></th>\n",
       "      <th>index</th>\n",
       "      <th>country</th>\n",
       "      <th>iso_code</th>\n",
       "      <th>date</th>\n",
       "      <th>total_vaccinations</th>\n",
       "      <th>people_vaccinated</th>\n",
       "      <th>people_fully_vaccinated</th>\n",
       "      <th>daily_vaccinations_raw</th>\n",
       "      <th>daily_vaccinations</th>\n",
       "      <th>total_vaccinations_per_hundred</th>\n",
       "      <th>people_vaccinated_per_hundred</th>\n",
       "      <th>people_fully_vaccinated_per_hundred</th>\n",
       "      <th>daily_vaccinations_per_million</th>\n",
       "      <th>vaccines</th>\n",
       "      <th>source_name</th>\n",
       "      <th>source_website</th>\n",
       "      <th>time_passed</th>\n",
       "    </tr>\n",
       "  </thead>\n",
       "  <tbody>\n",
       "    <tr>\n",
       "      <th>0</th>\n",
       "      <td>49909</td>\n",
       "      <td>Mexico</td>\n",
       "      <td>MEX</td>\n",
       "      <td>2021-01-15</td>\n",
       "      <td>417375.0</td>\n",
       "      <td>415417.0</td>\n",
       "      <td>1958.0</td>\n",
       "      <td>87392.0</td>\n",
       "      <td>49987.0</td>\n",
       "      <td>0.32</td>\n",
       "      <td>0.32</td>\n",
       "      <td>0.00</td>\n",
       "      <td>384.0</td>\n",
       "      <td>CanSino, Johnson&amp;Johnson, Moderna, Oxford/Astr...</td>\n",
       "      <td>Secretary of Health</td>\n",
       "      <td>http://www.gob.mx/cms/uploads/attachment/file/...</td>\n",
       "      <td>0 days</td>\n",
       "    </tr>\n",
       "    <tr>\n",
       "      <th>1</th>\n",
       "      <td>49910</td>\n",
       "      <td>Mexico</td>\n",
       "      <td>MEX</td>\n",
       "      <td>2021-01-16</td>\n",
       "      <td>463246.0</td>\n",
       "      <td>461025.0</td>\n",
       "      <td>2221.0</td>\n",
       "      <td>45871.0</td>\n",
       "      <td>55493.0</td>\n",
       "      <td>0.36</td>\n",
       "      <td>0.35</td>\n",
       "      <td>0.00</td>\n",
       "      <td>426.0</td>\n",
       "      <td>CanSino, Johnson&amp;Johnson, Moderna, Oxford/Astr...</td>\n",
       "      <td>Secretary of Health</td>\n",
       "      <td>http://www.gob.mx/cms/uploads/attachment/file/...</td>\n",
       "      <td>1 days</td>\n",
       "    </tr>\n",
       "    <tr>\n",
       "      <th>2</th>\n",
       "      <td>49911</td>\n",
       "      <td>Mexico</td>\n",
       "      <td>MEX</td>\n",
       "      <td>2021-01-17</td>\n",
       "      <td>472142.0</td>\n",
       "      <td>468708.0</td>\n",
       "      <td>3434.0</td>\n",
       "      <td>8896.0</td>\n",
       "      <td>55835.0</td>\n",
       "      <td>0.36</td>\n",
       "      <td>0.36</td>\n",
       "      <td>0.00</td>\n",
       "      <td>429.0</td>\n",
       "      <td>CanSino, Johnson&amp;Johnson, Moderna, Oxford/Astr...</td>\n",
       "      <td>Secretary of Health</td>\n",
       "      <td>http://www.gob.mx/cms/uploads/attachment/file/...</td>\n",
       "      <td>2 days</td>\n",
       "    </tr>\n",
       "    <tr>\n",
       "      <th>3</th>\n",
       "      <td>49912</td>\n",
       "      <td>Mexico</td>\n",
       "      <td>MEX</td>\n",
       "      <td>2021-01-18</td>\n",
       "      <td>492529.0</td>\n",
       "      <td>485983.0</td>\n",
       "      <td>6546.0</td>\n",
       "      <td>20387.0</td>\n",
       "      <td>57924.0</td>\n",
       "      <td>0.38</td>\n",
       "      <td>0.37</td>\n",
       "      <td>0.01</td>\n",
       "      <td>445.0</td>\n",
       "      <td>CanSino, Johnson&amp;Johnson, Moderna, Oxford/Astr...</td>\n",
       "      <td>Secretary of Health</td>\n",
       "      <td>http://www.gob.mx/cms/uploads/attachment/file/...</td>\n",
       "      <td>3 days</td>\n",
       "    </tr>\n",
       "    <tr>\n",
       "      <th>4</th>\n",
       "      <td>49913</td>\n",
       "      <td>Mexico</td>\n",
       "      <td>MEX</td>\n",
       "      <td>2021-01-19</td>\n",
       "      <td>498122.0</td>\n",
       "      <td>488513.0</td>\n",
       "      <td>9609.0</td>\n",
       "      <td>5593.0</td>\n",
       "      <td>57892.0</td>\n",
       "      <td>0.38</td>\n",
       "      <td>0.38</td>\n",
       "      <td>0.01</td>\n",
       "      <td>444.0</td>\n",
       "      <td>CanSino, Johnson&amp;Johnson, Moderna, Oxford/Astr...</td>\n",
       "      <td>Secretary of Health</td>\n",
       "      <td>http://www.gob.mx/cms/uploads/attachment/file/...</td>\n",
       "      <td>4 days</td>\n",
       "    </tr>\n",
       "    <tr>\n",
       "      <th>...</th>\n",
       "      <td>...</td>\n",
       "      <td>...</td>\n",
       "      <td>...</td>\n",
       "      <td>...</td>\n",
       "      <td>...</td>\n",
       "      <td>...</td>\n",
       "      <td>...</td>\n",
       "      <td>...</td>\n",
       "      <td>...</td>\n",
       "      <td>...</td>\n",
       "      <td>...</td>\n",
       "      <td>...</td>\n",
       "      <td>...</td>\n",
       "      <td>...</td>\n",
       "      <td>...</td>\n",
       "      <td>...</td>\n",
       "      <td>...</td>\n",
       "    </tr>\n",
       "    <tr>\n",
       "      <th>311</th>\n",
       "      <td>50341</td>\n",
       "      <td>Mexico</td>\n",
       "      <td>MEX</td>\n",
       "      <td>2022-03-23</td>\n",
       "      <td>189083111.0</td>\n",
       "      <td>85538032.0</td>\n",
       "      <td>79562871.0</td>\n",
       "      <td>197446.0</td>\n",
       "      <td>271794.0</td>\n",
       "      <td>145.16</td>\n",
       "      <td>65.67</td>\n",
       "      <td>61.08</td>\n",
       "      <td>2087.0</td>\n",
       "      <td>CanSino, Johnson&amp;Johnson, Moderna, Oxford/Astr...</td>\n",
       "      <td>Secretary of Health</td>\n",
       "      <td>http://www.gob.mx/cms/uploads/attachment/file/...</td>\n",
       "      <td>432 days</td>\n",
       "    </tr>\n",
       "    <tr>\n",
       "      <th>312</th>\n",
       "      <td>50344</td>\n",
       "      <td>Mexico</td>\n",
       "      <td>MEX</td>\n",
       "      <td>2022-03-26</td>\n",
       "      <td>190197035.0</td>\n",
       "      <td>85566651.0</td>\n",
       "      <td>79662373.0</td>\n",
       "      <td>392537.0</td>\n",
       "      <td>247902.0</td>\n",
       "      <td>146.01</td>\n",
       "      <td>65.69</td>\n",
       "      <td>61.16</td>\n",
       "      <td>1903.0</td>\n",
       "      <td>CanSino, Johnson&amp;Johnson, Moderna, Oxford/Astr...</td>\n",
       "      <td>Secretary of Health</td>\n",
       "      <td>http://www.gob.mx/cms/uploads/attachment/file/...</td>\n",
       "      <td>435 days</td>\n",
       "    </tr>\n",
       "    <tr>\n",
       "      <th>313</th>\n",
       "      <td>50345</td>\n",
       "      <td>Mexico</td>\n",
       "      <td>MEX</td>\n",
       "      <td>2022-03-27</td>\n",
       "      <td>190337668.0</td>\n",
       "      <td>85573127.0</td>\n",
       "      <td>79686428.0</td>\n",
       "      <td>140633.0</td>\n",
       "      <td>224913.0</td>\n",
       "      <td>146.12</td>\n",
       "      <td>65.69</td>\n",
       "      <td>61.17</td>\n",
       "      <td>1727.0</td>\n",
       "      <td>CanSino, Johnson&amp;Johnson, Moderna, Oxford/Astr...</td>\n",
       "      <td>Secretary of Health</td>\n",
       "      <td>http://www.gob.mx/cms/uploads/attachment/file/...</td>\n",
       "      <td>436 days</td>\n",
       "    </tr>\n",
       "    <tr>\n",
       "      <th>314</th>\n",
       "      <td>50346</td>\n",
       "      <td>Mexico</td>\n",
       "      <td>MEX</td>\n",
       "      <td>2022-03-28</td>\n",
       "      <td>190441475.0</td>\n",
       "      <td>85575818.0</td>\n",
       "      <td>79693409.0</td>\n",
       "      <td>103807.0</td>\n",
       "      <td>226775.0</td>\n",
       "      <td>146.20</td>\n",
       "      <td>65.70</td>\n",
       "      <td>61.18</td>\n",
       "      <td>1741.0</td>\n",
       "      <td>CanSino, Johnson&amp;Johnson, Moderna, Oxford/Astr...</td>\n",
       "      <td>Secretary of Health</td>\n",
       "      <td>http://www.gob.mx/cms/uploads/attachment/file/...</td>\n",
       "      <td>437 days</td>\n",
       "    </tr>\n",
       "    <tr>\n",
       "      <th>315</th>\n",
       "      <td>50347</td>\n",
       "      <td>Mexico</td>\n",
       "      <td>MEX</td>\n",
       "      <td>2022-03-29</td>\n",
       "      <td>191907868.0</td>\n",
       "      <td>85580293.0</td>\n",
       "      <td>79711762.0</td>\n",
       "      <td>1466393.0</td>\n",
       "      <td>431743.0</td>\n",
       "      <td>147.32</td>\n",
       "      <td>65.70</td>\n",
       "      <td>61.19</td>\n",
       "      <td>3314.0</td>\n",
       "      <td>CanSino, Johnson&amp;Johnson, Moderna, Oxford/Astr...</td>\n",
       "      <td>Secretary of Health</td>\n",
       "      <td>http://www.gob.mx/cms/uploads/attachment/file/...</td>\n",
       "      <td>438 days</td>\n",
       "    </tr>\n",
       "  </tbody>\n",
       "</table>\n",
       "<p>316 rows × 17 columns</p>\n",
       "</div>"
      ],
      "text/plain": [
       "     index country iso_code       date  total_vaccinations  people_vaccinated  \\\n",
       "0    49909  Mexico      MEX 2021-01-15            417375.0           415417.0   \n",
       "1    49910  Mexico      MEX 2021-01-16            463246.0           461025.0   \n",
       "2    49911  Mexico      MEX 2021-01-17            472142.0           468708.0   \n",
       "3    49912  Mexico      MEX 2021-01-18            492529.0           485983.0   \n",
       "4    49913  Mexico      MEX 2021-01-19            498122.0           488513.0   \n",
       "..     ...     ...      ...        ...                 ...                ...   \n",
       "311  50341  Mexico      MEX 2022-03-23         189083111.0         85538032.0   \n",
       "312  50344  Mexico      MEX 2022-03-26         190197035.0         85566651.0   \n",
       "313  50345  Mexico      MEX 2022-03-27         190337668.0         85573127.0   \n",
       "314  50346  Mexico      MEX 2022-03-28         190441475.0         85575818.0   \n",
       "315  50347  Mexico      MEX 2022-03-29         191907868.0         85580293.0   \n",
       "\n",
       "     people_fully_vaccinated  daily_vaccinations_raw  daily_vaccinations  \\\n",
       "0                     1958.0                 87392.0             49987.0   \n",
       "1                     2221.0                 45871.0             55493.0   \n",
       "2                     3434.0                  8896.0             55835.0   \n",
       "3                     6546.0                 20387.0             57924.0   \n",
       "4                     9609.0                  5593.0             57892.0   \n",
       "..                       ...                     ...                 ...   \n",
       "311               79562871.0                197446.0            271794.0   \n",
       "312               79662373.0                392537.0            247902.0   \n",
       "313               79686428.0                140633.0            224913.0   \n",
       "314               79693409.0                103807.0            226775.0   \n",
       "315               79711762.0               1466393.0            431743.0   \n",
       "\n",
       "     total_vaccinations_per_hundred  people_vaccinated_per_hundred  \\\n",
       "0                              0.32                           0.32   \n",
       "1                              0.36                           0.35   \n",
       "2                              0.36                           0.36   \n",
       "3                              0.38                           0.37   \n",
       "4                              0.38                           0.38   \n",
       "..                              ...                            ...   \n",
       "311                          145.16                          65.67   \n",
       "312                          146.01                          65.69   \n",
       "313                          146.12                          65.69   \n",
       "314                          146.20                          65.70   \n",
       "315                          147.32                          65.70   \n",
       "\n",
       "     people_fully_vaccinated_per_hundred  daily_vaccinations_per_million  \\\n",
       "0                                   0.00                           384.0   \n",
       "1                                   0.00                           426.0   \n",
       "2                                   0.00                           429.0   \n",
       "3                                   0.01                           445.0   \n",
       "4                                   0.01                           444.0   \n",
       "..                                   ...                             ...   \n",
       "311                                61.08                          2087.0   \n",
       "312                                61.16                          1903.0   \n",
       "313                                61.17                          1727.0   \n",
       "314                                61.18                          1741.0   \n",
       "315                                61.19                          3314.0   \n",
       "\n",
       "                                              vaccines          source_name  \\\n",
       "0    CanSino, Johnson&Johnson, Moderna, Oxford/Astr...  Secretary of Health   \n",
       "1    CanSino, Johnson&Johnson, Moderna, Oxford/Astr...  Secretary of Health   \n",
       "2    CanSino, Johnson&Johnson, Moderna, Oxford/Astr...  Secretary of Health   \n",
       "3    CanSino, Johnson&Johnson, Moderna, Oxford/Astr...  Secretary of Health   \n",
       "4    CanSino, Johnson&Johnson, Moderna, Oxford/Astr...  Secretary of Health   \n",
       "..                                                 ...                  ...   \n",
       "311  CanSino, Johnson&Johnson, Moderna, Oxford/Astr...  Secretary of Health   \n",
       "312  CanSino, Johnson&Johnson, Moderna, Oxford/Astr...  Secretary of Health   \n",
       "313  CanSino, Johnson&Johnson, Moderna, Oxford/Astr...  Secretary of Health   \n",
       "314  CanSino, Johnson&Johnson, Moderna, Oxford/Astr...  Secretary of Health   \n",
       "315  CanSino, Johnson&Johnson, Moderna, Oxford/Astr...  Secretary of Health   \n",
       "\n",
       "                                        source_website time_passed  \n",
       "0    http://www.gob.mx/cms/uploads/attachment/file/...      0 days  \n",
       "1    http://www.gob.mx/cms/uploads/attachment/file/...      1 days  \n",
       "2    http://www.gob.mx/cms/uploads/attachment/file/...      2 days  \n",
       "3    http://www.gob.mx/cms/uploads/attachment/file/...      3 days  \n",
       "4    http://www.gob.mx/cms/uploads/attachment/file/...      4 days  \n",
       "..                                                 ...         ...  \n",
       "311  http://www.gob.mx/cms/uploads/attachment/file/...    432 days  \n",
       "312  http://www.gob.mx/cms/uploads/attachment/file/...    435 days  \n",
       "313  http://www.gob.mx/cms/uploads/attachment/file/...    436 days  \n",
       "314  http://www.gob.mx/cms/uploads/attachment/file/...    437 days  \n",
       "315  http://www.gob.mx/cms/uploads/attachment/file/...    438 days  \n",
       "\n",
       "[316 rows x 17 columns]"
      ]
     },
     "execution_count": 31,
     "metadata": {},
     "output_type": "execute_result"
    }
   ],
   "source": [
    "data"
   ]
  },
  {
   "cell_type": "code",
   "execution_count": 27,
   "id": "c8afcd10",
   "metadata": {},
   "outputs": [
    {
     "data": {
      "text/plain": [
       "index                                           int64\n",
       "date                                   datetime64[ns]\n",
       "total_vaccinations                            float64\n",
       "people_vaccinated                             float64\n",
       "people_fully_vaccinated                       float64\n",
       "daily_vaccinations_raw                        float64\n",
       "daily_vaccinations                            float64\n",
       "total_vaccinations_per_hundred                float64\n",
       "people_vaccinated_per_hundred                 float64\n",
       "people_fully_vaccinated_per_hundred           float64\n",
       "daily_vaccinations_per_million                float64\n",
       "dtype: object"
      ]
     },
     "execution_count": 27,
     "metadata": {},
     "output_type": "execute_result"
    }
   ],
   "source": [
    "data.dtypes"
   ]
  },
  {
   "cell_type": "code",
   "execution_count": 32,
   "id": "7a028fc2",
   "metadata": {},
   "outputs": [],
   "source": [
    "ndata = data[['time_passed',\n",
    "              'total_vaccinations',\n",
    "              'people_vaccinated',\n",
    "              'people_fully_vaccinated',\n",
    "              'daily_vaccinations_raw',\n",
    "              'daily_vaccinations',\n",
    "              'total_vaccinations_per_hundred',\n",
    "              'people_vaccinated_per_hundred',\n",
    "              'people_fully_vaccinated_per_hundred',\n",
    "              'daily_vaccinations_per_million']]"
   ]
  },
  {
   "cell_type": "code",
   "execution_count": 33,
   "id": "a0fafb37",
   "metadata": {},
   "outputs": [
    {
     "data": {
      "text/html": [
       "<div>\n",
       "<style scoped>\n",
       "    .dataframe tbody tr th:only-of-type {\n",
       "        vertical-align: middle;\n",
       "    }\n",
       "\n",
       "    .dataframe tbody tr th {\n",
       "        vertical-align: top;\n",
       "    }\n",
       "\n",
       "    .dataframe thead th {\n",
       "        text-align: right;\n",
       "    }\n",
       "</style>\n",
       "<table border=\"1\" class=\"dataframe\">\n",
       "  <thead>\n",
       "    <tr style=\"text-align: right;\">\n",
       "      <th></th>\n",
       "      <th>time_passed</th>\n",
       "      <th>total_vaccinations</th>\n",
       "      <th>people_vaccinated</th>\n",
       "      <th>people_fully_vaccinated</th>\n",
       "      <th>daily_vaccinations_raw</th>\n",
       "      <th>daily_vaccinations</th>\n",
       "      <th>total_vaccinations_per_hundred</th>\n",
       "      <th>people_vaccinated_per_hundred</th>\n",
       "      <th>people_fully_vaccinated_per_hundred</th>\n",
       "      <th>daily_vaccinations_per_million</th>\n",
       "    </tr>\n",
       "  </thead>\n",
       "  <tbody>\n",
       "    <tr>\n",
       "      <th>0</th>\n",
       "      <td>0 days</td>\n",
       "      <td>417375.0</td>\n",
       "      <td>415417.0</td>\n",
       "      <td>1958.0</td>\n",
       "      <td>87392.0</td>\n",
       "      <td>49987.0</td>\n",
       "      <td>0.32</td>\n",
       "      <td>0.32</td>\n",
       "      <td>0.00</td>\n",
       "      <td>384.0</td>\n",
       "    </tr>\n",
       "    <tr>\n",
       "      <th>1</th>\n",
       "      <td>1 days</td>\n",
       "      <td>463246.0</td>\n",
       "      <td>461025.0</td>\n",
       "      <td>2221.0</td>\n",
       "      <td>45871.0</td>\n",
       "      <td>55493.0</td>\n",
       "      <td>0.36</td>\n",
       "      <td>0.35</td>\n",
       "      <td>0.00</td>\n",
       "      <td>426.0</td>\n",
       "    </tr>\n",
       "    <tr>\n",
       "      <th>2</th>\n",
       "      <td>2 days</td>\n",
       "      <td>472142.0</td>\n",
       "      <td>468708.0</td>\n",
       "      <td>3434.0</td>\n",
       "      <td>8896.0</td>\n",
       "      <td>55835.0</td>\n",
       "      <td>0.36</td>\n",
       "      <td>0.36</td>\n",
       "      <td>0.00</td>\n",
       "      <td>429.0</td>\n",
       "    </tr>\n",
       "    <tr>\n",
       "      <th>3</th>\n",
       "      <td>3 days</td>\n",
       "      <td>492529.0</td>\n",
       "      <td>485983.0</td>\n",
       "      <td>6546.0</td>\n",
       "      <td>20387.0</td>\n",
       "      <td>57924.0</td>\n",
       "      <td>0.38</td>\n",
       "      <td>0.37</td>\n",
       "      <td>0.01</td>\n",
       "      <td>445.0</td>\n",
       "    </tr>\n",
       "    <tr>\n",
       "      <th>4</th>\n",
       "      <td>4 days</td>\n",
       "      <td>498122.0</td>\n",
       "      <td>488513.0</td>\n",
       "      <td>9609.0</td>\n",
       "      <td>5593.0</td>\n",
       "      <td>57892.0</td>\n",
       "      <td>0.38</td>\n",
       "      <td>0.38</td>\n",
       "      <td>0.01</td>\n",
       "      <td>444.0</td>\n",
       "    </tr>\n",
       "  </tbody>\n",
       "</table>\n",
       "</div>"
      ],
      "text/plain": [
       "  time_passed  total_vaccinations  people_vaccinated  people_fully_vaccinated  \\\n",
       "0      0 days            417375.0           415417.0                   1958.0   \n",
       "1      1 days            463246.0           461025.0                   2221.0   \n",
       "2      2 days            472142.0           468708.0                   3434.0   \n",
       "3      3 days            492529.0           485983.0                   6546.0   \n",
       "4      4 days            498122.0           488513.0                   9609.0   \n",
       "\n",
       "   daily_vaccinations_raw  daily_vaccinations  total_vaccinations_per_hundred  \\\n",
       "0                 87392.0             49987.0                            0.32   \n",
       "1                 45871.0             55493.0                            0.36   \n",
       "2                  8896.0             55835.0                            0.36   \n",
       "3                 20387.0             57924.0                            0.38   \n",
       "4                  5593.0             57892.0                            0.38   \n",
       "\n",
       "   people_vaccinated_per_hundred  people_fully_vaccinated_per_hundred  \\\n",
       "0                           0.32                                 0.00   \n",
       "1                           0.35                                 0.00   \n",
       "2                           0.36                                 0.00   \n",
       "3                           0.37                                 0.01   \n",
       "4                           0.38                                 0.01   \n",
       "\n",
       "   daily_vaccinations_per_million  \n",
       "0                           384.0  \n",
       "1                           426.0  \n",
       "2                           429.0  \n",
       "3                           445.0  \n",
       "4                           444.0  "
      ]
     },
     "execution_count": 33,
     "metadata": {},
     "output_type": "execute_result"
    }
   ],
   "source": [
    "ndata.head()"
   ]
  },
  {
   "cell_type": "code",
   "execution_count": 36,
   "id": "fc840766",
   "metadata": {},
   "outputs": [
    {
     "data": {
      "text/html": [
       "<div>\n",
       "<style scoped>\n",
       "    .dataframe tbody tr th:only-of-type {\n",
       "        vertical-align: middle;\n",
       "    }\n",
       "\n",
       "    .dataframe tbody tr th {\n",
       "        vertical-align: top;\n",
       "    }\n",
       "\n",
       "    .dataframe thead th {\n",
       "        text-align: right;\n",
       "    }\n",
       "</style>\n",
       "<table border=\"1\" class=\"dataframe\">\n",
       "  <thead>\n",
       "    <tr style=\"text-align: right;\">\n",
       "      <th></th>\n",
       "      <th>time_passed</th>\n",
       "      <th>total_vaccinations</th>\n",
       "      <th>people_vaccinated</th>\n",
       "      <th>people_fully_vaccinated</th>\n",
       "      <th>daily_vaccinations_raw</th>\n",
       "      <th>daily_vaccinations</th>\n",
       "      <th>total_vaccinations_per_hundred</th>\n",
       "      <th>people_vaccinated_per_hundred</th>\n",
       "      <th>people_fully_vaccinated_per_hundred</th>\n",
       "      <th>daily_vaccinations_per_million</th>\n",
       "    </tr>\n",
       "  </thead>\n",
       "  <tbody>\n",
       "    <tr>\n",
       "      <th>0</th>\n",
       "      <td>0 days</td>\n",
       "      <td>417375.0</td>\n",
       "      <td>415417.0</td>\n",
       "      <td>1958.0</td>\n",
       "      <td>87392.0</td>\n",
       "      <td>49987.0</td>\n",
       "      <td>0.32</td>\n",
       "      <td>0.32</td>\n",
       "      <td>0.00</td>\n",
       "      <td>384.0</td>\n",
       "    </tr>\n",
       "    <tr>\n",
       "      <th>1</th>\n",
       "      <td>1 days</td>\n",
       "      <td>463246.0</td>\n",
       "      <td>461025.0</td>\n",
       "      <td>2221.0</td>\n",
       "      <td>45871.0</td>\n",
       "      <td>55493.0</td>\n",
       "      <td>0.36</td>\n",
       "      <td>0.35</td>\n",
       "      <td>0.00</td>\n",
       "      <td>426.0</td>\n",
       "    </tr>\n",
       "    <tr>\n",
       "      <th>2</th>\n",
       "      <td>2 days</td>\n",
       "      <td>472142.0</td>\n",
       "      <td>468708.0</td>\n",
       "      <td>3434.0</td>\n",
       "      <td>8896.0</td>\n",
       "      <td>55835.0</td>\n",
       "      <td>0.36</td>\n",
       "      <td>0.36</td>\n",
       "      <td>0.00</td>\n",
       "      <td>429.0</td>\n",
       "    </tr>\n",
       "    <tr>\n",
       "      <th>3</th>\n",
       "      <td>3 days</td>\n",
       "      <td>492529.0</td>\n",
       "      <td>485983.0</td>\n",
       "      <td>6546.0</td>\n",
       "      <td>20387.0</td>\n",
       "      <td>57924.0</td>\n",
       "      <td>0.38</td>\n",
       "      <td>0.37</td>\n",
       "      <td>0.01</td>\n",
       "      <td>445.0</td>\n",
       "    </tr>\n",
       "    <tr>\n",
       "      <th>4</th>\n",
       "      <td>4 days</td>\n",
       "      <td>498122.0</td>\n",
       "      <td>488513.0</td>\n",
       "      <td>9609.0</td>\n",
       "      <td>5593.0</td>\n",
       "      <td>57892.0</td>\n",
       "      <td>0.38</td>\n",
       "      <td>0.38</td>\n",
       "      <td>0.01</td>\n",
       "      <td>444.0</td>\n",
       "    </tr>\n",
       "    <tr>\n",
       "      <th>...</th>\n",
       "      <td>...</td>\n",
       "      <td>...</td>\n",
       "      <td>...</td>\n",
       "      <td>...</td>\n",
       "      <td>...</td>\n",
       "      <td>...</td>\n",
       "      <td>...</td>\n",
       "      <td>...</td>\n",
       "      <td>...</td>\n",
       "      <td>...</td>\n",
       "    </tr>\n",
       "    <tr>\n",
       "      <th>311</th>\n",
       "      <td>432 days</td>\n",
       "      <td>189083111.0</td>\n",
       "      <td>85538032.0</td>\n",
       "      <td>79562871.0</td>\n",
       "      <td>197446.0</td>\n",
       "      <td>271794.0</td>\n",
       "      <td>145.16</td>\n",
       "      <td>65.67</td>\n",
       "      <td>61.08</td>\n",
       "      <td>2087.0</td>\n",
       "    </tr>\n",
       "    <tr>\n",
       "      <th>312</th>\n",
       "      <td>435 days</td>\n",
       "      <td>190197035.0</td>\n",
       "      <td>85566651.0</td>\n",
       "      <td>79662373.0</td>\n",
       "      <td>392537.0</td>\n",
       "      <td>247902.0</td>\n",
       "      <td>146.01</td>\n",
       "      <td>65.69</td>\n",
       "      <td>61.16</td>\n",
       "      <td>1903.0</td>\n",
       "    </tr>\n",
       "    <tr>\n",
       "      <th>313</th>\n",
       "      <td>436 days</td>\n",
       "      <td>190337668.0</td>\n",
       "      <td>85573127.0</td>\n",
       "      <td>79686428.0</td>\n",
       "      <td>140633.0</td>\n",
       "      <td>224913.0</td>\n",
       "      <td>146.12</td>\n",
       "      <td>65.69</td>\n",
       "      <td>61.17</td>\n",
       "      <td>1727.0</td>\n",
       "    </tr>\n",
       "    <tr>\n",
       "      <th>314</th>\n",
       "      <td>437 days</td>\n",
       "      <td>190441475.0</td>\n",
       "      <td>85575818.0</td>\n",
       "      <td>79693409.0</td>\n",
       "      <td>103807.0</td>\n",
       "      <td>226775.0</td>\n",
       "      <td>146.20</td>\n",
       "      <td>65.70</td>\n",
       "      <td>61.18</td>\n",
       "      <td>1741.0</td>\n",
       "    </tr>\n",
       "    <tr>\n",
       "      <th>315</th>\n",
       "      <td>438 days</td>\n",
       "      <td>191907868.0</td>\n",
       "      <td>85580293.0</td>\n",
       "      <td>79711762.0</td>\n",
       "      <td>1466393.0</td>\n",
       "      <td>431743.0</td>\n",
       "      <td>147.32</td>\n",
       "      <td>65.70</td>\n",
       "      <td>61.19</td>\n",
       "      <td>3314.0</td>\n",
       "    </tr>\n",
       "  </tbody>\n",
       "</table>\n",
       "<p>316 rows × 10 columns</p>\n",
       "</div>"
      ],
      "text/plain": [
       "    time_passed  total_vaccinations  people_vaccinated  \\\n",
       "0        0 days            417375.0           415417.0   \n",
       "1        1 days            463246.0           461025.0   \n",
       "2        2 days            472142.0           468708.0   \n",
       "3        3 days            492529.0           485983.0   \n",
       "4        4 days            498122.0           488513.0   \n",
       "..          ...                 ...                ...   \n",
       "311    432 days         189083111.0         85538032.0   \n",
       "312    435 days         190197035.0         85566651.0   \n",
       "313    436 days         190337668.0         85573127.0   \n",
       "314    437 days         190441475.0         85575818.0   \n",
       "315    438 days         191907868.0         85580293.0   \n",
       "\n",
       "     people_fully_vaccinated  daily_vaccinations_raw  daily_vaccinations  \\\n",
       "0                     1958.0                 87392.0             49987.0   \n",
       "1                     2221.0                 45871.0             55493.0   \n",
       "2                     3434.0                  8896.0             55835.0   \n",
       "3                     6546.0                 20387.0             57924.0   \n",
       "4                     9609.0                  5593.0             57892.0   \n",
       "..                       ...                     ...                 ...   \n",
       "311               79562871.0                197446.0            271794.0   \n",
       "312               79662373.0                392537.0            247902.0   \n",
       "313               79686428.0                140633.0            224913.0   \n",
       "314               79693409.0                103807.0            226775.0   \n",
       "315               79711762.0               1466393.0            431743.0   \n",
       "\n",
       "     total_vaccinations_per_hundred  people_vaccinated_per_hundred  \\\n",
       "0                              0.32                           0.32   \n",
       "1                              0.36                           0.35   \n",
       "2                              0.36                           0.36   \n",
       "3                              0.38                           0.37   \n",
       "4                              0.38                           0.38   \n",
       "..                              ...                            ...   \n",
       "311                          145.16                          65.67   \n",
       "312                          146.01                          65.69   \n",
       "313                          146.12                          65.69   \n",
       "314                          146.20                          65.70   \n",
       "315                          147.32                          65.70   \n",
       "\n",
       "     people_fully_vaccinated_per_hundred  daily_vaccinations_per_million  \n",
       "0                                   0.00                           384.0  \n",
       "1                                   0.00                           426.0  \n",
       "2                                   0.00                           429.0  \n",
       "3                                   0.01                           445.0  \n",
       "4                                   0.01                           444.0  \n",
       "..                                   ...                             ...  \n",
       "311                                61.08                          2087.0  \n",
       "312                                61.16                          1903.0  \n",
       "313                                61.17                          1727.0  \n",
       "314                                61.18                          1741.0  \n",
       "315                                61.19                          3314.0  \n",
       "\n",
       "[316 rows x 10 columns]"
      ]
     },
     "execution_count": 36,
     "metadata": {},
     "output_type": "execute_result"
    }
   ],
   "source": [
    "ndata"
   ]
  },
  {
   "cell_type": "code",
   "execution_count": 37,
   "id": "131b074d",
   "metadata": {},
   "outputs": [
    {
     "data": {
      "text/plain": [
       "0        0\n",
       "1        1\n",
       "2        2\n",
       "3        3\n",
       "4        4\n",
       "      ... \n",
       "311    432\n",
       "312    435\n",
       "313    436\n",
       "314    437\n",
       "315    438\n",
       "Name: time_passed, Length: 316, dtype: int64"
      ]
     },
     "execution_count": 37,
     "metadata": {},
     "output_type": "execute_result"
    }
   ],
   "source": [
    "ndata['time_passed'].dt.days"
   ]
  },
  {
   "cell_type": "code",
   "execution_count": 39,
   "id": "7fb2face",
   "metadata": {},
   "outputs": [],
   "source": [
    "ndata['time_passed']=ndata['time_passed'].dt.days"
   ]
  },
  {
   "cell_type": "code",
   "execution_count": 40,
   "id": "42c5a218",
   "metadata": {},
   "outputs": [
    {
     "data": {
      "text/plain": [
       "time_passed                              int64\n",
       "total_vaccinations                     float64\n",
       "people_vaccinated                      float64\n",
       "people_fully_vaccinated                float64\n",
       "daily_vaccinations_raw                 float64\n",
       "daily_vaccinations                     float64\n",
       "total_vaccinations_per_hundred         float64\n",
       "people_vaccinated_per_hundred          float64\n",
       "people_fully_vaccinated_per_hundred    float64\n",
       "daily_vaccinations_per_million         float64\n",
       "dtype: object"
      ]
     },
     "execution_count": 40,
     "metadata": {},
     "output_type": "execute_result"
    }
   ],
   "source": [
    "ndata.dtypes"
   ]
  },
  {
   "cell_type": "code",
   "execution_count": 41,
   "id": "8b83be99",
   "metadata": {},
   "outputs": [
    {
     "data": {
      "text/plain": [
       "(316, 10)"
      ]
     },
     "execution_count": 41,
     "metadata": {},
     "output_type": "execute_result"
    }
   ],
   "source": [
    "ndata.shape"
   ]
  },
  {
   "cell_type": "code",
   "execution_count": 42,
   "id": "67ff1fb6",
   "metadata": {},
   "outputs": [
    {
     "data": {
      "text/plain": [
       "<AxesSubplot:xlabel='time_passed'>"
      ]
     },
     "execution_count": 42,
     "metadata": {},
     "output_type": "execute_result"
    },
    {
     "data": {
      "image/png": "[encoded data removed]",
      "text/plain": [
       "<Figure size 432x288 with 1 Axes>"
      ]
     },
     "metadata": {
      "needs_background": "light"
     },
     "output_type": "display_data"
    }
   ],
   "source": [
    "ndata.plot(x = 'time_passed', y = 'total_vaccinations')"
   ]
  },
  {
   "cell_type": "code",
   "execution_count": 132,
   "id": "ef5493a5",
   "metadata": {},
   "outputs": [],
   "source": [
    "# data_train = np.array(ndata['time_passed']).reshape(-1, 1)\n",
    "data_train = ndata\n",
    "target = ndata['total_vaccinations']"
   ]
  },
  {
   "cell_type": "code",
   "execution_count": 133,
   "id": "c3cc8cc3",
   "metadata": {},
   "outputs": [],
   "source": [
    "# Test train split for supervised training\n",
    "X_train, X_test, y_train, y_test = train_test_split(data_train, target,test_size=0.3 , random_state=10)"
   ]
  },
  {
   "cell_type": "code",
   "execution_count": 134,
   "id": "cbe41633",
   "metadata": {},
   "outputs": [
    {
     "data": {
      "text/plain": [
       "((221, 10), (221,))"
      ]
     },
     "execution_count": 134,
     "metadata": {},
     "output_type": "execute_result"
    }
   ],
   "source": [
    "X_train.shape, y_train.shape"
   ]
  },
  {
   "cell_type": "code",
   "execution_count": 135,
   "id": "a009e7e9",
   "metadata": {},
   "outputs": [
    {
     "data": {
      "text/plain": [
       "((95, 10), (95,))"
      ]
     },
     "execution_count": 135,
     "metadata": {},
     "output_type": "execute_result"
    }
   ],
   "source": [
    "X_test.shape, y_test.shape"
   ]
  },
  {
   "cell_type": "code",
   "execution_count": 136,
   "id": "d4a9c38c",
   "metadata": {
    "scrolled": false
   },
   "outputs": [
    {
     "data": {
      "text/plain": [
       "LinearRegression(fit_intercept=False)"
      ]
     },
     "execution_count": 136,
     "metadata": {},
     "output_type": "execute_result"
    }
   ],
   "source": [
    "reg = LinearRegression(fit_intercept=False)\n",
    "reg.fit(ndata[['time_passed']],ndata.total_vaccinations)"
   ]
  },
  {
   "cell_type": "code",
   "execution_count": 137,
   "id": "683d38a4",
   "metadata": {},
   "outputs": [],
   "source": [
    "predicted = []\n",
    "a = ndata.time_passed\n",
    "a = list(a)\n",
    "for i in a:\n",
    "    predicted.append(reg.predict([[i]]))"
   ]
  },
  {
   "cell_type": "code",
   "execution_count": 138,
   "id": "e6aa9e03",
   "metadata": {},
   "outputs": [],
   "source": [
    "npredicted = []\n",
    "for i in range(len(predicted)):\n",
    "    npredicted.append((predicted[i][0]))"
   ]
  },
  {
   "cell_type": "code",
   "execution_count": 141,
   "id": "9104806d",
   "metadata": {},
   "outputs": [
    {
     "data": {
      "text/plain": [
       "[<matplotlib.lines.Line2D at 0x1cde8cdae50>]"
      ]
     },
     "execution_count": 141,
     "metadata": {},
     "output_type": "execute_result"
    },
    {
     "data": {
      "image/png": "[encoded data removed]",
      "text/plain": [
       "<Figure size 432x288 with 1 Axes>"
      ]
     },
     "metadata": {
      "needs_background": "light"
     },
     "output_type": "display_data"
    }
   ],
   "source": [
    "plt.plot(ndata['time_passed'],ndata['total_vaccinations'], color='red')\n",
    "plt.plot(ndata['time_passed'],npredicted)"
   ]
  },
  {
   "cell_type": "code",
   "execution_count": null,
   "id": "2bc1a974",
   "metadata": {},
   "outputs": [],
   "source": []
  },
  {
   "cell_type": "code",
   "execution_count": 132,
   "id": "31622475",
   "metadata": {},
   "outputs": [],
   "source": [
    "# data_train = np.array(ndata['time_passed']).reshape(-1, 1)\n",
    "data_train = ndata\n",
    "target = ndata['total_vaccinations']"
   ]
  },
  {
   "cell_type": "code",
   "execution_count": 133,
   "id": "f4ea0b8b",
   "metadata": {},
   "outputs": [],
   "source": [
    "# Test train split for supervised training\n",
    "X_train, X_test, y_train, y_test = train_test_split(data_train, target,test_size=0.3 , random_state=10)"
   ]
  },
  {
   "cell_type": "code",
   "execution_count": 134,
   "id": "219902c5",
   "metadata": {},
   "outputs": [
    {
     "data": {
      "text/plain": [
       "((221, 10), (221,))"
      ]
     },
     "execution_count": 134,
     "metadata": {},
     "output_type": "execute_result"
    }
   ],
   "source": [
    "X_train.shape, y_train.shape"
   ]
  },
  {
   "cell_type": "code",
   "execution_count": 135,
   "id": "86663f10",
   "metadata": {},
   "outputs": [
    {
     "data": {
      "text/plain": [
       "((95, 10), (95,))"
      ]
     },
     "execution_count": 135,
     "metadata": {},
     "output_type": "execute_result"
    }
   ],
   "source": [
    "X_test.shape, y_test.shape"
   ]
  },
  {
   "cell_type": "code",
   "execution_count": 142,
   "id": "6036ec8c",
   "metadata": {
    "scrolled": false
   },
   "outputs": [
    {
     "data": {
      "text/plain": [
       "LinearRegression()"
      ]
     },
     "execution_count": 142,
     "metadata": {},
     "output_type": "execute_result"
    }
   ],
   "source": [
    "reg = LinearRegression(fit_intercept=True)\n",
    "reg.fit(ndata[['time_passed']],ndata.total_vaccinations)"
   ]
  },
  {
   "cell_type": "code",
   "execution_count": 143,
   "id": "cab26eaa",
   "metadata": {},
   "outputs": [],
   "source": [
    "predicted = []\n",
    "a = ndata.time_passed\n",
    "a = list(a)\n",
    "for i in a:\n",
    "    predicted.append(reg.predict([[i]]))"
   ]
  },
  {
   "cell_type": "code",
   "execution_count": 144,
   "id": "8b7cdad0",
   "metadata": {},
   "outputs": [],
   "source": [
    "npredicted = []\n",
    "for i in range(len(predicted)):\n",
    "    npredicted.append((predicted[i][0]))"
   ]
  },
  {
   "cell_type": "code",
   "execution_count": 145,
   "id": "65540414",
   "metadata": {},
   "outputs": [
    {
     "data": {
      "text/plain": [
       "[<matplotlib.lines.Line2D at 0x1cde8d53310>]"
      ]
     },
     "execution_count": 145,
     "metadata": {},
     "output_type": "execute_result"
    },
    {
     "data": {
      "image/png": "[encoded data removed]",
      "text/plain": [
       "<Figure size 432x288 with 1 Axes>"
      ]
     },
     "metadata": {
      "needs_background": "light"
     },
     "output_type": "display_data"
    }
   ],
   "source": [
    "plt.plot(ndata['time_passed'],ndata['total_vaccinations'], color='red')\n",
    "plt.plot(ndata['time_passed'],npredicted)"
   ]
  },
  {
   "cell_type": "code",
   "execution_count": 146,
   "id": "28b0e2db",
   "metadata": {},
   "outputs": [
    {
     "data": {
      "text/plain": [
       "array([486635.45266316])"
      ]
     },
     "execution_count": 146,
     "metadata": {},
     "output_type": "execute_result"
    }
   ],
   "source": [
    "reg.coef_"
   ]
  },
  {
   "cell_type": "code",
   "execution_count": 148,
   "id": "ef77677c",
   "metadata": {},
   "outputs": [
    {
     "data": {
      "text/plain": [
       "-24680963.317750588"
      ]
     },
     "execution_count": 148,
     "metadata": {},
     "output_type": "execute_result"
    }
   ],
   "source": [
    "reg.intercept_"
   ]
  },
  {
   "cell_type": "code",
   "execution_count": null,
   "id": "4c07c31a",
   "metadata": {},
   "outputs": [],
   "source": [
    "def find_x_value_for_given_y(linear_model,y):\n",
    "    m = linear_model.coef_\n",
    "    b = linear_model.intercept_\n",
    "    # y = m * x + b -> x = (y - b) / m\n",
    "    (y-b) / m\n",
    "    \n",
    "    \n",
    "    "
   ]
  },
  {
   "cell_type": "code",
   "execution_count": null,
   "id": "d1140ccf",
   "metadata": {},
   "outputs": [],
   "source": []
  },
  {
   "cell_type": "code",
   "execution_count": null,
   "id": "4d8b3831",
   "metadata": {},
   "outputs": [],
   "source": []
  },
  {
   "cell_type": "code",
   "execution_count": null,
   "id": "bbdc6a5e",
   "metadata": {},
   "outputs": [],
   "source": [
    "year21 = mex_cv[(mex_cv['date'] >= '2021-01-01')&(mex_cv['date'] <= '2021-12-31')]"
   ]
  },
  {
   "cell_type": "code",
   "execution_count": null,
   "id": "e9cfaded",
   "metadata": {
    "scrolled": true
   },
   "outputs": [],
   "source": [
    "year21"
   ]
  },
  {
   "cell_type": "code",
   "execution_count": null,
   "id": "147b0cdd",
   "metadata": {},
   "outputs": [],
   "source": [
    "year21.plot(x = 'index', y = 'total_vaccinations')"
   ]
  },
  {
   "cell_type": "code",
   "execution_count": null,
   "id": "24dcfd1c",
   "metadata": {},
   "outputs": [],
   "source": [
    "year22 = mex_cv[(mex_cv['date'] >= '2022-01-01')&(mex_cv['date'] <= '2022-12-31')]"
   ]
  },
  {
   "cell_type": "code",
   "execution_count": null,
   "id": "1bf01a6f",
   "metadata": {},
   "outputs": [],
   "source": [
    "year22.plot(x = 'index', y = 'total_vaccinations')"
   ]
  },
  {
   "cell_type": "code",
   "execution_count": null,
   "id": "56d1e9bf",
   "metadata": {},
   "outputs": [],
   "source": [
    "def show_vaccinations_per_month(year, df):\n",
    "    year_str_init = str(str(year) + '-01-01')\n",
    "    year_str_end = str(str(year)+'-12-31')\n",
    "    aux = df[(df['date'] >= year_str_init)&(df['date'] <= year_str_end)]\n",
    "    title_s = 'Total vaccionations in '+str(year)\n",
    "    aux.plot(x='index', y = 'total_vaccinations', title=title_s)"
   ]
  },
  {
   "cell_type": "code",
   "execution_count": null,
   "id": "716c3874",
   "metadata": {},
   "outputs": [],
   "source": [
    "for year in [2021,2022]:\n",
    "    show_vaccinations_per_month(year, mex_cv)"
   ]
  },
  {
   "cell_type": "code",
   "execution_count": null,
   "id": "f05fbe9c",
   "metadata": {},
   "outputs": [],
   "source": [
    "mex_cv['yyyy'] = pd.to_datetime(mex_cv['date']).dt.year\n",
    "mex_cv['mm'] = pd.to_datetime(mex_cv['date']).dt.month"
   ]
  },
  {
   "cell_type": "code",
   "execution_count": null,
   "id": "a466767c",
   "metadata": {},
   "outputs": [],
   "source": [
    "mex_cv"
   ]
  }
 ],
 "metadata": {
  "kernelspec": {
   "display_name": "Python 3 (ipykernel)",
   "language": "python",
   "name": "python3"
  },
  "language_info": {
   "codemirror_mode": {
    "name": "ipython",
    "version": 3
   },
   "file_extension": ".py",
   "mimetype": "text/x-python",
   "name": "python",
   "nbconvert_exporter": "python",
   "pygments_lexer": "ipython3",
   "version": "3.9.7"
  }
 },
 "nbformat": 4,
 "nbformat_minor": 5
}
