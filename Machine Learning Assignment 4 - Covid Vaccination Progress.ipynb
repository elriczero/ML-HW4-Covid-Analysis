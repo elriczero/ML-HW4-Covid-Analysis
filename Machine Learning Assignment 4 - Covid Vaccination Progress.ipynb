{
 "cells": [
  {
   "cell_type": "markdown",
   "id": "dafb3b66",
   "metadata": {},
   "source": [
    "__Teammates__\n",
    "\n",
    "* Jorge Armando Jimenez\n",
    "\n",
    "* Salvador Pluma\n",
    "\n",
    "* Emanuel de la Cruz"
   ]
  },
  {
   "cell_type": "markdown",
   "id": "42963842",
   "metadata": {},
   "source": [
    "__Instructions__:\n",
    "\n",
    "1. You will work on one of the datasets available on kaggle repository around COVID-19 (https://www.kaggle.com/). See the document  Descargar documentfor detailed specifications and chose a specific challenge.\n",
    "\n",
    "2. Develop a Python notebook (file with termination “ipynb”), which will include the application of three classifiers, using the sklearn library, and eventually using a percentage T% of the samples.\n",
    "\n",
    "3. Describe the learning process and the test results in a very well explained notebook that includes title, authors, summary, description of the work done (here will be the code), results (of the performance tests and their explanation), discussion and conclusions, with bibliographic references at the end.\n"
   ]
  },
  {
   "cell_type": "markdown",
   "id": "2e8e9641",
   "metadata": {},
   "source": [
    "__Importing Libraries__"
   ]
  },
  {
   "cell_type": "code",
   "execution_count": 1,
   "id": "9f397e6a",
   "metadata": {},
   "outputs": [
    {
     "data": {
      "text/html": [
       "        <script type=\"text/javascript\">\n",
       "        window.PlotlyConfig = {MathJaxConfig: 'local'};\n",
       "        if (window.MathJax) {MathJax.Hub.Config({SVG: {font: \"STIX-Web\"}});}\n",
       "        if (typeof require !== 'undefined') {\n",
       "        require.undef(\"plotly\");\n",
       "        requirejs.config({\n",
       "            paths: {\n",
       "                'plotly': ['https://cdn.plot.ly/plotly-2.9.0.min']\n",
       "            }\n",
       "        });\n",
       "        require(['plotly'], function(Plotly) {\n",
       "            window._Plotly = Plotly;\n",
       "        });\n",
       "        }\n",
       "        </script>\n",
       "        "
      ]
     },
     "metadata": {},
     "output_type": "display_data"
    }
   ],
   "source": [
    "# Basic Libs\n",
    "import numpy as np\n",
    "import matplotlib.pyplot as plt \n",
    "import matplotlib.colors as mcolors\n",
    "import pandas as pd\n",
    "from scipy import stats\n",
    "import seaborn as sns\n",
    "\n",
    "# Sklearn\n",
    "from sklearn.preprocessing import LabelEncoder\n",
    "from sklearn.linear_model import LinearRegression, BayesianRidge\n",
    "from sklearn.model_selection import RandomizedSearchCV, train_test_split,  cross_val_score\n",
    "from sklearn.preprocessing import PolynomialFeatures\n",
    "from sklearn.svm import SVR\n",
    "from sklearn.metrics import mean_squared_error, mean_absolute_error, classification_report, confusion_matrix\n",
    "\n",
    "# Plotting libs\n",
    "import plotly.io as pio\n",
    "import plotly.express as px\n",
    "import plotly.graph_objects as go\n",
    "from plotly.subplots import make_subplots\n",
    "from plotly.offline import init_notebook_mode, iplot\n",
    "init_notebook_mode(connected=True)\n",
    "pio.templates.default = \"none\"\n",
    "\n",
    "# Avoid Warnings\n",
    "import warnings\n",
    "warnings.filterwarnings('ignore')\n",
    "\n",
    "import os\n",
    "for dirname, _, filenames in os.walk('/kaggle/input'):\n",
    "    for filename in filenames:\n",
    "        print(os.path.join(dirname, filename))"
   ]
  },
  {
   "cell_type": "markdown",
   "id": "5d01ec6a",
   "metadata": {},
   "source": [
    "__Loading data__"
   ]
  },
  {
   "cell_type": "code",
   "execution_count": 2,
   "id": "3579103a",
   "metadata": {},
   "outputs": [],
   "source": [
    "data = pd.read_csv('./input/kaggle/country_vaccinations.csv')"
   ]
  },
  {
   "cell_type": "code",
   "execution_count": 3,
   "id": "f99030f8",
   "metadata": {},
   "outputs": [
    {
     "data": {
      "text/html": [
       "<div>\n",
       "<style scoped>\n",
       "    .dataframe tbody tr th:only-of-type {\n",
       "        vertical-align: middle;\n",
       "    }\n",
       "\n",
       "    .dataframe tbody tr th {\n",
       "        vertical-align: top;\n",
       "    }\n",
       "\n",
       "    .dataframe thead th {\n",
       "        text-align: right;\n",
       "    }\n",
       "</style>\n",
       "<table border=\"1\" class=\"dataframe\">\n",
       "  <thead>\n",
       "    <tr style=\"text-align: right;\">\n",
       "      <th></th>\n",
       "      <th>country</th>\n",
       "      <th>iso_code</th>\n",
       "      <th>date</th>\n",
       "      <th>total_vaccinations</th>\n",
       "      <th>people_vaccinated</th>\n",
       "      <th>people_fully_vaccinated</th>\n",
       "      <th>daily_vaccinations_raw</th>\n",
       "      <th>daily_vaccinations</th>\n",
       "      <th>total_vaccinations_per_hundred</th>\n",
       "      <th>people_vaccinated_per_hundred</th>\n",
       "      <th>people_fully_vaccinated_per_hundred</th>\n",
       "      <th>daily_vaccinations_per_million</th>\n",
       "      <th>vaccines</th>\n",
       "      <th>source_name</th>\n",
       "      <th>source_website</th>\n",
       "    </tr>\n",
       "  </thead>\n",
       "  <tbody>\n",
       "    <tr>\n",
       "      <th>0</th>\n",
       "      <td>Afghanistan</td>\n",
       "      <td>AFG</td>\n",
       "      <td>2021-02-22</td>\n",
       "      <td>0.0</td>\n",
       "      <td>0.0</td>\n",
       "      <td>NaN</td>\n",
       "      <td>NaN</td>\n",
       "      <td>NaN</td>\n",
       "      <td>0.0</td>\n",
       "      <td>0.0</td>\n",
       "      <td>NaN</td>\n",
       "      <td>NaN</td>\n",
       "      <td>Johnson&amp;Johnson, Oxford/AstraZeneca, Pfizer/Bi...</td>\n",
       "      <td>World Health Organization</td>\n",
       "      <td>https://covid19.who.int/</td>\n",
       "    </tr>\n",
       "    <tr>\n",
       "      <th>1</th>\n",
       "      <td>Afghanistan</td>\n",
       "      <td>AFG</td>\n",
       "      <td>2021-02-23</td>\n",
       "      <td>NaN</td>\n",
       "      <td>NaN</td>\n",
       "      <td>NaN</td>\n",
       "      <td>NaN</td>\n",
       "      <td>1367.0</td>\n",
       "      <td>NaN</td>\n",
       "      <td>NaN</td>\n",
       "      <td>NaN</td>\n",
       "      <td>34.0</td>\n",
       "      <td>Johnson&amp;Johnson, Oxford/AstraZeneca, Pfizer/Bi...</td>\n",
       "      <td>World Health Organization</td>\n",
       "      <td>https://covid19.who.int/</td>\n",
       "    </tr>\n",
       "    <tr>\n",
       "      <th>2</th>\n",
       "      <td>Afghanistan</td>\n",
       "      <td>AFG</td>\n",
       "      <td>2021-02-24</td>\n",
       "      <td>NaN</td>\n",
       "      <td>NaN</td>\n",
       "      <td>NaN</td>\n",
       "      <td>NaN</td>\n",
       "      <td>1367.0</td>\n",
       "      <td>NaN</td>\n",
       "      <td>NaN</td>\n",
       "      <td>NaN</td>\n",
       "      <td>34.0</td>\n",
       "      <td>Johnson&amp;Johnson, Oxford/AstraZeneca, Pfizer/Bi...</td>\n",
       "      <td>World Health Organization</td>\n",
       "      <td>https://covid19.who.int/</td>\n",
       "    </tr>\n",
       "    <tr>\n",
       "      <th>3</th>\n",
       "      <td>Afghanistan</td>\n",
       "      <td>AFG</td>\n",
       "      <td>2021-02-25</td>\n",
       "      <td>NaN</td>\n",
       "      <td>NaN</td>\n",
       "      <td>NaN</td>\n",
       "      <td>NaN</td>\n",
       "      <td>1367.0</td>\n",
       "      <td>NaN</td>\n",
       "      <td>NaN</td>\n",
       "      <td>NaN</td>\n",
       "      <td>34.0</td>\n",
       "      <td>Johnson&amp;Johnson, Oxford/AstraZeneca, Pfizer/Bi...</td>\n",
       "      <td>World Health Organization</td>\n",
       "      <td>https://covid19.who.int/</td>\n",
       "    </tr>\n",
       "    <tr>\n",
       "      <th>4</th>\n",
       "      <td>Afghanistan</td>\n",
       "      <td>AFG</td>\n",
       "      <td>2021-02-26</td>\n",
       "      <td>NaN</td>\n",
       "      <td>NaN</td>\n",
       "      <td>NaN</td>\n",
       "      <td>NaN</td>\n",
       "      <td>1367.0</td>\n",
       "      <td>NaN</td>\n",
       "      <td>NaN</td>\n",
       "      <td>NaN</td>\n",
       "      <td>34.0</td>\n",
       "      <td>Johnson&amp;Johnson, Oxford/AstraZeneca, Pfizer/Bi...</td>\n",
       "      <td>World Health Organization</td>\n",
       "      <td>https://covid19.who.int/</td>\n",
       "    </tr>\n",
       "  </tbody>\n",
       "</table>\n",
       "</div>"
      ],
      "text/plain": [
       "       country iso_code        date  total_vaccinations  people_vaccinated  \\\n",
       "0  Afghanistan      AFG  2021-02-22                 0.0                0.0   \n",
       "1  Afghanistan      AFG  2021-02-23                 NaN                NaN   \n",
       "2  Afghanistan      AFG  2021-02-24                 NaN                NaN   \n",
       "3  Afghanistan      AFG  2021-02-25                 NaN                NaN   \n",
       "4  Afghanistan      AFG  2021-02-26                 NaN                NaN   \n",
       "\n",
       "   people_fully_vaccinated  daily_vaccinations_raw  daily_vaccinations  \\\n",
       "0                      NaN                     NaN                 NaN   \n",
       "1                      NaN                     NaN              1367.0   \n",
       "2                      NaN                     NaN              1367.0   \n",
       "3                      NaN                     NaN              1367.0   \n",
       "4                      NaN                     NaN              1367.0   \n",
       "\n",
       "   total_vaccinations_per_hundred  people_vaccinated_per_hundred  \\\n",
       "0                             0.0                            0.0   \n",
       "1                             NaN                            NaN   \n",
       "2                             NaN                            NaN   \n",
       "3                             NaN                            NaN   \n",
       "4                             NaN                            NaN   \n",
       "\n",
       "   people_fully_vaccinated_per_hundred  daily_vaccinations_per_million  \\\n",
       "0                                  NaN                             NaN   \n",
       "1                                  NaN                            34.0   \n",
       "2                                  NaN                            34.0   \n",
       "3                                  NaN                            34.0   \n",
       "4                                  NaN                            34.0   \n",
       "\n",
       "                                            vaccines  \\\n",
       "0  Johnson&Johnson, Oxford/AstraZeneca, Pfizer/Bi...   \n",
       "1  Johnson&Johnson, Oxford/AstraZeneca, Pfizer/Bi...   \n",
       "2  Johnson&Johnson, Oxford/AstraZeneca, Pfizer/Bi...   \n",
       "3  Johnson&Johnson, Oxford/AstraZeneca, Pfizer/Bi...   \n",
       "4  Johnson&Johnson, Oxford/AstraZeneca, Pfizer/Bi...   \n",
       "\n",
       "                 source_name            source_website  \n",
       "0  World Health Organization  https://covid19.who.int/  \n",
       "1  World Health Organization  https://covid19.who.int/  \n",
       "2  World Health Organization  https://covid19.who.int/  \n",
       "3  World Health Organization  https://covid19.who.int/  \n",
       "4  World Health Organization  https://covid19.who.int/  "
      ]
     },
     "execution_count": 3,
     "metadata": {},
     "output_type": "execute_result"
    }
   ],
   "source": [
    "data.head()"
   ]
  },
  {
   "cell_type": "code",
   "execution_count": 4,
   "id": "f1977db4",
   "metadata": {},
   "outputs": [
    {
     "data": {
      "text/plain": [
       "(86512, 15)"
      ]
     },
     "execution_count": 4,
     "metadata": {},
     "output_type": "execute_result"
    }
   ],
   "source": [
    "data.shape"
   ]
  },
  {
   "cell_type": "markdown",
   "id": "9d08611e",
   "metadata": {},
   "source": [
    "__Cleaning the data__"
   ]
  },
  {
   "cell_type": "markdown",
   "id": "c994a115",
   "metadata": {},
   "source": [
    "The values that arevalid such as N/A or NULL will be eliminated."
   ]
  },
  {
   "cell_type": "code",
   "execution_count": 5,
   "id": "b4a47373",
   "metadata": {},
   "outputs": [],
   "source": [
    "data.dropna(inplace=True)"
   ]
  },
  {
   "cell_type": "markdown",
   "id": "2e4cd8e1",
   "metadata": {},
   "source": [
    "__Filtering Only Mexico Data__"
   ]
  },
  {
   "cell_type": "markdown",
   "id": "73d3d192",
   "metadata": {},
   "source": [
    "Since we are interested only in the data from Mexico, we will remove all the data from other countries."
   ]
  },
  {
   "cell_type": "code",
   "execution_count": 6,
   "id": "353a2268",
   "metadata": {},
   "outputs": [],
   "source": [
    "data = data[data['iso_code'] == 'MEX']"
   ]
  },
  {
   "cell_type": "code",
   "execution_count": 7,
   "id": "54d8382a",
   "metadata": {},
   "outputs": [],
   "source": [
    "data.reset_index(inplace=True)"
   ]
  },
  {
   "cell_type": "code",
   "execution_count": 8,
   "id": "9b7fa881",
   "metadata": {},
   "outputs": [
    {
     "data": {
      "text/html": [
       "<div>\n",
       "<style scoped>\n",
       "    .dataframe tbody tr th:only-of-type {\n",
       "        vertical-align: middle;\n",
       "    }\n",
       "\n",
       "    .dataframe tbody tr th {\n",
       "        vertical-align: top;\n",
       "    }\n",
       "\n",
       "    .dataframe thead th {\n",
       "        text-align: right;\n",
       "    }\n",
       "</style>\n",
       "<table border=\"1\" class=\"dataframe\">\n",
       "  <thead>\n",
       "    <tr style=\"text-align: right;\">\n",
       "      <th></th>\n",
       "      <th>index</th>\n",
       "      <th>country</th>\n",
       "      <th>iso_code</th>\n",
       "      <th>date</th>\n",
       "      <th>total_vaccinations</th>\n",
       "      <th>people_vaccinated</th>\n",
       "      <th>people_fully_vaccinated</th>\n",
       "      <th>daily_vaccinations_raw</th>\n",
       "      <th>daily_vaccinations</th>\n",
       "      <th>total_vaccinations_per_hundred</th>\n",
       "      <th>people_vaccinated_per_hundred</th>\n",
       "      <th>people_fully_vaccinated_per_hundred</th>\n",
       "      <th>daily_vaccinations_per_million</th>\n",
       "      <th>vaccines</th>\n",
       "      <th>source_name</th>\n",
       "      <th>source_website</th>\n",
       "    </tr>\n",
       "  </thead>\n",
       "  <tbody>\n",
       "    <tr>\n",
       "      <th>0</th>\n",
       "      <td>49909</td>\n",
       "      <td>Mexico</td>\n",
       "      <td>MEX</td>\n",
       "      <td>2021-01-15</td>\n",
       "      <td>417375.0</td>\n",
       "      <td>415417.0</td>\n",
       "      <td>1958.0</td>\n",
       "      <td>87392.0</td>\n",
       "      <td>49987.0</td>\n",
       "      <td>0.32</td>\n",
       "      <td>0.32</td>\n",
       "      <td>0.00</td>\n",
       "      <td>384.0</td>\n",
       "      <td>CanSino, Johnson&amp;Johnson, Moderna, Oxford/Astr...</td>\n",
       "      <td>Secretary of Health</td>\n",
       "      <td>http://www.gob.mx/cms/uploads/attachment/file/...</td>\n",
       "    </tr>\n",
       "    <tr>\n",
       "      <th>1</th>\n",
       "      <td>49910</td>\n",
       "      <td>Mexico</td>\n",
       "      <td>MEX</td>\n",
       "      <td>2021-01-16</td>\n",
       "      <td>463246.0</td>\n",
       "      <td>461025.0</td>\n",
       "      <td>2221.0</td>\n",
       "      <td>45871.0</td>\n",
       "      <td>55493.0</td>\n",
       "      <td>0.36</td>\n",
       "      <td>0.35</td>\n",
       "      <td>0.00</td>\n",
       "      <td>426.0</td>\n",
       "      <td>CanSino, Johnson&amp;Johnson, Moderna, Oxford/Astr...</td>\n",
       "      <td>Secretary of Health</td>\n",
       "      <td>http://www.gob.mx/cms/uploads/attachment/file/...</td>\n",
       "    </tr>\n",
       "    <tr>\n",
       "      <th>2</th>\n",
       "      <td>49911</td>\n",
       "      <td>Mexico</td>\n",
       "      <td>MEX</td>\n",
       "      <td>2021-01-17</td>\n",
       "      <td>472142.0</td>\n",
       "      <td>468708.0</td>\n",
       "      <td>3434.0</td>\n",
       "      <td>8896.0</td>\n",
       "      <td>55835.0</td>\n",
       "      <td>0.36</td>\n",
       "      <td>0.36</td>\n",
       "      <td>0.00</td>\n",
       "      <td>429.0</td>\n",
       "      <td>CanSino, Johnson&amp;Johnson, Moderna, Oxford/Astr...</td>\n",
       "      <td>Secretary of Health</td>\n",
       "      <td>http://www.gob.mx/cms/uploads/attachment/file/...</td>\n",
       "    </tr>\n",
       "    <tr>\n",
       "      <th>3</th>\n",
       "      <td>49912</td>\n",
       "      <td>Mexico</td>\n",
       "      <td>MEX</td>\n",
       "      <td>2021-01-18</td>\n",
       "      <td>492529.0</td>\n",
       "      <td>485983.0</td>\n",
       "      <td>6546.0</td>\n",
       "      <td>20387.0</td>\n",
       "      <td>57924.0</td>\n",
       "      <td>0.38</td>\n",
       "      <td>0.37</td>\n",
       "      <td>0.01</td>\n",
       "      <td>445.0</td>\n",
       "      <td>CanSino, Johnson&amp;Johnson, Moderna, Oxford/Astr...</td>\n",
       "      <td>Secretary of Health</td>\n",
       "      <td>http://www.gob.mx/cms/uploads/attachment/file/...</td>\n",
       "    </tr>\n",
       "    <tr>\n",
       "      <th>4</th>\n",
       "      <td>49913</td>\n",
       "      <td>Mexico</td>\n",
       "      <td>MEX</td>\n",
       "      <td>2021-01-19</td>\n",
       "      <td>498122.0</td>\n",
       "      <td>488513.0</td>\n",
       "      <td>9609.0</td>\n",
       "      <td>5593.0</td>\n",
       "      <td>57892.0</td>\n",
       "      <td>0.38</td>\n",
       "      <td>0.38</td>\n",
       "      <td>0.01</td>\n",
       "      <td>444.0</td>\n",
       "      <td>CanSino, Johnson&amp;Johnson, Moderna, Oxford/Astr...</td>\n",
       "      <td>Secretary of Health</td>\n",
       "      <td>http://www.gob.mx/cms/uploads/attachment/file/...</td>\n",
       "    </tr>\n",
       "  </tbody>\n",
       "</table>\n",
       "</div>"
      ],
      "text/plain": [
       "   index country iso_code        date  total_vaccinations  people_vaccinated  \\\n",
       "0  49909  Mexico      MEX  2021-01-15            417375.0           415417.0   \n",
       "1  49910  Mexico      MEX  2021-01-16            463246.0           461025.0   \n",
       "2  49911  Mexico      MEX  2021-01-17            472142.0           468708.0   \n",
       "3  49912  Mexico      MEX  2021-01-18            492529.0           485983.0   \n",
       "4  49913  Mexico      MEX  2021-01-19            498122.0           488513.0   \n",
       "\n",
       "   people_fully_vaccinated  daily_vaccinations_raw  daily_vaccinations  \\\n",
       "0                   1958.0                 87392.0             49987.0   \n",
       "1                   2221.0                 45871.0             55493.0   \n",
       "2                   3434.0                  8896.0             55835.0   \n",
       "3                   6546.0                 20387.0             57924.0   \n",
       "4                   9609.0                  5593.0             57892.0   \n",
       "\n",
       "   total_vaccinations_per_hundred  people_vaccinated_per_hundred  \\\n",
       "0                            0.32                           0.32   \n",
       "1                            0.36                           0.35   \n",
       "2                            0.36                           0.36   \n",
       "3                            0.38                           0.37   \n",
       "4                            0.38                           0.38   \n",
       "\n",
       "   people_fully_vaccinated_per_hundred  daily_vaccinations_per_million  \\\n",
       "0                                 0.00                           384.0   \n",
       "1                                 0.00                           426.0   \n",
       "2                                 0.00                           429.0   \n",
       "3                                 0.01                           445.0   \n",
       "4                                 0.01                           444.0   \n",
       "\n",
       "                                            vaccines          source_name  \\\n",
       "0  CanSino, Johnson&Johnson, Moderna, Oxford/Astr...  Secretary of Health   \n",
       "1  CanSino, Johnson&Johnson, Moderna, Oxford/Astr...  Secretary of Health   \n",
       "2  CanSino, Johnson&Johnson, Moderna, Oxford/Astr...  Secretary of Health   \n",
       "3  CanSino, Johnson&Johnson, Moderna, Oxford/Astr...  Secretary of Health   \n",
       "4  CanSino, Johnson&Johnson, Moderna, Oxford/Astr...  Secretary of Health   \n",
       "\n",
       "                                      source_website  \n",
       "0  http://www.gob.mx/cms/uploads/attachment/file/...  \n",
       "1  http://www.gob.mx/cms/uploads/attachment/file/...  \n",
       "2  http://www.gob.mx/cms/uploads/attachment/file/...  \n",
       "3  http://www.gob.mx/cms/uploads/attachment/file/...  \n",
       "4  http://www.gob.mx/cms/uploads/attachment/file/...  "
      ]
     },
     "execution_count": 8,
     "metadata": {},
     "output_type": "execute_result"
    }
   ],
   "source": [
    "data.head()"
   ]
  },
  {
   "cell_type": "code",
   "execution_count": 9,
   "id": "679fd81e",
   "metadata": {},
   "outputs": [
    {
     "data": {
      "text/plain": [
       "(316, 16)"
      ]
     },
     "execution_count": 9,
     "metadata": {},
     "output_type": "execute_result"
    }
   ],
   "source": [
    "data.shape"
   ]
  },
  {
   "cell_type": "markdown",
   "id": "d5a63d91",
   "metadata": {},
   "source": [
    "We are interested on how the number of vaccinations have progressed over the time, so we will reorder the data according the date time of it."
   ]
  },
  {
   "cell_type": "code",
   "execution_count": 10,
   "id": "a12a2326",
   "metadata": {},
   "outputs": [],
   "source": [
    "data['date'] = pd.to_datetime(data['date'])"
   ]
  },
  {
   "cell_type": "code",
   "execution_count": 11,
   "id": "6a2f83d7",
   "metadata": {},
   "outputs": [],
   "source": [
    "data = data.sort_values(by='date')"
   ]
  },
  {
   "cell_type": "code",
   "execution_count": 12,
   "id": "9fbf7992",
   "metadata": {},
   "outputs": [],
   "source": [
    "start_date = data['date'][0]"
   ]
  },
  {
   "cell_type": "code",
   "execution_count": 13,
   "id": "a87901ee",
   "metadata": {},
   "outputs": [
    {
     "name": "stdout",
     "output_type": "stream",
     "text": [
      "The starting date registered is: 15-01-2021\n"
     ]
    }
   ],
   "source": [
    "print('The starting date registered is: {0}'.format(start_date.strftime('%d-%m-%Y')))"
   ]
  },
  {
   "cell_type": "code",
   "execution_count": 14,
   "id": "1c16b998",
   "metadata": {},
   "outputs": [],
   "source": [
    "days_passed = data['date'] - start_date"
   ]
  },
  {
   "cell_type": "code",
   "execution_count": 15,
   "id": "3729ff24",
   "metadata": {},
   "outputs": [],
   "source": [
    "data['days_passed'] = days_passed"
   ]
  },
  {
   "cell_type": "code",
   "execution_count": 16,
   "id": "0121c9b0",
   "metadata": {},
   "outputs": [
    {
     "data": {
      "text/html": [
       "<div>\n",
       "<style scoped>\n",
       "    .dataframe tbody tr th:only-of-type {\n",
       "        vertical-align: middle;\n",
       "    }\n",
       "\n",
       "    .dataframe tbody tr th {\n",
       "        vertical-align: top;\n",
       "    }\n",
       "\n",
       "    .dataframe thead th {\n",
       "        text-align: right;\n",
       "    }\n",
       "</style>\n",
       "<table border=\"1\" class=\"dataframe\">\n",
       "  <thead>\n",
       "    <tr style=\"text-align: right;\">\n",
       "      <th></th>\n",
       "      <th>index</th>\n",
       "      <th>country</th>\n",
       "      <th>iso_code</th>\n",
       "      <th>date</th>\n",
       "      <th>total_vaccinations</th>\n",
       "      <th>people_vaccinated</th>\n",
       "      <th>people_fully_vaccinated</th>\n",
       "      <th>daily_vaccinations_raw</th>\n",
       "      <th>daily_vaccinations</th>\n",
       "      <th>total_vaccinations_per_hundred</th>\n",
       "      <th>people_vaccinated_per_hundred</th>\n",
       "      <th>people_fully_vaccinated_per_hundred</th>\n",
       "      <th>daily_vaccinations_per_million</th>\n",
       "      <th>vaccines</th>\n",
       "      <th>source_name</th>\n",
       "      <th>source_website</th>\n",
       "      <th>days_passed</th>\n",
       "    </tr>\n",
       "  </thead>\n",
       "  <tbody>\n",
       "    <tr>\n",
       "      <th>0</th>\n",
       "      <td>49909</td>\n",
       "      <td>Mexico</td>\n",
       "      <td>MEX</td>\n",
       "      <td>2021-01-15</td>\n",
       "      <td>417375.0</td>\n",
       "      <td>415417.0</td>\n",
       "      <td>1958.0</td>\n",
       "      <td>87392.0</td>\n",
       "      <td>49987.0</td>\n",
       "      <td>0.32</td>\n",
       "      <td>0.32</td>\n",
       "      <td>0.00</td>\n",
       "      <td>384.0</td>\n",
       "      <td>CanSino, Johnson&amp;Johnson, Moderna, Oxford/Astr...</td>\n",
       "      <td>Secretary of Health</td>\n",
       "      <td>http://www.gob.mx/cms/uploads/attachment/file/...</td>\n",
       "      <td>0 days</td>\n",
       "    </tr>\n",
       "    <tr>\n",
       "      <th>1</th>\n",
       "      <td>49910</td>\n",
       "      <td>Mexico</td>\n",
       "      <td>MEX</td>\n",
       "      <td>2021-01-16</td>\n",
       "      <td>463246.0</td>\n",
       "      <td>461025.0</td>\n",
       "      <td>2221.0</td>\n",
       "      <td>45871.0</td>\n",
       "      <td>55493.0</td>\n",
       "      <td>0.36</td>\n",
       "      <td>0.35</td>\n",
       "      <td>0.00</td>\n",
       "      <td>426.0</td>\n",
       "      <td>CanSino, Johnson&amp;Johnson, Moderna, Oxford/Astr...</td>\n",
       "      <td>Secretary of Health</td>\n",
       "      <td>http://www.gob.mx/cms/uploads/attachment/file/...</td>\n",
       "      <td>1 days</td>\n",
       "    </tr>\n",
       "    <tr>\n",
       "      <th>2</th>\n",
       "      <td>49911</td>\n",
       "      <td>Mexico</td>\n",
       "      <td>MEX</td>\n",
       "      <td>2021-01-17</td>\n",
       "      <td>472142.0</td>\n",
       "      <td>468708.0</td>\n",
       "      <td>3434.0</td>\n",
       "      <td>8896.0</td>\n",
       "      <td>55835.0</td>\n",
       "      <td>0.36</td>\n",
       "      <td>0.36</td>\n",
       "      <td>0.00</td>\n",
       "      <td>429.0</td>\n",
       "      <td>CanSino, Johnson&amp;Johnson, Moderna, Oxford/Astr...</td>\n",
       "      <td>Secretary of Health</td>\n",
       "      <td>http://www.gob.mx/cms/uploads/attachment/file/...</td>\n",
       "      <td>2 days</td>\n",
       "    </tr>\n",
       "    <tr>\n",
       "      <th>3</th>\n",
       "      <td>49912</td>\n",
       "      <td>Mexico</td>\n",
       "      <td>MEX</td>\n",
       "      <td>2021-01-18</td>\n",
       "      <td>492529.0</td>\n",
       "      <td>485983.0</td>\n",
       "      <td>6546.0</td>\n",
       "      <td>20387.0</td>\n",
       "      <td>57924.0</td>\n",
       "      <td>0.38</td>\n",
       "      <td>0.37</td>\n",
       "      <td>0.01</td>\n",
       "      <td>445.0</td>\n",
       "      <td>CanSino, Johnson&amp;Johnson, Moderna, Oxford/Astr...</td>\n",
       "      <td>Secretary of Health</td>\n",
       "      <td>http://www.gob.mx/cms/uploads/attachment/file/...</td>\n",
       "      <td>3 days</td>\n",
       "    </tr>\n",
       "    <tr>\n",
       "      <th>4</th>\n",
       "      <td>49913</td>\n",
       "      <td>Mexico</td>\n",
       "      <td>MEX</td>\n",
       "      <td>2021-01-19</td>\n",
       "      <td>498122.0</td>\n",
       "      <td>488513.0</td>\n",
       "      <td>9609.0</td>\n",
       "      <td>5593.0</td>\n",
       "      <td>57892.0</td>\n",
       "      <td>0.38</td>\n",
       "      <td>0.38</td>\n",
       "      <td>0.01</td>\n",
       "      <td>444.0</td>\n",
       "      <td>CanSino, Johnson&amp;Johnson, Moderna, Oxford/Astr...</td>\n",
       "      <td>Secretary of Health</td>\n",
       "      <td>http://www.gob.mx/cms/uploads/attachment/file/...</td>\n",
       "      <td>4 days</td>\n",
       "    </tr>\n",
       "  </tbody>\n",
       "</table>\n",
       "</div>"
      ],
      "text/plain": [
       "   index country iso_code       date  total_vaccinations  people_vaccinated  \\\n",
       "0  49909  Mexico      MEX 2021-01-15            417375.0           415417.0   \n",
       "1  49910  Mexico      MEX 2021-01-16            463246.0           461025.0   \n",
       "2  49911  Mexico      MEX 2021-01-17            472142.0           468708.0   \n",
       "3  49912  Mexico      MEX 2021-01-18            492529.0           485983.0   \n",
       "4  49913  Mexico      MEX 2021-01-19            498122.0           488513.0   \n",
       "\n",
       "   people_fully_vaccinated  daily_vaccinations_raw  daily_vaccinations  \\\n",
       "0                   1958.0                 87392.0             49987.0   \n",
       "1                   2221.0                 45871.0             55493.0   \n",
       "2                   3434.0                  8896.0             55835.0   \n",
       "3                   6546.0                 20387.0             57924.0   \n",
       "4                   9609.0                  5593.0             57892.0   \n",
       "\n",
       "   total_vaccinations_per_hundred  people_vaccinated_per_hundred  \\\n",
       "0                            0.32                           0.32   \n",
       "1                            0.36                           0.35   \n",
       "2                            0.36                           0.36   \n",
       "3                            0.38                           0.37   \n",
       "4                            0.38                           0.38   \n",
       "\n",
       "   people_fully_vaccinated_per_hundred  daily_vaccinations_per_million  \\\n",
       "0                                 0.00                           384.0   \n",
       "1                                 0.00                           426.0   \n",
       "2                                 0.00                           429.0   \n",
       "3                                 0.01                           445.0   \n",
       "4                                 0.01                           444.0   \n",
       "\n",
       "                                            vaccines          source_name  \\\n",
       "0  CanSino, Johnson&Johnson, Moderna, Oxford/Astr...  Secretary of Health   \n",
       "1  CanSino, Johnson&Johnson, Moderna, Oxford/Astr...  Secretary of Health   \n",
       "2  CanSino, Johnson&Johnson, Moderna, Oxford/Astr...  Secretary of Health   \n",
       "3  CanSino, Johnson&Johnson, Moderna, Oxford/Astr...  Secretary of Health   \n",
       "4  CanSino, Johnson&Johnson, Moderna, Oxford/Astr...  Secretary of Health   \n",
       "\n",
       "                                      source_website days_passed  \n",
       "0  http://www.gob.mx/cms/uploads/attachment/file/...      0 days  \n",
       "1  http://www.gob.mx/cms/uploads/attachment/file/...      1 days  \n",
       "2  http://www.gob.mx/cms/uploads/attachment/file/...      2 days  \n",
       "3  http://www.gob.mx/cms/uploads/attachment/file/...      3 days  \n",
       "4  http://www.gob.mx/cms/uploads/attachment/file/...      4 days  "
      ]
     },
     "execution_count": 16,
     "metadata": {},
     "output_type": "execute_result"
    }
   ],
   "source": [
    "data.head()"
   ]
  },
  {
   "cell_type": "code",
   "execution_count": 17,
   "id": "912b1d64",
   "metadata": {},
   "outputs": [
    {
     "data": {
      "text/plain": [
       "(316, 17)"
      ]
     },
     "execution_count": 17,
     "metadata": {},
     "output_type": "execute_result"
    }
   ],
   "source": [
    "data.shape"
   ]
  },
  {
   "cell_type": "markdown",
   "id": "52c28705",
   "metadata": {},
   "source": [
    "We will reorder the data, and only take what is important to us:"
   ]
  },
  {
   "cell_type": "code",
   "execution_count": 18,
   "id": "24a59912",
   "metadata": {},
   "outputs": [],
   "source": [
    "ndata = data[['days_passed',\n",
    "              'total_vaccinations',\n",
    "              'people_vaccinated',\n",
    "              'people_fully_vaccinated',\n",
    "              'daily_vaccinations_raw',\n",
    "              'daily_vaccinations',\n",
    "              'total_vaccinations_per_hundred',\n",
    "              'people_vaccinated_per_hundred',\n",
    "              'people_fully_vaccinated_per_hundred',\n",
    "              'daily_vaccinations_per_million']]"
   ]
  },
  {
   "cell_type": "code",
   "execution_count": 19,
   "id": "5a0c7bbb",
   "metadata": {},
   "outputs": [
    {
     "data": {
      "text/html": [
       "<div>\n",
       "<style scoped>\n",
       "    .dataframe tbody tr th:only-of-type {\n",
       "        vertical-align: middle;\n",
       "    }\n",
       "\n",
       "    .dataframe tbody tr th {\n",
       "        vertical-align: top;\n",
       "    }\n",
       "\n",
       "    .dataframe thead th {\n",
       "        text-align: right;\n",
       "    }\n",
       "</style>\n",
       "<table border=\"1\" class=\"dataframe\">\n",
       "  <thead>\n",
       "    <tr style=\"text-align: right;\">\n",
       "      <th></th>\n",
       "      <th>days_passed</th>\n",
       "      <th>total_vaccinations</th>\n",
       "      <th>people_vaccinated</th>\n",
       "      <th>people_fully_vaccinated</th>\n",
       "      <th>daily_vaccinations_raw</th>\n",
       "      <th>daily_vaccinations</th>\n",
       "      <th>total_vaccinations_per_hundred</th>\n",
       "      <th>people_vaccinated_per_hundred</th>\n",
       "      <th>people_fully_vaccinated_per_hundred</th>\n",
       "      <th>daily_vaccinations_per_million</th>\n",
       "    </tr>\n",
       "  </thead>\n",
       "  <tbody>\n",
       "    <tr>\n",
       "      <th>0</th>\n",
       "      <td>0 days</td>\n",
       "      <td>417375.0</td>\n",
       "      <td>415417.0</td>\n",
       "      <td>1958.0</td>\n",
       "      <td>87392.0</td>\n",
       "      <td>49987.0</td>\n",
       "      <td>0.32</td>\n",
       "      <td>0.32</td>\n",
       "      <td>0.00</td>\n",
       "      <td>384.0</td>\n",
       "    </tr>\n",
       "    <tr>\n",
       "      <th>1</th>\n",
       "      <td>1 days</td>\n",
       "      <td>463246.0</td>\n",
       "      <td>461025.0</td>\n",
       "      <td>2221.0</td>\n",
       "      <td>45871.0</td>\n",
       "      <td>55493.0</td>\n",
       "      <td>0.36</td>\n",
       "      <td>0.35</td>\n",
       "      <td>0.00</td>\n",
       "      <td>426.0</td>\n",
       "    </tr>\n",
       "    <tr>\n",
       "      <th>2</th>\n",
       "      <td>2 days</td>\n",
       "      <td>472142.0</td>\n",
       "      <td>468708.0</td>\n",
       "      <td>3434.0</td>\n",
       "      <td>8896.0</td>\n",
       "      <td>55835.0</td>\n",
       "      <td>0.36</td>\n",
       "      <td>0.36</td>\n",
       "      <td>0.00</td>\n",
       "      <td>429.0</td>\n",
       "    </tr>\n",
       "    <tr>\n",
       "      <th>3</th>\n",
       "      <td>3 days</td>\n",
       "      <td>492529.0</td>\n",
       "      <td>485983.0</td>\n",
       "      <td>6546.0</td>\n",
       "      <td>20387.0</td>\n",
       "      <td>57924.0</td>\n",
       "      <td>0.38</td>\n",
       "      <td>0.37</td>\n",
       "      <td>0.01</td>\n",
       "      <td>445.0</td>\n",
       "    </tr>\n",
       "    <tr>\n",
       "      <th>4</th>\n",
       "      <td>4 days</td>\n",
       "      <td>498122.0</td>\n",
       "      <td>488513.0</td>\n",
       "      <td>9609.0</td>\n",
       "      <td>5593.0</td>\n",
       "      <td>57892.0</td>\n",
       "      <td>0.38</td>\n",
       "      <td>0.38</td>\n",
       "      <td>0.01</td>\n",
       "      <td>444.0</td>\n",
       "    </tr>\n",
       "  </tbody>\n",
       "</table>\n",
       "</div>"
      ],
      "text/plain": [
       "  days_passed  total_vaccinations  people_vaccinated  people_fully_vaccinated  \\\n",
       "0      0 days            417375.0           415417.0                   1958.0   \n",
       "1      1 days            463246.0           461025.0                   2221.0   \n",
       "2      2 days            472142.0           468708.0                   3434.0   \n",
       "3      3 days            492529.0           485983.0                   6546.0   \n",
       "4      4 days            498122.0           488513.0                   9609.0   \n",
       "\n",
       "   daily_vaccinations_raw  daily_vaccinations  total_vaccinations_per_hundred  \\\n",
       "0                 87392.0             49987.0                            0.32   \n",
       "1                 45871.0             55493.0                            0.36   \n",
       "2                  8896.0             55835.0                            0.36   \n",
       "3                 20387.0             57924.0                            0.38   \n",
       "4                  5593.0             57892.0                            0.38   \n",
       "\n",
       "   people_vaccinated_per_hundred  people_fully_vaccinated_per_hundred  \\\n",
       "0                           0.32                                 0.00   \n",
       "1                           0.35                                 0.00   \n",
       "2                           0.36                                 0.00   \n",
       "3                           0.37                                 0.01   \n",
       "4                           0.38                                 0.01   \n",
       "\n",
       "   daily_vaccinations_per_million  \n",
       "0                           384.0  \n",
       "1                           426.0  \n",
       "2                           429.0  \n",
       "3                           445.0  \n",
       "4                           444.0  "
      ]
     },
     "execution_count": 19,
     "metadata": {},
     "output_type": "execute_result"
    }
   ],
   "source": [
    "ndata.head()"
   ]
  },
  {
   "cell_type": "code",
   "execution_count": 20,
   "id": "f5b9d143",
   "metadata": {},
   "outputs": [
    {
     "data": {
      "text/plain": [
       "0        0\n",
       "1        1\n",
       "2        2\n",
       "3        3\n",
       "4        4\n",
       "      ... \n",
       "311    432\n",
       "312    435\n",
       "313    436\n",
       "314    437\n",
       "315    438\n",
       "Name: days_passed, Length: 316, dtype: int64"
      ]
     },
     "execution_count": 20,
     "metadata": {},
     "output_type": "execute_result"
    }
   ],
   "source": [
    "ndata['days_passed'].dt.days"
   ]
  },
  {
   "cell_type": "code",
   "execution_count": 21,
   "id": "0f8ad7a6",
   "metadata": {},
   "outputs": [
    {
     "data": {
      "text/plain": [
       "(316, 10)"
      ]
     },
     "execution_count": 21,
     "metadata": {},
     "output_type": "execute_result"
    }
   ],
   "source": [
    "ndata.shape"
   ]
  },
  {
   "cell_type": "code",
   "execution_count": 22,
   "id": "3aeaff4f",
   "metadata": {},
   "outputs": [],
   "source": [
    "ndata['days_passed']=ndata['days_passed'].dt.days"
   ]
  },
  {
   "cell_type": "markdown",
   "id": "5bacd866",
   "metadata": {},
   "source": [
    "Convert the days from timestamp to a Integer datatype."
   ]
  },
  {
   "cell_type": "code",
   "execution_count": 23,
   "id": "b21af2f1",
   "metadata": {},
   "outputs": [
    {
     "data": {
      "text/html": [
       "<div>\n",
       "<style scoped>\n",
       "    .dataframe tbody tr th:only-of-type {\n",
       "        vertical-align: middle;\n",
       "    }\n",
       "\n",
       "    .dataframe tbody tr th {\n",
       "        vertical-align: top;\n",
       "    }\n",
       "\n",
       "    .dataframe thead th {\n",
       "        text-align: right;\n",
       "    }\n",
       "</style>\n",
       "<table border=\"1\" class=\"dataframe\">\n",
       "  <thead>\n",
       "    <tr style=\"text-align: right;\">\n",
       "      <th></th>\n",
       "      <th>days_passed</th>\n",
       "      <th>total_vaccinations</th>\n",
       "      <th>people_vaccinated</th>\n",
       "      <th>people_fully_vaccinated</th>\n",
       "      <th>daily_vaccinations_raw</th>\n",
       "      <th>daily_vaccinations</th>\n",
       "      <th>total_vaccinations_per_hundred</th>\n",
       "      <th>people_vaccinated_per_hundred</th>\n",
       "      <th>people_fully_vaccinated_per_hundred</th>\n",
       "      <th>daily_vaccinations_per_million</th>\n",
       "    </tr>\n",
       "  </thead>\n",
       "  <tbody>\n",
       "    <tr>\n",
       "      <th>0</th>\n",
       "      <td>0</td>\n",
       "      <td>417375.0</td>\n",
       "      <td>415417.0</td>\n",
       "      <td>1958.0</td>\n",
       "      <td>87392.0</td>\n",
       "      <td>49987.0</td>\n",
       "      <td>0.32</td>\n",
       "      <td>0.32</td>\n",
       "      <td>0.00</td>\n",
       "      <td>384.0</td>\n",
       "    </tr>\n",
       "    <tr>\n",
       "      <th>1</th>\n",
       "      <td>1</td>\n",
       "      <td>463246.0</td>\n",
       "      <td>461025.0</td>\n",
       "      <td>2221.0</td>\n",
       "      <td>45871.0</td>\n",
       "      <td>55493.0</td>\n",
       "      <td>0.36</td>\n",
       "      <td>0.35</td>\n",
       "      <td>0.00</td>\n",
       "      <td>426.0</td>\n",
       "    </tr>\n",
       "    <tr>\n",
       "      <th>2</th>\n",
       "      <td>2</td>\n",
       "      <td>472142.0</td>\n",
       "      <td>468708.0</td>\n",
       "      <td>3434.0</td>\n",
       "      <td>8896.0</td>\n",
       "      <td>55835.0</td>\n",
       "      <td>0.36</td>\n",
       "      <td>0.36</td>\n",
       "      <td>0.00</td>\n",
       "      <td>429.0</td>\n",
       "    </tr>\n",
       "    <tr>\n",
       "      <th>3</th>\n",
       "      <td>3</td>\n",
       "      <td>492529.0</td>\n",
       "      <td>485983.0</td>\n",
       "      <td>6546.0</td>\n",
       "      <td>20387.0</td>\n",
       "      <td>57924.0</td>\n",
       "      <td>0.38</td>\n",
       "      <td>0.37</td>\n",
       "      <td>0.01</td>\n",
       "      <td>445.0</td>\n",
       "    </tr>\n",
       "    <tr>\n",
       "      <th>4</th>\n",
       "      <td>4</td>\n",
       "      <td>498122.0</td>\n",
       "      <td>488513.0</td>\n",
       "      <td>9609.0</td>\n",
       "      <td>5593.0</td>\n",
       "      <td>57892.0</td>\n",
       "      <td>0.38</td>\n",
       "      <td>0.38</td>\n",
       "      <td>0.01</td>\n",
       "      <td>444.0</td>\n",
       "    </tr>\n",
       "  </tbody>\n",
       "</table>\n",
       "</div>"
      ],
      "text/plain": [
       "   days_passed  total_vaccinations  people_vaccinated  \\\n",
       "0            0            417375.0           415417.0   \n",
       "1            1            463246.0           461025.0   \n",
       "2            2            472142.0           468708.0   \n",
       "3            3            492529.0           485983.0   \n",
       "4            4            498122.0           488513.0   \n",
       "\n",
       "   people_fully_vaccinated  daily_vaccinations_raw  daily_vaccinations  \\\n",
       "0                   1958.0                 87392.0             49987.0   \n",
       "1                   2221.0                 45871.0             55493.0   \n",
       "2                   3434.0                  8896.0             55835.0   \n",
       "3                   6546.0                 20387.0             57924.0   \n",
       "4                   9609.0                  5593.0             57892.0   \n",
       "\n",
       "   total_vaccinations_per_hundred  people_vaccinated_per_hundred  \\\n",
       "0                            0.32                           0.32   \n",
       "1                            0.36                           0.35   \n",
       "2                            0.36                           0.36   \n",
       "3                            0.38                           0.37   \n",
       "4                            0.38                           0.38   \n",
       "\n",
       "   people_fully_vaccinated_per_hundred  daily_vaccinations_per_million  \n",
       "0                                 0.00                           384.0  \n",
       "1                                 0.00                           426.0  \n",
       "2                                 0.00                           429.0  \n",
       "3                                 0.01                           445.0  \n",
       "4                                 0.01                           444.0  "
      ]
     },
     "execution_count": 23,
     "metadata": {},
     "output_type": "execute_result"
    }
   ],
   "source": [
    "ndata.head()"
   ]
  },
  {
   "cell_type": "code",
   "execution_count": 24,
   "id": "327d932d",
   "metadata": {},
   "outputs": [
    {
     "data": {
      "text/plain": [
       "(316, 10)"
      ]
     },
     "execution_count": 24,
     "metadata": {},
     "output_type": "execute_result"
    }
   ],
   "source": [
    "ndata.shape"
   ]
  },
  {
   "cell_type": "code",
   "execution_count": 25,
   "id": "99f2ca0e",
   "metadata": {},
   "outputs": [
    {
     "data": {
      "text/plain": [
       "days_passed                              int64\n",
       "total_vaccinations                     float64\n",
       "people_vaccinated                      float64\n",
       "people_fully_vaccinated                float64\n",
       "daily_vaccinations_raw                 float64\n",
       "daily_vaccinations                     float64\n",
       "total_vaccinations_per_hundred         float64\n",
       "people_vaccinated_per_hundred          float64\n",
       "people_fully_vaccinated_per_hundred    float64\n",
       "daily_vaccinations_per_million         float64\n",
       "dtype: object"
      ]
     },
     "execution_count": 25,
     "metadata": {},
     "output_type": "execute_result"
    }
   ],
   "source": [
    "ndata.dtypes"
   ]
  },
  {
   "cell_type": "code",
   "execution_count": 26,
   "id": "c8b2b93f",
   "metadata": {},
   "outputs": [
    {
     "data": {
      "image/png": "[encoded data removed]",
      "text/plain": [
       "<Figure size 432x288 with 1 Axes>"
      ]
     },
     "metadata": {
      "needs_background": "light"
     },
     "output_type": "display_data"
    }
   ],
   "source": [
    "ndata.plot(x = 'days_passed', y = 'total_vaccinations')\n",
    "plt.title('Number of Vaccinations in Mexico')\n",
    "plt.xlabel('Days Passed')\n",
    "plt.ylabel('Total Vaccionations')\n",
    "plt.plot(ndata['days_passed'],ndata['total_vaccinations'], color='red')\n",
    "plt.show()"
   ]
  },
  {
   "cell_type": "markdown",
   "id": "106034c6",
   "metadata": {},
   "source": [
    "__Total Vaccination__"
   ]
  },
  {
   "cell_type": "code",
   "execution_count": 27,
   "id": "5f3595b3",
   "metadata": {
    "scrolled": true
   },
   "outputs": [
    {
     "data": {
      "text/plain": [
       "LinearRegression()"
      ]
     },
     "execution_count": 27,
     "metadata": {},
     "output_type": "execute_result"
    }
   ],
   "source": [
    "lr_tv = LinearRegression(fit_intercept=True)\n",
    "lr_tv.fit(ndata[['days_passed']],ndata['total_vaccinations'])"
   ]
  },
  {
   "cell_type": "code",
   "execution_count": 28,
   "id": "99667bc6",
   "metadata": {},
   "outputs": [],
   "source": [
    "def print_linear_model_information(linear_model):\n",
    "    m = linear_model.coef_\n",
    "    b = linear_model.intercept_\n",
    "    print('y = {}*x + {}'.format(m,b))"
   ]
  },
  {
   "cell_type": "code",
   "execution_count": 29,
   "id": "65158130",
   "metadata": {},
   "outputs": [
    {
     "name": "stdout",
     "output_type": "stream",
     "text": [
      "y = [486635.45266316]*x + -24680963.317750588\n"
     ]
    }
   ],
   "source": [
    "print_linear_model_information(lr_tv)"
   ]
  },
  {
   "cell_type": "code",
   "execution_count": 30,
   "id": "98ba09f0",
   "metadata": {},
   "outputs": [
    {
     "data": {
      "text/plain": [
       "0        0\n",
       "1        1\n",
       "2        2\n",
       "3        3\n",
       "4        4\n",
       "      ... \n",
       "311    432\n",
       "312    435\n",
       "313    436\n",
       "314    437\n",
       "315    438\n",
       "Name: days_passed, Length: 316, dtype: int64"
      ]
     },
     "execution_count": 30,
     "metadata": {},
     "output_type": "execute_result"
    }
   ],
   "source": [
    "days_passed_s = ndata.days_passed\n",
    "days_passed_s"
   ]
  },
  {
   "cell_type": "code",
   "execution_count": 31,
   "id": "beade0ac",
   "metadata": {},
   "outputs": [],
   "source": [
    "days_passed_a = np.array(days_passed_s).reshape(-1,1)"
   ]
  },
  {
   "cell_type": "code",
   "execution_count": 32,
   "id": "3bd6e4dc",
   "metadata": {},
   "outputs": [],
   "source": [
    "# prediction = pd.DataFrame(lr_tv.predict(days_passed_a))\n",
    "prediction = (lr_tv.predict(days_passed_a))"
   ]
  },
  {
   "cell_type": "code",
   "execution_count": 33,
   "id": "30a29834",
   "metadata": {},
   "outputs": [
    {
     "data": {
      "text/plain": [
       "[<matplotlib.lines.Line2D at 0x258750d27c0>]"
      ]
     },
     "execution_count": 33,
     "metadata": {},
     "output_type": "execute_result"
    },
    {
     "data": {
      "image/png": "[encoded data removed]",
      "text/plain": [
       "<Figure size 432x288 with 1 Axes>"
      ]
     },
     "metadata": {
      "needs_background": "light"
     },
     "output_type": "display_data"
    }
   ],
   "source": [
    "plt.plot(ndata['days_passed'],ndata['total_vaccinations'], color='red')\n",
    "plt.plot(ndata['days_passed'],prediction)"
   ]
  },
  {
   "cell_type": "markdown",
   "id": "b876791c",
   "metadata": {},
   "source": [
    "Using the model we can predict when the number of vaccionations will end."
   ]
  },
  {
   "cell_type": "code",
   "execution_count": 34,
   "id": "622adf6c",
   "metadata": {},
   "outputs": [],
   "source": [
    "def find_x_value_for_given_y(linear_model,y):\n",
    "    m = linear_model.coef_\n",
    "    b = linear_model.intercept_\n",
    "    # y = m * x + b -> x = (y - b) / m\n",
    "    return (y-b) / m  "
   ]
  },
  {
   "cell_type": "markdown",
   "id": "449aea50",
   "metadata": {},
   "source": [
    "Using an estimated of Number of Mexicans in Mexico of 128.9 Millions"
   ]
  },
  {
   "cell_type": "code",
   "execution_count": 35,
   "id": "0a0f12c1",
   "metadata": {},
   "outputs": [],
   "source": [
    "no_mexicans = 128.9*10**6"
   ]
  },
  {
   "cell_type": "markdown",
   "id": "061ab65c",
   "metadata": {},
   "source": [
    "And taking of average of 2 vaccines per Mexican."
   ]
  },
  {
   "cell_type": "code",
   "execution_count": 36,
   "id": "44d60a52",
   "metadata": {},
   "outputs": [],
   "source": [
    "no_of_vaccines = 2*no_mexicans"
   ]
  },
  {
   "cell_type": "code",
   "execution_count": 37,
   "id": "bf6c5bd8",
   "metadata": {},
   "outputs": [
    {
     "data": {
      "text/plain": [
       "257800000.0"
      ]
     },
     "execution_count": 37,
     "metadata": {},
     "output_type": "execute_result"
    }
   ],
   "source": [
    "no_of_vaccines"
   ]
  },
  {
   "cell_type": "code",
   "execution_count": 38,
   "id": "4860dc1f",
   "metadata": {},
   "outputs": [
    {
     "name": "stdout",
     "output_type": "stream",
     "text": [
      "With this estimation we can say that the vaccines will end in: [580.47756647]\n"
     ]
    }
   ],
   "source": [
    "estimadted_days_passed = find_x_value_for_given_y(lr_tv,no_of_vaccines)\n",
    "print('With this estimation we can say that the vaccines will end in: {}'.format(estimadted_days_passed))"
   ]
  },
  {
   "cell_type": "code",
   "execution_count": 39,
   "id": "22d27344",
   "metadata": {},
   "outputs": [
    {
     "name": "stdout",
     "output_type": "stream",
     "text": [
      "Converting the value to a Date the estimation says that the Vaccines will be over in: \n",
      "2022-08-18\n"
     ]
    }
   ],
   "source": [
    "end_date = start_date + pd.Timedelta(days=estimadted_days_passed[0])\n",
    "print('Converting the value to a Date the estimation says that the Vaccines will be over in: \\n{}'.format(end_date.strftime('%Y-%m-%d')))"
   ]
  },
  {
   "cell_type": "markdown",
   "id": "1e9a9e69",
   "metadata": {},
   "source": [
    "__People Vaccinated__"
   ]
  },
  {
   "cell_type": "markdown",
   "id": "b9f3f152",
   "metadata": {},
   "source": [
    "Now we will compared the number of People Vaccinated over the time."
   ]
  },
  {
   "cell_type": "code",
   "execution_count": 40,
   "id": "a9641246",
   "metadata": {},
   "outputs": [
    {
     "data": {
      "image/png": "[encoded data removed]",
      "text/plain": [
       "<Figure size 432x288 with 1 Axes>"
      ]
     },
     "metadata": {
      "needs_background": "light"
     },
     "output_type": "display_data"
    }
   ],
   "source": [
    "# ndata.plot(x = 'days_passed', y = 'total_vaccinations')\n",
    "plt.title('People vaccinated in Mexico')\n",
    "plt.xlabel('Days Passed')\n",
    "plt.ylabel('People vaccinated')\n",
    "plt.plot(ndata['days_passed'],ndata['people_vaccinated'], color='Green')\n",
    "plt.show()"
   ]
  },
  {
   "cell_type": "code",
   "execution_count": 41,
   "id": "fbb5bbe5",
   "metadata": {},
   "outputs": [
    {
     "data": {
      "text/plain": [
       "LinearRegression()"
      ]
     },
     "execution_count": 41,
     "metadata": {},
     "output_type": "execute_result"
    }
   ],
   "source": [
    "lr_pv = LinearRegression(fit_intercept=True)\n",
    "lr_pv.fit(ndata[['days_passed']],ndata['people_vaccinated'])"
   ]
  },
  {
   "cell_type": "code",
   "execution_count": 42,
   "id": "6b7253b4",
   "metadata": {},
   "outputs": [
    {
     "name": "stdout",
     "output_type": "stream",
     "text": [
      "y = [244669.99676557]*x + -6408694.466971628\n"
     ]
    }
   ],
   "source": [
    "print_linear_model_information(lr_pv)"
   ]
  },
  {
   "cell_type": "code",
   "execution_count": 43,
   "id": "f56d5a52",
   "metadata": {},
   "outputs": [],
   "source": [
    "prediction = (lr_pv.predict(days_passed_a))"
   ]
  },
  {
   "cell_type": "code",
   "execution_count": 44,
   "id": "51130d04",
   "metadata": {},
   "outputs": [
    {
     "data": {
      "text/plain": [
       "[<matplotlib.lines.Line2D at 0x258751a53d0>]"
      ]
     },
     "execution_count": 44,
     "metadata": {},
     "output_type": "execute_result"
    },
    {
     "data": {
      "image/png": "[encoded data removed]",
      "text/plain": [
       "<Figure size 432x288 with 1 Axes>"
      ]
     },
     "metadata": {
      "needs_background": "light"
     },
     "output_type": "display_data"
    }
   ],
   "source": [
    "plt.plot(ndata['days_passed'],ndata['total_vaccinations'], color='red')\n",
    "plt.plot(ndata['days_passed'],prediction)"
   ]
  },
  {
   "cell_type": "code",
   "execution_count": 45,
   "id": "3a984f06",
   "metadata": {},
   "outputs": [
    {
     "name": "stdout",
     "output_type": "stream",
     "text": [
      "With this estimation we can say that the vaccines will end in: [1079.85735055]\n"
     ]
    }
   ],
   "source": [
    "estimadted_days_passed = find_x_value_for_given_y(lr_pv,no_of_vaccines)\n",
    "print('With this estimation we can say that the vaccines will end in: {}'.format(estimadted_days_passed))"
   ]
  },
  {
   "cell_type": "code",
   "execution_count": 46,
   "id": "4b565235",
   "metadata": {},
   "outputs": [
    {
     "name": "stdout",
     "output_type": "stream",
     "text": [
      "Converting the value to a Date the estimation says that the Vaccines will be over in: \n",
      "2023-12-30\n"
     ]
    }
   ],
   "source": [
    "end_date = start_date + pd.Timedelta(days=estimadted_days_passed[0])\n",
    "print('Converting the value to a Date the estimation says that the Vaccines will be over in: \\n{}'.format(end_date.strftime('%Y-%m-%d')))"
   ]
  },
  {
   "cell_type": "code",
   "execution_count": 47,
   "id": "257edd6f",
   "metadata": {},
   "outputs": [
    {
     "data": {
      "text/plain": [
       "LinearRegression(fit_intercept=False)"
      ]
     },
     "execution_count": 47,
     "metadata": {},
     "output_type": "execute_result"
    }
   ],
   "source": [
    "lr_pv = LinearRegression(fit_intercept=False)\n",
    "lr_pv.fit(ndata[['days_passed']],ndata['people_vaccinated'])"
   ]
  },
  {
   "cell_type": "code",
   "execution_count": 48,
   "id": "4cc89d23",
   "metadata": {},
   "outputs": [
    {
     "name": "stdout",
     "output_type": "stream",
     "text": [
      "y = [221291.92932237]*x + 0.0\n"
     ]
    }
   ],
   "source": [
    "print_linear_model_information(lr_pv)"
   ]
  },
  {
   "cell_type": "code",
   "execution_count": 49,
   "id": "bb1c9340",
   "metadata": {},
   "outputs": [],
   "source": [
    "prediction = (lr_pv.predict(days_passed_a))"
   ]
  },
  {
   "cell_type": "code",
   "execution_count": 50,
   "id": "8a07d17d",
   "metadata": {
    "scrolled": false
   },
   "outputs": [
    {
     "data": {
      "text/plain": [
       "[<matplotlib.lines.Line2D at 0x25875216460>]"
      ]
     },
     "execution_count": 50,
     "metadata": {},
     "output_type": "execute_result"
    },
    {
     "data": {
      "image/png": "[encoded data removed]",
      "text/plain": [
       "<Figure size 432x288 with 1 Axes>"
      ]
     },
     "metadata": {
      "needs_background": "light"
     },
     "output_type": "display_data"
    }
   ],
   "source": [
    "plt.plot(ndata['days_passed'],ndata['total_vaccinations'], color='red')\n",
    "plt.plot(ndata['days_passed'],prediction)"
   ]
  },
  {
   "cell_type": "code",
   "execution_count": 51,
   "id": "7162f0a8",
   "metadata": {},
   "outputs": [
    {
     "name": "stdout",
     "output_type": "stream",
     "text": [
      "With this estimation we can say that the vaccines will end in: [1164.97696409]\n"
     ]
    }
   ],
   "source": [
    "estimadted_days_passed = find_x_value_for_given_y(lr_pv,no_of_vaccines)\n",
    "print('With this estimation we can say that the vaccines will end in: {}'.format(estimadted_days_passed))"
   ]
  },
  {
   "cell_type": "code",
   "execution_count": 52,
   "id": "5bb9ebbe",
   "metadata": {},
   "outputs": [
    {
     "name": "stdout",
     "output_type": "stream",
     "text": [
      "Converting the value to a Date the estimation says that the Vaccines will be over in: \n",
      "2024-03-24\n"
     ]
    }
   ],
   "source": [
    "end_date = start_date + pd.Timedelta(days=estimadted_days_passed[0])\n",
    "print('Converting the value to a Date the estimation says that the Vaccines will be over in: \\n{}'.format(end_date.strftime('%Y-%m-%d')))"
   ]
  },
  {
   "cell_type": "markdown",
   "id": "d6468739",
   "metadata": {},
   "source": [
    "__Polynomial Fit for Total Vaccinations__"
   ]
  },
  {
   "cell_type": "code",
   "execution_count": 53,
   "id": "76a64b0d",
   "metadata": {},
   "outputs": [],
   "source": [
    "def estimate_numbers_of_days_needed(polynomial_model,initial_days=450,degree=2):\n",
    "    poly=PolynomialFeatures(degree)\n",
    "    days = initial_days\n",
    "    for i in range(1500):\n",
    "        res = polynomial_model.predict(poly.fit_transform([[days]]))\n",
    "        days += 1\n",
    "        if res[0][0] >= no_of_vaccines:\n",
    "            loop_is_on = False\n",
    "            break\n",
    "    return days"
   ]
  },
  {
   "cell_type": "code",
   "execution_count": 54,
   "id": "ca157ba2",
   "metadata": {},
   "outputs": [],
   "source": [
    "x = ndata.iloc[:,0:1].values # days_passed\n",
    "y = ndata.iloc[:,1:2].values # total_vaccinations"
   ]
  },
  {
   "cell_type": "code",
   "execution_count": 55,
   "id": "a892749c",
   "metadata": {},
   "outputs": [
    {
     "data": {
      "text/plain": [
       "[<matplotlib.lines.Line2D at 0x2587527cbb0>]"
      ]
     },
     "execution_count": 55,
     "metadata": {},
     "output_type": "execute_result"
    },
    {
     "data": {
      "image/png": "[encoded data removed]",
      "text/plain": [
       "<Figure size 432x288 with 1 Axes>"
      ]
     },
     "metadata": {
      "needs_background": "light"
     },
     "output_type": "display_data"
    }
   ],
   "source": [
    "plt.plot(x,y)"
   ]
  },
  {
   "cell_type": "code",
   "execution_count": 56,
   "id": "12eb1ada",
   "metadata": {},
   "outputs": [],
   "source": [
    "poly=PolynomialFeatures(degree=2)\n",
    "x_poly = poly.fit_transform(x)"
   ]
  },
  {
   "cell_type": "code",
   "execution_count": 57,
   "id": "5f0f3b55",
   "metadata": {},
   "outputs": [
    {
     "data": {
      "text/plain": [
       "LinearRegression()"
      ]
     },
     "execution_count": 57,
     "metadata": {},
     "output_type": "execute_result"
    }
   ],
   "source": [
    "pilreg=LinearRegression()\n",
    "pilreg.fit(x_poly,y)"
   ]
  },
  {
   "cell_type": "code",
   "execution_count": 58,
   "id": "7daf701b",
   "metadata": {
    "scrolled": true
   },
   "outputs": [
    {
     "data": {
      "text/plain": [
       "[<matplotlib.lines.Line2D at 0x2587513d2e0>]"
      ]
     },
     "execution_count": 58,
     "metadata": {},
     "output_type": "execute_result"
    },
    {
     "data": {
      "image/png": "[encoded data removed]",
      "text/plain": [
       "<Figure size 432x288 with 1 Axes>"
      ]
     },
     "metadata": {
      "needs_background": "light"
     },
     "output_type": "display_data"
    }
   ],
   "source": [
    "plt.scatter(x,y,color='red')\n",
    "plt.plot(x,pilreg.predict(x_poly),color='blue')"
   ]
  },
  {
   "cell_type": "code",
   "execution_count": 59,
   "id": "1d9cd116",
   "metadata": {},
   "outputs": [
    {
     "name": "stdout",
     "output_type": "stream",
     "text": [
      "y = [[     0.         313217.89530425    406.29499192]]*x + [-12454022.0148778]\n"
     ]
    }
   ],
   "source": [
    "print_linear_model_information(pilreg)"
   ]
  },
  {
   "cell_type": "code",
   "execution_count": 60,
   "id": "984790b5",
   "metadata": {},
   "outputs": [
    {
     "name": "stdout",
     "output_type": "stream",
     "text": [
      "With this estimation we can say that the vaccines will end in: 518\n"
     ]
    }
   ],
   "source": [
    "estimadted_days_passed = estimate_numbers_of_days_needed(pilreg,degree=2)\n",
    "print('With this estimation we can say that the vaccines will end in: {}'.format(estimadted_days_passed))"
   ]
  },
  {
   "cell_type": "code",
   "execution_count": 61,
   "id": "d6987302",
   "metadata": {
    "scrolled": true
   },
   "outputs": [
    {
     "name": "stdout",
     "output_type": "stream",
     "text": [
      "Converting the value to a Date the estimation says that the Vaccines will be over in: \n",
      "2022-06-17\n"
     ]
    }
   ],
   "source": [
    "end_date = start_date + pd.Timedelta(days=estimadted_days_passed)\n",
    "print('Converting the value to a Date the estimation says that the Vaccines will be over in: \\n{}'.format(end_date.strftime('%Y-%m-%d')))"
   ]
  },
  {
   "cell_type": "markdown",
   "id": "537f4f27",
   "metadata": {},
   "source": [
    "___"
   ]
  },
  {
   "cell_type": "code",
   "execution_count": 62,
   "id": "82abb67f",
   "metadata": {},
   "outputs": [],
   "source": [
    "poly=PolynomialFeatures(degree=3)\n",
    "x_poly = poly.fit_transform(x)"
   ]
  },
  {
   "cell_type": "code",
   "execution_count": 63,
   "id": "c5b5c2a5",
   "metadata": {},
   "outputs": [
    {
     "data": {
      "text/plain": [
       "LinearRegression()"
      ]
     },
     "execution_count": 63,
     "metadata": {},
     "output_type": "execute_result"
    }
   ],
   "source": [
    "pilreg=LinearRegression()\n",
    "pilreg.fit(x_poly,y)"
   ]
  },
  {
   "cell_type": "code",
   "execution_count": 64,
   "id": "52cbcbb8",
   "metadata": {},
   "outputs": [
    {
     "data": {
      "text/plain": [
       "[<matplotlib.lines.Line2D at 0x25874f96a00>]"
      ]
     },
     "execution_count": 64,
     "metadata": {},
     "output_type": "execute_result"
    },
    {
     "data": {
      "image/png": "[encoded data removed]",
      "text/plain": [
       "<Figure size 432x288 with 1 Axes>"
      ]
     },
     "metadata": {
      "needs_background": "light"
     },
     "output_type": "display_data"
    }
   ],
   "source": [
    "plt.scatter(x,y,color='red')\n",
    "plt.plot(x,pilreg.predict(x_poly),color='blue')"
   ]
  },
  {
   "cell_type": "code",
   "execution_count": 65,
   "id": "56a25435",
   "metadata": {},
   "outputs": [
    {
     "name": "stdout",
     "output_type": "stream",
     "text": [
      "y = [[ 0.00000000e+00 -5.35334357e+04  2.60529472e+03 -3.43206281e+00]]*x + [-190219.28308056]\n"
     ]
    }
   ],
   "source": [
    "print_linear_model_information(pilreg)"
   ]
  },
  {
   "cell_type": "code",
   "execution_count": 66,
   "id": "6048cfeb",
   "metadata": {},
   "outputs": [
    {
     "name": "stdout",
     "output_type": "stream",
     "text": [
      "With this estimation we can say that the vaccines will end in: 1950\n"
     ]
    }
   ],
   "source": [
    "estimadted_days_passed = estimate_numbers_of_days_needed(pilreg,degree=3)\n",
    "print('With this estimation we can say that the vaccines will end in: {}'.format(estimadted_days_passed))"
   ]
  },
  {
   "cell_type": "code",
   "execution_count": 67,
   "id": "9c6a44ec",
   "metadata": {},
   "outputs": [
    {
     "name": "stdout",
     "output_type": "stream",
     "text": [
      "Converting the value to a Date the estimation says that the Vaccines will be over in: \n",
      "2026-05-19\n"
     ]
    }
   ],
   "source": [
    "end_date = start_date + pd.Timedelta(days=estimadted_days_passed)\n",
    "print('Converting the value to a Date the estimation says that the Vaccines will be over in: \\n{}'.format(end_date.strftime('%Y-%m-%d')))"
   ]
  },
  {
   "cell_type": "markdown",
   "id": "ad3725fe",
   "metadata": {},
   "source": [
    "__Polynomial Fit for People Vaccinated__"
   ]
  },
  {
   "cell_type": "code",
   "execution_count": 68,
   "id": "ab43a8cf",
   "metadata": {},
   "outputs": [
    {
     "data": {
      "text/html": [
       "<div>\n",
       "<style scoped>\n",
       "    .dataframe tbody tr th:only-of-type {\n",
       "        vertical-align: middle;\n",
       "    }\n",
       "\n",
       "    .dataframe tbody tr th {\n",
       "        vertical-align: top;\n",
       "    }\n",
       "\n",
       "    .dataframe thead th {\n",
       "        text-align: right;\n",
       "    }\n",
       "</style>\n",
       "<table border=\"1\" class=\"dataframe\">\n",
       "  <thead>\n",
       "    <tr style=\"text-align: right;\">\n",
       "      <th></th>\n",
       "      <th>days_passed</th>\n",
       "      <th>total_vaccinations</th>\n",
       "      <th>people_vaccinated</th>\n",
       "      <th>people_fully_vaccinated</th>\n",
       "      <th>daily_vaccinations_raw</th>\n",
       "      <th>daily_vaccinations</th>\n",
       "      <th>total_vaccinations_per_hundred</th>\n",
       "      <th>people_vaccinated_per_hundred</th>\n",
       "      <th>people_fully_vaccinated_per_hundred</th>\n",
       "      <th>daily_vaccinations_per_million</th>\n",
       "    </tr>\n",
       "  </thead>\n",
       "  <tbody>\n",
       "    <tr>\n",
       "      <th>0</th>\n",
       "      <td>0</td>\n",
       "      <td>417375.0</td>\n",
       "      <td>415417.0</td>\n",
       "      <td>1958.0</td>\n",
       "      <td>87392.0</td>\n",
       "      <td>49987.0</td>\n",
       "      <td>0.32</td>\n",
       "      <td>0.32</td>\n",
       "      <td>0.00</td>\n",
       "      <td>384.0</td>\n",
       "    </tr>\n",
       "    <tr>\n",
       "      <th>1</th>\n",
       "      <td>1</td>\n",
       "      <td>463246.0</td>\n",
       "      <td>461025.0</td>\n",
       "      <td>2221.0</td>\n",
       "      <td>45871.0</td>\n",
       "      <td>55493.0</td>\n",
       "      <td>0.36</td>\n",
       "      <td>0.35</td>\n",
       "      <td>0.00</td>\n",
       "      <td>426.0</td>\n",
       "    </tr>\n",
       "    <tr>\n",
       "      <th>2</th>\n",
       "      <td>2</td>\n",
       "      <td>472142.0</td>\n",
       "      <td>468708.0</td>\n",
       "      <td>3434.0</td>\n",
       "      <td>8896.0</td>\n",
       "      <td>55835.0</td>\n",
       "      <td>0.36</td>\n",
       "      <td>0.36</td>\n",
       "      <td>0.00</td>\n",
       "      <td>429.0</td>\n",
       "    </tr>\n",
       "    <tr>\n",
       "      <th>3</th>\n",
       "      <td>3</td>\n",
       "      <td>492529.0</td>\n",
       "      <td>485983.0</td>\n",
       "      <td>6546.0</td>\n",
       "      <td>20387.0</td>\n",
       "      <td>57924.0</td>\n",
       "      <td>0.38</td>\n",
       "      <td>0.37</td>\n",
       "      <td>0.01</td>\n",
       "      <td>445.0</td>\n",
       "    </tr>\n",
       "    <tr>\n",
       "      <th>4</th>\n",
       "      <td>4</td>\n",
       "      <td>498122.0</td>\n",
       "      <td>488513.0</td>\n",
       "      <td>9609.0</td>\n",
       "      <td>5593.0</td>\n",
       "      <td>57892.0</td>\n",
       "      <td>0.38</td>\n",
       "      <td>0.38</td>\n",
       "      <td>0.01</td>\n",
       "      <td>444.0</td>\n",
       "    </tr>\n",
       "  </tbody>\n",
       "</table>\n",
       "</div>"
      ],
      "text/plain": [
       "   days_passed  total_vaccinations  people_vaccinated  \\\n",
       "0            0            417375.0           415417.0   \n",
       "1            1            463246.0           461025.0   \n",
       "2            2            472142.0           468708.0   \n",
       "3            3            492529.0           485983.0   \n",
       "4            4            498122.0           488513.0   \n",
       "\n",
       "   people_fully_vaccinated  daily_vaccinations_raw  daily_vaccinations  \\\n",
       "0                   1958.0                 87392.0             49987.0   \n",
       "1                   2221.0                 45871.0             55493.0   \n",
       "2                   3434.0                  8896.0             55835.0   \n",
       "3                   6546.0                 20387.0             57924.0   \n",
       "4                   9609.0                  5593.0             57892.0   \n",
       "\n",
       "   total_vaccinations_per_hundred  people_vaccinated_per_hundred  \\\n",
       "0                            0.32                           0.32   \n",
       "1                            0.36                           0.35   \n",
       "2                            0.36                           0.36   \n",
       "3                            0.38                           0.37   \n",
       "4                            0.38                           0.38   \n",
       "\n",
       "   people_fully_vaccinated_per_hundred  daily_vaccinations_per_million  \n",
       "0                                 0.00                           384.0  \n",
       "1                                 0.00                           426.0  \n",
       "2                                 0.00                           429.0  \n",
       "3                                 0.01                           445.0  \n",
       "4                                 0.01                           444.0  "
      ]
     },
     "execution_count": 68,
     "metadata": {},
     "output_type": "execute_result"
    }
   ],
   "source": [
    "ndata.head()"
   ]
  },
  {
   "cell_type": "code",
   "execution_count": 69,
   "id": "39dd67b5",
   "metadata": {},
   "outputs": [],
   "source": [
    "x = ndata.iloc[:,0:1].values # days_passed\n",
    "y = ndata.iloc[:,2:3].values # people vaccinated"
   ]
  },
  {
   "cell_type": "code",
   "execution_count": 70,
   "id": "4e984767",
   "metadata": {},
   "outputs": [],
   "source": [
    "poly=PolynomialFeatures(degree=2)\n",
    "x_poly = poly.fit_transform(x)"
   ]
  },
  {
   "cell_type": "code",
   "execution_count": 71,
   "id": "02a079d8",
   "metadata": {},
   "outputs": [
    {
     "data": {
      "text/plain": [
       "LinearRegression()"
      ]
     },
     "execution_count": 71,
     "metadata": {},
     "output_type": "execute_result"
    }
   ],
   "source": [
    "pilreg=LinearRegression()\n",
    "pilreg.fit(x_poly,y)"
   ]
  },
  {
   "cell_type": "code",
   "execution_count": 72,
   "id": "8fa9e50e",
   "metadata": {},
   "outputs": [
    {
     "data": {
      "text/plain": [
       "[<matplotlib.lines.Line2D at 0x258752feeb0>]"
      ]
     },
     "execution_count": 72,
     "metadata": {},
     "output_type": "execute_result"
    },
    {
     "data": {
      "image/png": "[encoded data removed]",
      "text/plain": [
       "<Figure size 432x288 with 1 Axes>"
      ]
     },
     "metadata": {
      "needs_background": "light"
     },
     "output_type": "display_data"
    }
   ],
   "source": [
    "plt.scatter(x,y,color='red')\n",
    "plt.plot(x,pilreg.predict(x_poly),color='blue')"
   ]
  },
  {
   "cell_type": "code",
   "execution_count": 73,
   "id": "71a2f22a",
   "metadata": {},
   "outputs": [
    {
     "name": "stdout",
     "output_type": "stream",
     "text": [
      "y = [[ 0.00000000e+00  3.25576222e+05 -1.89552861e+02]]*x + [-12113051.53212278]\n"
     ]
    }
   ],
   "source": [
    "print_linear_model_information(pilreg)"
   ]
  },
  {
   "cell_type": "code",
   "execution_count": 74,
   "id": "5b9ecbdf",
   "metadata": {},
   "outputs": [
    {
     "name": "stdout",
     "output_type": "stream",
     "text": [
      "With this estimation we can say that the vaccines will end in: 1950\n"
     ]
    }
   ],
   "source": [
    "estimadted_days_passed = estimate_numbers_of_days_needed(pilreg,degree=2)\n",
    "print('With this estimation we can say that the vaccines will end in: {}'.format(estimadted_days_passed))"
   ]
  },
  {
   "cell_type": "code",
   "execution_count": 75,
   "id": "4108b3eb",
   "metadata": {},
   "outputs": [
    {
     "name": "stdout",
     "output_type": "stream",
     "text": [
      "Converting the value to a Date the estimation says that the Vaccines will be over in: \n",
      "2026-05-19\n"
     ]
    }
   ],
   "source": [
    "end_date = start_date + pd.Timedelta(days=estimadted_days_passed)\n",
    "print('Converting the value to a Date the estimation says that the Vaccines will be over in: \\n{}'.format(end_date.strftime('%Y-%m-%d')))"
   ]
  },
  {
   "cell_type": "markdown",
   "id": "46f90452",
   "metadata": {},
   "source": [
    "___"
   ]
  },
  {
   "cell_type": "code",
   "execution_count": 76,
   "id": "c20e9ab6",
   "metadata": {},
   "outputs": [],
   "source": [
    "poly=PolynomialFeatures(degree=3)\n",
    "x_poly = poly.fit_transform(x)"
   ]
  },
  {
   "cell_type": "code",
   "execution_count": 77,
   "id": "b266082e",
   "metadata": {},
   "outputs": [
    {
     "data": {
      "text/plain": [
       "LinearRegression()"
      ]
     },
     "execution_count": 77,
     "metadata": {},
     "output_type": "execute_result"
    }
   ],
   "source": [
    "pilreg=LinearRegression()\n",
    "pilreg.fit(x_poly,y)"
   ]
  },
  {
   "cell_type": "code",
   "execution_count": 78,
   "id": "6f110f86",
   "metadata": {},
   "outputs": [
    {
     "data": {
      "text/plain": [
       "[<matplotlib.lines.Line2D at 0x25875370430>]"
      ]
     },
     "execution_count": 78,
     "metadata": {},
     "output_type": "execute_result"
    },
    {
     "data": {
      "image/png": "[encoded data removed]",
      "text/plain": [
       "<Figure size 432x288 with 1 Axes>"
      ]
     },
     "metadata": {
      "needs_background": "light"
     },
     "output_type": "display_data"
    }
   ],
   "source": [
    "plt.scatter(x,y,color='red')\n",
    "plt.plot(x,pilreg.predict(x_poly),color='blue')"
   ]
  },
  {
   "cell_type": "code",
   "execution_count": 79,
   "id": "479affd2",
   "metadata": {},
   "outputs": [
    {
     "name": "stdout",
     "output_type": "stream",
     "text": [
      "y = [[ 0.00000000e+00 -2.20694088e+04  1.89489123e+03 -3.25327147e+00]]*x + [-488124.56334455]\n"
     ]
    }
   ],
   "source": [
    "print_linear_model_information(pilreg)"
   ]
  },
  {
   "cell_type": "code",
   "execution_count": 80,
   "id": "872beaeb",
   "metadata": {},
   "outputs": [
    {
     "name": "stdout",
     "output_type": "stream",
     "text": [
      "With this estimation we can say that the vaccines will end in: 1950\n"
     ]
    }
   ],
   "source": [
    "estimadted_days_passed = estimate_numbers_of_days_needed(pilreg,degree=3)\n",
    "print('With this estimation we can say that the vaccines will end in: {}'.format(estimadted_days_passed))"
   ]
  },
  {
   "cell_type": "code",
   "execution_count": 81,
   "id": "54b5eaed",
   "metadata": {},
   "outputs": [
    {
     "name": "stdout",
     "output_type": "stream",
     "text": [
      "Converting the value to a Date the estimation says that the Vaccines will be over in: \n",
      "2026-05-19\n"
     ]
    }
   ],
   "source": [
    "end_date = start_date + pd.Timedelta(days=estimadted_days_passed)\n",
    "print('Converting the value to a Date the estimation says that the Vaccines will be over in: \\n{}'.format(end_date.strftime('%Y-%m-%d')))"
   ]
  }
 ],
 "metadata": {
  "kernelspec": {
   "display_name": "Python 3 (ipykernel)",
   "language": "python",
   "name": "python3"
  },
  "language_info": {
   "codemirror_mode": {
    "name": "ipython",
    "version": 3
   },
   "file_extension": ".py",
   "mimetype": "text/x-python",
   "name": "python",
   "nbconvert_exporter": "python",
   "pygments_lexer": "ipython3",
   "version": "3.9.7"
  }
 },
 "nbformat": 4,
 "nbformat_minor": 5
}
